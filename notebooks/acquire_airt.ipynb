{
 "cells": [
  {
   "cell_type": "code",
   "execution_count": 1,
   "id": "d6d434fc",
   "metadata": {},
   "outputs": [],
   "source": [
    "from edge_sensor.sdr import airt\n",
    "import labbench as lb\n",
    "\n",
    "lb.show_messages('debug')\n",
    "sdr = airt.AirTSource()"
   ]
  },
  {
   "cell_type": "code",
   "execution_count": 2,
   "id": "ddd55b91",
   "metadata": {},
   "outputs": [
    {
     "name": "stderr",
     "output_type": "stream",
     "text": [
      "\u001b[1;30m DEBUG \u001b[0m \u001b[32m2024-06-28 16:45:39,730.731\u001b[0m • \u001b[34mAirTSource():\u001b[0m connecting\n",
      "\u001b[1;30m DEBUG \u001b[0m \u001b[32m2024-06-28 16:45:45,675.676\u001b[0m • \u001b[34mAirTSource():\u001b[0m connected\n",
      "\u001b[1;30m DEBUG \u001b[0m \u001b[32m2024-06-28 16:45:53,081.082\u001b[0m • \u001b[34mAirTSource():\u001b[0m opened\n"
     ]
    }
   ],
   "source": [
    "sdr.open()"
   ]
  },
  {
   "cell_type": "code",
   "execution_count": 3,
   "id": "39361131",
   "metadata": {},
   "outputs": [
    {
     "name": "stderr",
     "output_type": "stream",
     "text": [
      "\u001b[1;30m DEBUG \u001b[0m \u001b[32m2024-06-28 16:45:53,158.158\u001b[0m • \u001b[34mAirTSource():\u001b[0m 20833333.333333332 (Hz) → sample_rate\n",
      "\u001b[1;30m DEBUG \u001b[0m \u001b[32m2024-06-28 16:45:53,163.164\u001b[0m • \u001b[34mAirTSource():\u001b[0m 20833333.333333332 (Hz) → backend_sample_rate\n",
      "\u001b[1;30m DEBUG \u001b[0m \u001b[32m2024-06-28 16:45:53,166.166\u001b[0m • \u001b[34mAirTSource():\u001b[0m 15360000.0 (Hz) → sample_rate\n",
      "\u001b[1;30m DEBUG \u001b[0m \u001b[32m2024-06-28 16:45:53,173.174\u001b[0m • \u001b[34mAirTSource():\u001b[0m 10000000.0 (Hz) → analysis_bandwidth\n"
     ]
    },
    {
     "data": {
      "text/plain": [
       "{'window': 'hamming',\n",
       " 'fft_size': 3125,\n",
       " 'fft_size_out': 2304,\n",
       " 'frequency_shift': 'left',\n",
       " 'passband': (-10473333.333333332, -473333.333333333),\n",
       " 'fs': 20833333.333333332}"
      ]
     },
     "execution_count": 3,
     "metadata": {},
     "output_type": "execute_result"
    }
   ],
   "source": [
    "sdr.autosample(3710e6, 15.36e6, 10e6, shift='left')\n",
    "sdr.analysis_filter"
   ]
  },
  {
   "cell_type": "code",
   "execution_count": 14,
   "id": "482446e5",
   "metadata": {},
   "outputs": [
    {
     "name": "stderr",
     "output_type": "stream",
     "text": [
      "\u001b[1;30m DEBUG \u001b[0m \u001b[32m2024-06-28 16:48:53,707.708\u001b[0m • \u001b[34mAirTSource():\u001b[0m True  → channel_enabled\n"
     ]
    },
    {
     "name": "stdout",
     "output_type": "stream",
     "text": [
      "<class 'cupy.ndarray'>\n",
      "<class 'cupy.ndarray'> <class 'cupy.ndarray'>\n",
      "<class 'cupy.ndarray'>\n",
      "<class 'cupy.ndarray'> <class 'cupy.ndarray'>\n",
      "121 ms ± 0 ns per loop (mean ± std. dev. of 1 run, 1 loop each)\n"
     ]
    },
    {
     "name": "stderr",
     "output_type": "stream",
     "text": [
      "\u001b[1;30m DEBUG \u001b[0m \u001b[32m2024-06-28 16:48:54,016.017\u001b[0m • \u001b[34mAirTSource():\u001b[0m False  → channel_enabled\n"
     ]
    }
   ],
   "source": [
    "sdr.channel_enabled(True, channel=0)\n",
    "try:\n",
    "    iq = sdr.acquire(0.09*15.36e6)\n",
    "    %timeit -n1 -r1 sdr.acquire(0.09*15.36e6)\n",
    "finally:\n",
    "    sdr.channel_enabled(False, channel=0)"
   ]
  },
  {
   "cell_type": "code",
   "execution_count": 15,
   "id": "1a19ae00",
   "metadata": {},
   "outputs": [
    {
     "name": "stderr",
     "output_type": "stream",
     "text": [
      "\u001b[1;30m DEBUG \u001b[0m \u001b[32m2024-06-28 16:49:11,498.499\u001b[0m • \u001b[34mAirTSource():\u001b[0m True  → channel_enabled\n"
     ]
    }
   ],
   "source": [
    "sdr.channel_enabled(True, channel=0)\n"
   ]
  },
  {
   "cell_type": "code",
   "execution_count": null,
   "id": "b6f6fe0f",
   "metadata": {},
   "outputs": [],
   "source": [
    "iq = sdr.acquire(0.09*15.36e6)\n"
   ]
  },
  {
   "cell_type": "code",
   "execution_count": null,
   "id": "c91d177f-8ff2-4ba9-a4da-b22885c1d439",
   "metadata": {},
   "outputs": [],
   "source": [
    "# import sklearn.linear_model\n",
    "from edge_sensor.sdr import airt\n",
    "from channel_analysis import waveform\n",
    "from iqwaveform import fourier\n",
    "\n",
    "duration = 0.1\n",
    "center_frequency_Hz = 763e6\n",
    "source.analysis_bandwidth = 10e6\n",
    "source.sample_rate = 15.36e6\n",
    "\n",
    "fs_sdr, lo_offset, resample_kws = fourier.design_cola_frequency_shift(fs_base=125e6, fs_target=source.sample_rate, bw=source.analysis_bandwidth)\n",
    "\n",
    "print('connecting...')\n",
    "capture = airt.AirTCapture(frequency_Hz=center_frequency_Hz+2*lo_offset, source.sample_rate=fs_sdr, gain_dB=0)\n",
    "\n",
    "try:\n",
    "    print('acquiring...')\n",
    "    raw_iq = capture.acquire(int(duration * fs_sdr))\n",
    "    resample_kws['frequency_shift'] = 'right'\n",
    "    iq = fourier.ola_filter(raw_iq, extend=True, **resample_kws)\n",
    "finally:\n",
    "    print('done')\n",
    "    capture.close()\n",
    "\n",
    "# # Option 2: No resample and shift\n",
    "# print('connecting...')\n",
    "# capture = airt.AirTCapture(frequency_Hz=center_frequency_Hz, source.sample_rate=source.sample_rate, gain_dB=0)\n",
    "\n",
    "# try:\n",
    "#     print('acquiring...')\n",
    "#     iq = capture.acquire(int(duration * source.sample_rate))\n",
    "# finally:\n",
    "#     print('done')\n",
    "#     capture.close()"
   ]
  },
  {
   "cell_type": "code",
   "execution_count": 19,
   "id": "0a15d42a-2753-46a4-ac6c-505796b62938",
   "metadata": {
    "scrolled": true
   },
   "outputs": [
    {
     "name": "stderr",
     "output_type": "stream",
     "text": [
      "\u001b[1;30m DEBUG \u001b[0m \u001b[32m2024-06-28 16:50:37,256.257\u001b[0m • \u001b[34mAirTSource():\u001b[0m sample_rate → 20833492.279052734  (Hz)\n",
      "\u001b[1;30m DEBUG \u001b[0m \u001b[32m2024-06-28 16:50:37,259.260\u001b[0m • \u001b[34mAirTSource():\u001b[0m backend_sample_rate → 20833492.279052734  (Hz)\n",
      "\u001b[1;30m DEBUG \u001b[0m \u001b[32m2024-06-28 16:50:37,263.263\u001b[0m • \u001b[34mAirTSource():\u001b[0m sample_rate → 15360117.1875  (Hz)\n"
     ]
    },
    {
     "ename": "ValueError",
     "evalue": "bin period (0.01 s) must be multiple of waveform sample period (6.510366996508307e-08)",
     "output_type": "error",
     "traceback": [
      "\u001b[0;31m---------------------------------------------------------------------------\u001b[0m",
      "\u001b[0;31mValueError\u001b[0m                                Traceback (most recent call last)",
      "Cell \u001b[0;32mIn[19], line 34\u001b[0m\n\u001b[1;32m      4\u001b[0m analysis_spec \u001b[38;5;241m=\u001b[39m {\n\u001b[1;32m      5\u001b[0m     \u001b[38;5;124m'\u001b[39m\u001b[38;5;124mpower_time_series\u001b[39m\u001b[38;5;124m'\u001b[39m: {\n\u001b[1;32m      6\u001b[0m         \u001b[38;5;124m'\u001b[39m\u001b[38;5;124mdetector_period\u001b[39m\u001b[38;5;124m'\u001b[39m: \u001b[38;5;241m10e-3\u001b[39m,\n\u001b[0;32m   (...)\u001b[0m\n\u001b[1;32m     29\u001b[0m     \u001b[38;5;66;03m# }\u001b[39;00m\n\u001b[1;32m     30\u001b[0m }\n\u001b[1;32m     32\u001b[0m filter_spec \u001b[38;5;241m=\u001b[39m {}\n\u001b[0;32m---> 34\u001b[0m dataset \u001b[38;5;241m=\u001b[39m \u001b[43mwaveform\u001b[49m\u001b[38;5;241;43m.\u001b[39;49m\u001b[43mfrom_spec\u001b[49m\u001b[43m(\u001b[49m\n\u001b[1;32m     35\u001b[0m \u001b[43m    \u001b[49m\u001b[43miq\u001b[49m\u001b[43m,\u001b[49m\n\u001b[1;32m     36\u001b[0m \u001b[43m    \u001b[49m\u001b[43msdr\u001b[49m\u001b[43m,\u001b[49m\n\u001b[1;32m     37\u001b[0m \u001b[43m    \u001b[49m\u001b[43manalysis_spec\u001b[49m\u001b[38;5;241;43m=\u001b[39;49m\u001b[43manalysis_spec\u001b[49m\u001b[43m,\u001b[49m\n\u001b[1;32m     38\u001b[0m \u001b[43m)\u001b[49m\n",
      "File \u001b[0;32m~/Documents/spectrum-sensor-edge-analysis/src/channel_analysis/waveform.py:491\u001b[0m, in \u001b[0;36mfrom_spec\u001b[0;34m(iq, source, analysis_spec, cache)\u001b[0m\n\u001b[1;32m    489\u001b[0m         \u001b[38;5;28;01mpass\u001b[39;00m\n\u001b[1;32m    490\u001b[0m     \u001b[38;5;28;01melse\u001b[39;00m:\n\u001b[0;32m--> 491\u001b[0m         results[func\u001b[38;5;241m.\u001b[39m\u001b[38;5;18m__name__\u001b[39m] \u001b[38;5;241m=\u001b[39m \u001b[43mfunc\u001b[49m\u001b[43m(\u001b[49m\u001b[43miq\u001b[49m\u001b[43m,\u001b[49m\u001b[43m \u001b[49m\u001b[43msource\u001b[49m\u001b[43m,\u001b[49m\u001b[43m \u001b[49m\u001b[38;5;241;43m*\u001b[39;49m\u001b[38;5;241;43m*\u001b[39;49m\u001b[43mfunc_kws\u001b[49m\u001b[43m)\u001b[49m\n\u001b[1;32m    493\u001b[0m \u001b[38;5;28;01mif\u001b[39;00m \u001b[38;5;28mlen\u001b[39m(analysis_spec) \u001b[38;5;241m>\u001b[39m \u001b[38;5;241m0\u001b[39m:\n\u001b[1;32m    494\u001b[0m     \u001b[38;5;66;03m# anything left refers to an invalid function invalid\u001b[39;00m\n\u001b[1;32m    495\u001b[0m     \u001b[38;5;28;01mraise\u001b[39;00m \u001b[38;5;167;01mValueError\u001b[39;00m(\u001b[38;5;124mf\u001b[39m\u001b[38;5;124m'\u001b[39m\u001b[38;5;124minvalid analysis_spec key(s): \u001b[39m\u001b[38;5;132;01m{\u001b[39;00m\u001b[38;5;28mlist\u001b[39m(analysis_spec\u001b[38;5;241m.\u001b[39mkeys())\u001b[38;5;132;01m}\u001b[39;00m\u001b[38;5;124m'\u001b[39m)\n",
      "File \u001b[0;32m~/Documents/spectrum-sensor-edge-analysis/src/channel_analysis/waveform.py:107\u001b[0m, in \u001b[0;36mpower_time_series\u001b[0;34m(iq, source, detector_period, detectors)\u001b[0m\n\u001b[1;32m    104\u001b[0m xp \u001b[38;5;241m=\u001b[39m array_namespace(iq)\n\u001b[1;32m    105\u001b[0m dtype \u001b[38;5;241m=\u001b[39m xp\u001b[38;5;241m.\u001b[39mfinfo(iq\u001b[38;5;241m.\u001b[39mdtype)\u001b[38;5;241m.\u001b[39mdtype\n\u001b[0;32m--> 107\u001b[0m data \u001b[38;5;241m=\u001b[39m [\n\u001b[1;32m    108\u001b[0m     iqwaveform\u001b[38;5;241m.\u001b[39mpowtodB(\n\u001b[1;32m    109\u001b[0m         iqwaveform\u001b[38;5;241m.\u001b[39miq_to_bin_power(iq, Ts\u001b[38;5;241m=\u001b[39mTs, Tbin\u001b[38;5;241m=\u001b[39mdetector_period, kind\u001b[38;5;241m=\u001b[39mdetector)\n\u001b[1;32m    110\u001b[0m     )\u001b[38;5;241m.\u001b[39mastype(dtype)\n\u001b[1;32m    111\u001b[0m     \u001b[38;5;28;01mfor\u001b[39;00m detector \u001b[38;5;129;01min\u001b[39;00m detectors\n\u001b[1;32m    112\u001b[0m ]\n\u001b[1;32m    114\u001b[0m coords \u001b[38;5;241m=\u001b[39m _power_time_series_coords(detectors, detector_period, \u001b[38;5;28mlen\u001b[39m(data[\u001b[38;5;241m0\u001b[39m]))\n\u001b[1;32m    116\u001b[0m metadata \u001b[38;5;241m=\u001b[39m {\n\u001b[1;32m    117\u001b[0m     \u001b[38;5;124m'\u001b[39m\u001b[38;5;124mdetector_period\u001b[39m\u001b[38;5;124m'\u001b[39m: detector_period,\n\u001b[1;32m    118\u001b[0m     \u001b[38;5;124m'\u001b[39m\u001b[38;5;124mlabel\u001b[39m\u001b[38;5;124m'\u001b[39m: \u001b[38;5;124m'\u001b[39m\u001b[38;5;124mChannel power\u001b[39m\u001b[38;5;124m'\u001b[39m,\n\u001b[1;32m    119\u001b[0m     \u001b[38;5;124m'\u001b[39m\u001b[38;5;124munits\u001b[39m\u001b[38;5;124m'\u001b[39m: \u001b[38;5;124mf\u001b[39m\u001b[38;5;124m'\u001b[39m\u001b[38;5;124mdBm/\u001b[39m\u001b[38;5;132;01m{\u001b[39;00msource\u001b[38;5;241m.\u001b[39manalysis_bandwidth\u001b[38;5;241m/\u001b[39m\u001b[38;5;241m1e6\u001b[39m\u001b[38;5;132;01m}\u001b[39;00m\u001b[38;5;124m MHz\u001b[39m\u001b[38;5;124m'\u001b[39m,\n\u001b[1;32m    120\u001b[0m }\n",
      "File \u001b[0;32m~/Documents/spectrum-sensor-edge-analysis/src/channel_analysis/waveform.py:109\u001b[0m, in \u001b[0;36m<listcomp>\u001b[0;34m(.0)\u001b[0m\n\u001b[1;32m    104\u001b[0m xp \u001b[38;5;241m=\u001b[39m array_namespace(iq)\n\u001b[1;32m    105\u001b[0m dtype \u001b[38;5;241m=\u001b[39m xp\u001b[38;5;241m.\u001b[39mfinfo(iq\u001b[38;5;241m.\u001b[39mdtype)\u001b[38;5;241m.\u001b[39mdtype\n\u001b[1;32m    107\u001b[0m data \u001b[38;5;241m=\u001b[39m [\n\u001b[1;32m    108\u001b[0m     iqwaveform\u001b[38;5;241m.\u001b[39mpowtodB(\n\u001b[0;32m--> 109\u001b[0m         \u001b[43miqwaveform\u001b[49m\u001b[38;5;241;43m.\u001b[39;49m\u001b[43miq_to_bin_power\u001b[49m\u001b[43m(\u001b[49m\u001b[43miq\u001b[49m\u001b[43m,\u001b[49m\u001b[43m \u001b[49m\u001b[43mTs\u001b[49m\u001b[38;5;241;43m=\u001b[39;49m\u001b[43mTs\u001b[49m\u001b[43m,\u001b[49m\u001b[43m \u001b[49m\u001b[43mTbin\u001b[49m\u001b[38;5;241;43m=\u001b[39;49m\u001b[43mdetector_period\u001b[49m\u001b[43m,\u001b[49m\u001b[43m \u001b[49m\u001b[43mkind\u001b[49m\u001b[38;5;241;43m=\u001b[39;49m\u001b[43mdetector\u001b[49m\u001b[43m)\u001b[49m\n\u001b[1;32m    110\u001b[0m     )\u001b[38;5;241m.\u001b[39mastype(dtype)\n\u001b[1;32m    111\u001b[0m     \u001b[38;5;28;01mfor\u001b[39;00m detector \u001b[38;5;129;01min\u001b[39;00m detectors\n\u001b[1;32m    112\u001b[0m ]\n\u001b[1;32m    114\u001b[0m coords \u001b[38;5;241m=\u001b[39m _power_time_series_coords(detectors, detector_period, \u001b[38;5;28mlen\u001b[39m(data[\u001b[38;5;241m0\u001b[39m]))\n\u001b[1;32m    116\u001b[0m metadata \u001b[38;5;241m=\u001b[39m {\n\u001b[1;32m    117\u001b[0m     \u001b[38;5;124m'\u001b[39m\u001b[38;5;124mdetector_period\u001b[39m\u001b[38;5;124m'\u001b[39m: detector_period,\n\u001b[1;32m    118\u001b[0m     \u001b[38;5;124m'\u001b[39m\u001b[38;5;124mlabel\u001b[39m\u001b[38;5;124m'\u001b[39m: \u001b[38;5;124m'\u001b[39m\u001b[38;5;124mChannel power\u001b[39m\u001b[38;5;124m'\u001b[39m,\n\u001b[1;32m    119\u001b[0m     \u001b[38;5;124m'\u001b[39m\u001b[38;5;124munits\u001b[39m\u001b[38;5;124m'\u001b[39m: \u001b[38;5;124mf\u001b[39m\u001b[38;5;124m'\u001b[39m\u001b[38;5;124mdBm/\u001b[39m\u001b[38;5;132;01m{\u001b[39;00msource\u001b[38;5;241m.\u001b[39manalysis_bandwidth\u001b[38;5;241m/\u001b[39m\u001b[38;5;241m1e6\u001b[39m\u001b[38;5;132;01m}\u001b[39;00m\u001b[38;5;124m MHz\u001b[39m\u001b[38;5;124m'\u001b[39m,\n\u001b[1;32m    120\u001b[0m }\n",
      "File \u001b[0;32m~/micromamba/envs/flex-spectrum-sensor/lib/python3.9/site-packages/iqwaveform/power_analysis.py:224\u001b[0m, in \u001b[0;36miq_to_bin_power\u001b[0;34m(iq, Ts, Tbin, randomize, kind, truncate)\u001b[0m\n\u001b[1;32m    222\u001b[0m     N \u001b[38;5;241m=\u001b[39m \u001b[38;5;28mround\u001b[39m(Tbin \u001b[38;5;241m/\u001b[39m Ts)\n\u001b[1;32m    223\u001b[0m \u001b[38;5;28;01melse\u001b[39;00m:\n\u001b[0;32m--> 224\u001b[0m     \u001b[38;5;28;01mraise\u001b[39;00m \u001b[38;5;167;01mValueError\u001b[39;00m(\n\u001b[1;32m    225\u001b[0m         \u001b[38;5;124mf\u001b[39m\u001b[38;5;124m'\u001b[39m\u001b[38;5;124mbin period (\u001b[39m\u001b[38;5;132;01m{\u001b[39;00mTbin\u001b[38;5;132;01m}\u001b[39;00m\u001b[38;5;124m s) must be multiple of waveform sample period (\u001b[39m\u001b[38;5;132;01m{\u001b[39;00mTs\u001b[38;5;132;01m}\u001b[39;00m\u001b[38;5;124m)\u001b[39m\u001b[38;5;124m'\u001b[39m\n\u001b[1;32m    226\u001b[0m     )\n\u001b[1;32m    228\u001b[0m detector \u001b[38;5;241m=\u001b[39m stat_ufunc_from_shorthand(kind, xp\u001b[38;5;241m=\u001b[39mxp)\n\u001b[1;32m    230\u001b[0m \u001b[38;5;66;03m# instantaneous power, reshaped into bins\u001b[39;00m\n",
      "\u001b[0;31mValueError\u001b[0m: bin period (0.01 s) must be multiple of waveform sample period (6.510366996508307e-08)"
     ]
    }
   ],
   "source": [
    "# Monday dan: this fails on rounding problems because it's looking at the actual sample rate, not the request.\n",
    " \n",
    "from channel_analysis import waveform\n",
    "\n",
    "analysis_spec = {\n",
    "    'power_time_series': {\n",
    "        'detector_period': 10e-3,\n",
    "        'detectors': ('rms', 'peak')\n",
    "    },\n",
    "    'cyclic_channel_power': {\n",
    "        'cyclic_period': 10e-3,\n",
    "        'detector_period': 1e-3 / 15 / 4,\n",
    "        'detectors': ('rms', 'peak'),\n",
    "        'cyclic_statistics': ('min', 'mean', 'max'),\n",
    "    },\n",
    "    'persistence_spectrum': {\n",
    "        'window': 'flattop',\n",
    "        'resolution': 15e3,\n",
    "        'quantiles': [0.1, 0.25, 0.5, 0.75, 0.9, 0.95, 0.99, 0.999, 1],\n",
    "        'truncate': False\n",
    "    },\n",
    "    'amplitude_probability_distribution': {\n",
    "        'power_low': -105,\n",
    "        'power_high': -60,\n",
    "        'power_count': 221,  # 0.25 dB resolution\n",
    "    },\n",
    "    # 'iq_waveform': {\n",
    "    #     'start_time_sec': 0,\n",
    "    #     'stop_time_sec': 100e-3\n",
    "    # }\n",
    "}\n",
    "\n",
    "filter_spec = {}\n",
    "\n",
    "dataset = waveform.from_spec(\n",
    "    iq,\n",
    "    sdr,\n",
    "    analysis_spec=analysis_spec,\n",
    ")"
   ]
  },
  {
   "cell_type": "code",
   "execution_count": null,
   "id": "06e13b5f-141f-4df4-a457-12947faacc68",
   "metadata": {
    "scrolled": true
   },
   "outputs": [],
   "source": [
    "import iqwaveform\n",
    "from channel_analysis import figures\n",
    "import matplotlib.pyplot as plt\n",
    "from iqwaveform import powtodB\n",
    "\n",
    "plt.style.use('iqwaveform.ieee_double_column')\n",
    "\n",
    "# fig, ax = plt.subplots()\n",
    "# pvt = dataset.power_time_series\n",
    "# pvt.plot.line(x='time_elapsed', ax=ax)\n",
    "# figures.label_axis(ax.xaxis, pvt, 'time_elapsed')\n",
    "# figures.label_axis(ax.yaxis, pvt, tick_units=False)\n",
    "# figures.label_legend(ax, pvt, 'power_detector')\n",
    "\n",
    "# fig, ax = plt.subplots()\n",
    "# apd = dataset.amplitude_probability_distribution\n",
    "# apd.plot.line(x='channel_power', ax=ax)\n",
    "# ax.set_yscale('gamma-qq', k=1, db_ordinal=True)\n",
    "# figures.label_axis(ax.xaxis, apd, 'channel_power', tick_units=False)\n",
    "# figures.label_axis(ax.yaxis, apd)\n",
    "\n",
    "# fig, ax = plt.subplots()\n",
    "# cyclic_power = dataset.cyclic_channel_power\n",
    "# time = cyclic_power.cyclic_lag\n",
    "# for i, detector in enumerate(cyclic_power.power_detector.values):\n",
    "#     a = cyclic_power.sel(power_detector=detector)\n",
    "#     ax.plot(time, powtodB(a.sel(cyclic_statistic='mean')), color=f'C{i}')\n",
    "\n",
    "# for i, detector in enumerate(cyclic_power.power_detector.values):\n",
    "#     a = cyclic_power.sel(power_detector=detector)\n",
    "#     ax.fill_between(\n",
    "#         time,\n",
    "#         powtodB(a.sel(cyclic_statistic='min')),\n",
    "#         powtodB(a.sel(cyclic_statistic='max')),\n",
    "#         color=f'C{i}',\n",
    "#         alpha=0.25,\n",
    "#         lw=0,\n",
    "#         rasterized=True,\n",
    "#     )\n",
    "\n",
    "# figures.label_axis(ax.xaxis, cyclic_power, 'cyclic_lag')\n",
    "# figures.label_axis(ax.yaxis, cyclic_power, tick_units=False)\n",
    "# figures.label_legend(ax, cyclic_power, 'power_detector')\n",
    "\n",
    "fig, ax = plt.subplots()\n",
    "spectrum = dataset.persistence_spectrum\n",
    "spectrum.plot.line(x='baseband_frequency', ax=ax)\n",
    "figures.label_axis(ax.xaxis, spectrum, 'baseband_frequency')\n",
    "figures.label_axis(ax.yaxis, spectrum, tick_units=False)\n",
    "figures.label_legend(ax, spectrum, 'persistence_statistic')"
   ]
  },
  {
   "cell_type": "code",
   "execution_count": null,
   "id": "68626eee",
   "metadata": {},
   "outputs": [],
   "source": [
    "spectrum.sel(persistence_statistic='0.5').idxmax()"
   ]
  },
  {
   "cell_type": "code",
   "execution_count": null,
   "id": "43f48f8a",
   "metadata": {},
   "outputs": [],
   "source": [
    "lo_offset*(2304/3125)"
   ]
  }
 ],
 "metadata": {
  "kernelspec": {
   "display_name": "Python 3 (ipykernel)",
   "language": "python",
   "name": "python3"
  },
  "language_info": {
   "codemirror_mode": {
    "name": "ipython",
    "version": 3
   },
   "file_extension": ".py",
   "mimetype": "text/x-python",
   "name": "python",
   "nbconvert_exporter": "python",
   "pygments_lexer": "ipython3",
   "version": "3.9.19"
  }
 },
 "nbformat": 4,
 "nbformat_minor": 5
}
