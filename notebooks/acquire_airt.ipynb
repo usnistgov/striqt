{
 "cells": [
  {
   "cell_type": "code",
   "execution_count": 1,
   "id": "c91d177f-8ff2-4ba9-a4da-b22885c1d439",
   "metadata": {},
   "outputs": [
    {
     "name": "stdout",
     "output_type": "stream",
     "text": [
      "connecting...\n",
      "acquiring...\n",
      "done\n"
     ]
    }
   ],
   "source": [
    "from edge_analyzer.acquisition import airt\n",
    "from edge_analyzer import channel_waveform\n",
    "\n",
    "duration = 0.5\n",
    "sample_rate_Hz = 15.36e6\n",
    "analysis_bandwidth_Hz = 10e6\n",
    "\n",
    "print('connecting...')\n",
    "capture = airt.AirTCapture(frequency_Hz=2.44e9, sample_rate_Hz=sample_rate_Hz)\n",
    "\n",
    "try:\n",
    "    print('acquiring...')\n",
    "    raw_iq = capture.acquire(int(duration*sample_rate_Hz))\n",
    "finally:\n",
    "    print('done')\n",
    "    capture.close()"
   ]
  },
  {
   "cell_type": "code",
   "execution_count": 2,
   "id": "0a15d42a-2753-46a4-ac6c-505796b62938",
   "metadata": {
    "scrolled": true
   },
   "outputs": [
    {
     "ename": "ValueError",
     "evalue": "conflicting sizes for dimension 'baseband_frequency': length 667 on the data but length 1024 on coordinate 'baseband_frequency'",
     "output_type": "error",
     "traceback": [
      "\u001b[0;31m---------------------------------------------------------------------------\u001b[0m",
      "\u001b[0;31mValueError\u001b[0m                                Traceback (most recent call last)",
      "Cell \u001b[0;32mIn[2], line 32\u001b[0m\n\u001b[1;32m      5\u001b[0m analysis_spec \u001b[38;5;241m=\u001b[39m {\n\u001b[1;32m      6\u001b[0m     \u001b[38;5;124m'\u001b[39m\u001b[38;5;124mpower_time_series\u001b[39m\u001b[38;5;124m'\u001b[39m: {\u001b[38;5;124m'\u001b[39m\u001b[38;5;124mdetector_period\u001b[39m\u001b[38;5;124m'\u001b[39m: \u001b[38;5;241m10e-3\u001b[39m, \u001b[38;5;124m'\u001b[39m\u001b[38;5;124mdetectors\u001b[39m\u001b[38;5;124m'\u001b[39m: (\u001b[38;5;124m'\u001b[39m\u001b[38;5;124mrms\u001b[39m\u001b[38;5;124m'\u001b[39m, \u001b[38;5;124m'\u001b[39m\u001b[38;5;124mpeak\u001b[39m\u001b[38;5;124m'\u001b[39m)},\n\u001b[1;32m      7\u001b[0m     \u001b[38;5;124m'\u001b[39m\u001b[38;5;124mcyclic_channel_power\u001b[39m\u001b[38;5;124m'\u001b[39m: {\n\u001b[0;32m   (...)\u001b[0m\n\u001b[1;32m     23\u001b[0m     },    \n\u001b[1;32m     24\u001b[0m }\n\u001b[1;32m     26\u001b[0m filter_params \u001b[38;5;241m=\u001b[39m \u001b[38;5;28mdict\u001b[39m(\n\u001b[1;32m     27\u001b[0m     passband_ripple_dB\u001b[38;5;241m=\u001b[39m\u001b[38;5;241m0.1\u001b[39m,\n\u001b[1;32m     28\u001b[0m     stopband_attenuation_dB\u001b[38;5;241m=\u001b[39m\u001b[38;5;241m90\u001b[39m,\n\u001b[1;32m     29\u001b[0m     transition_bandwidth_Hz\u001b[38;5;241m=\u001b[39m\u001b[38;5;241m250e3\u001b[39m,\n\u001b[1;32m     30\u001b[0m )\n\u001b[0;32m---> 32\u001b[0m \u001b[43mchannel_waveform\u001b[49m\u001b[38;5;241;43m.\u001b[39;49m\u001b[43mfrom_spec\u001b[49m\u001b[43m(\u001b[49m\n\u001b[1;32m     33\u001b[0m \u001b[43m    \u001b[49m\u001b[43mraw_iq\u001b[49m\u001b[43m,\u001b[49m\n\u001b[1;32m     34\u001b[0m \u001b[43m    \u001b[49m\u001b[43msample_rate_Hz\u001b[49m\u001b[43m,\u001b[49m\n\u001b[1;32m     35\u001b[0m \u001b[43m    \u001b[49m\u001b[43manalysis_bandwidth_Hz\u001b[49m\u001b[38;5;241;43m=\u001b[39;49m\u001b[43manalysis_bandwidth_Hz\u001b[49m\u001b[43m,\u001b[49m\n\u001b[1;32m     36\u001b[0m \u001b[43m    \u001b[49m\u001b[43mfilter_spec\u001b[49m\u001b[38;5;241;43m=\u001b[39;49m\u001b[43mfilter_params\u001b[49m\u001b[43m,\u001b[49m\n\u001b[1;32m     37\u001b[0m \u001b[43m    \u001b[49m\u001b[43manalysis_spec\u001b[49m\u001b[38;5;241;43m=\u001b[39;49m\u001b[43manalysis_spec\u001b[49m\u001b[43m,\u001b[49m\n\u001b[1;32m     38\u001b[0m \u001b[43m)\u001b[49m\n",
      "File \u001b[0;32m~/Documents/spectrum-sensor-edge-analysis/src/edge_analyzer/channel_waveform.py:506\u001b[0m, in \u001b[0;36mfrom_spec\u001b[0;34m(iq, sample_rate_Hz, analysis_bandwidth_Hz, filter_spec, analysis_spec, overwrite_iq)\u001b[0m\n\u001b[1;32m    504\u001b[0m xarrays \u001b[38;5;241m=\u001b[39m {}\n\u001b[1;32m    505\u001b[0m \u001b[38;5;28;01mfor\u001b[39;00m func \u001b[38;5;129;01min\u001b[39;00m xarray_funcs:\n\u001b[0;32m--> 506\u001b[0m     xa \u001b[38;5;241m=\u001b[39m \u001b[43mfunc\u001b[49m\u001b[43m(\u001b[49m\u001b[43m)\u001b[49m\n\u001b[1;32m    507\u001b[0m     xarrays[xa\u001b[38;5;241m.\u001b[39mname] \u001b[38;5;241m=\u001b[39m xa\n\u001b[1;32m    509\u001b[0m \u001b[38;5;28;01mreturn\u001b[39;00m xr\u001b[38;5;241m.\u001b[39mDataset(\n\u001b[1;32m    510\u001b[0m     xarrays,\n\u001b[1;32m    511\u001b[0m     attrs\u001b[38;5;241m=\u001b[39m{\n\u001b[0;32m   (...)\u001b[0m\n\u001b[1;32m    515\u001b[0m     },\n\u001b[1;32m    516\u001b[0m )\n",
      "File \u001b[0;32m~/Documents/spectrum-sensor-edge-analysis/src/edge_analyzer/channel_waveform.py:364\u001b[0m, in \u001b[0;36mpersistence_spectrum.<locals>.<lambda>\u001b[0;34m()\u001b[0m\n\u001b[1;32m    360\u001b[0m stat_coords \u001b[38;5;241m=\u001b[39m _persistence_stats_to_coords(\u001b[38;5;28mtuple\u001b[39m(quantiles))\n\u001b[1;32m    362\u001b[0m coords \u001b[38;5;241m=\u001b[39m {\u001b[38;5;241m*\u001b[39m\u001b[38;5;241m*\u001b[39mfreq_coords, \u001b[38;5;241m*\u001b[39m\u001b[38;5;241m*\u001b[39mstat_coords}\n\u001b[0;32m--> 364\u001b[0m \u001b[38;5;28;01mreturn\u001b[39;00m \u001b[38;5;28;01mlambda\u001b[39;00m: \u001b[43mxr\u001b[49m\u001b[38;5;241;43m.\u001b[39;49m\u001b[43mDataArray\u001b[49m\u001b[43m(\u001b[49m\n\u001b[1;32m    365\u001b[0m \u001b[43m    \u001b[49m\u001b[43m_to_maybe_nested_numpy\u001b[49m\u001b[43m(\u001b[49m\u001b[43mdata\u001b[49m\u001b[43m)\u001b[49m\u001b[38;5;241;43m.\u001b[39;49m\u001b[43mT\u001b[49m\u001b[43m,\u001b[49m\n\u001b[1;32m    366\u001b[0m \u001b[43m    \u001b[49m\u001b[43mdims\u001b[49m\u001b[38;5;241;43m=\u001b[39;49m\u001b[43mcoords\u001b[49m\u001b[38;5;241;43m.\u001b[39;49m\u001b[43mkeys\u001b[49m\u001b[43m(\u001b[49m\u001b[43m)\u001b[49m\u001b[43m,\u001b[49m\n\u001b[1;32m    367\u001b[0m \u001b[43m    \u001b[49m\u001b[43mcoords\u001b[49m\u001b[38;5;241;43m=\u001b[39;49m\u001b[43mcoords\u001b[49m\u001b[43m,\u001b[49m\n\u001b[1;32m    368\u001b[0m \u001b[43m    \u001b[49m\u001b[43mname\u001b[49m\u001b[38;5;241;43m=\u001b[39;49m\u001b[38;5;124;43m'\u001b[39;49m\u001b[38;5;124;43mpersistence_spectrum\u001b[39;49m\u001b[38;5;124;43m'\u001b[39;49m\u001b[43m,\u001b[49m\n\u001b[1;32m    369\u001b[0m \u001b[43m    \u001b[49m\u001b[43mattrs\u001b[49m\u001b[38;5;241;43m=\u001b[39;49m\u001b[43m{\u001b[49m\n\u001b[1;32m    370\u001b[0m \u001b[43m        \u001b[49m\u001b[38;5;124;43m'\u001b[39;49m\u001b[38;5;124;43mlabel\u001b[39;49m\u001b[38;5;124;43m'\u001b[39;49m\u001b[43m:\u001b[49m\u001b[43m \u001b[49m\u001b[38;5;124;43m'\u001b[39;49m\u001b[38;5;124;43mPower spectral density\u001b[39;49m\u001b[38;5;124;43m'\u001b[39;49m\u001b[43m,\u001b[49m\n\u001b[1;32m    371\u001b[0m \u001b[43m        \u001b[49m\u001b[38;5;124;43m'\u001b[39;49m\u001b[38;5;124;43munits\u001b[39;49m\u001b[38;5;124;43m'\u001b[39;49m\u001b[43m:\u001b[49m\u001b[43m \u001b[49m\u001b[38;5;124;43mf\u001b[39;49m\u001b[38;5;124;43m'\u001b[39;49m\u001b[38;5;124;43mdBm/\u001b[39;49m\u001b[38;5;132;43;01m{\u001b[39;49;00m\u001b[43menbw\u001b[49m\u001b[38;5;241;43m/\u001b[39;49m\u001b[38;5;241;43m1e3\u001b[39;49m\u001b[38;5;132;43;01m:\u001b[39;49;00m\u001b[38;5;124;43m0.3f\u001b[39;49m\u001b[38;5;132;43;01m}\u001b[39;49;00m\u001b[38;5;124;43m kHz\u001b[39;49m\u001b[38;5;124;43m'\u001b[39;49m\u001b[43m,\u001b[49m\n\u001b[1;32m    372\u001b[0m \u001b[43m        \u001b[49m\u001b[38;5;241;43m*\u001b[39;49m\u001b[38;5;241;43m*\u001b[39;49m\u001b[43mmetadata\u001b[49m\u001b[43m,\u001b[49m\n\u001b[1;32m    373\u001b[0m \u001b[43m    \u001b[49m\u001b[43m}\u001b[49m\u001b[43m,\u001b[49m\n\u001b[1;32m    374\u001b[0m \u001b[43m\u001b[49m\u001b[43m)\u001b[49m\n",
      "File \u001b[0;32m~/micromamba/envs/spectrum-sensor-edge-analysis/lib/python3.9/site-packages/xarray/core/dataarray.py:455\u001b[0m, in \u001b[0;36mDataArray.__init__\u001b[0;34m(self, data, coords, dims, name, attrs, indexes, fastpath)\u001b[0m\n\u001b[1;32m    453\u001b[0m data \u001b[38;5;241m=\u001b[39m _check_data_shape(data, coords, dims)\n\u001b[1;32m    454\u001b[0m data \u001b[38;5;241m=\u001b[39m as_compatible_data(data)\n\u001b[0;32m--> 455\u001b[0m coords, dims \u001b[38;5;241m=\u001b[39m \u001b[43m_infer_coords_and_dims\u001b[49m\u001b[43m(\u001b[49m\u001b[43mdata\u001b[49m\u001b[38;5;241;43m.\u001b[39;49m\u001b[43mshape\u001b[49m\u001b[43m,\u001b[49m\u001b[43m \u001b[49m\u001b[43mcoords\u001b[49m\u001b[43m,\u001b[49m\u001b[43m \u001b[49m\u001b[43mdims\u001b[49m\u001b[43m)\u001b[49m\n\u001b[1;32m    456\u001b[0m variable \u001b[38;5;241m=\u001b[39m Variable(dims, data, attrs, fastpath\u001b[38;5;241m=\u001b[39m\u001b[38;5;28;01mTrue\u001b[39;00m)\n\u001b[1;32m    458\u001b[0m \u001b[38;5;28;01mif\u001b[39;00m \u001b[38;5;129;01mnot\u001b[39;00m \u001b[38;5;28misinstance\u001b[39m(coords, Coordinates):\n",
      "File \u001b[0;32m~/micromamba/envs/spectrum-sensor-edge-analysis/lib/python3.9/site-packages/xarray/core/dataarray.py:194\u001b[0m, in \u001b[0;36m_infer_coords_and_dims\u001b[0;34m(shape, coords, dims)\u001b[0m\n\u001b[1;32m    191\u001b[0m             var\u001b[38;5;241m.\u001b[39mdims \u001b[38;5;241m=\u001b[39m (dim,)\n\u001b[1;32m    192\u001b[0m             new_coords[dim] \u001b[38;5;241m=\u001b[39m var\u001b[38;5;241m.\u001b[39mto_index_variable()\n\u001b[0;32m--> 194\u001b[0m \u001b[43m_check_coords_dims\u001b[49m\u001b[43m(\u001b[49m\u001b[43mshape\u001b[49m\u001b[43m,\u001b[49m\u001b[43m \u001b[49m\u001b[43mnew_coords\u001b[49m\u001b[43m,\u001b[49m\u001b[43m \u001b[49m\u001b[43mdims_tuple\u001b[49m\u001b[43m)\u001b[49m\n\u001b[1;32m    196\u001b[0m \u001b[38;5;28;01mreturn\u001b[39;00m new_coords, dims_tuple\n",
      "File \u001b[0;32m~/micromamba/envs/spectrum-sensor-edge-analysis/lib/python3.9/site-packages/xarray/core/dataarray.py:128\u001b[0m, in \u001b[0;36m_check_coords_dims\u001b[0;34m(shape, coords, dim)\u001b[0m\n\u001b[1;32m    126\u001b[0m \u001b[38;5;28;01mfor\u001b[39;00m d, s \u001b[38;5;129;01min\u001b[39;00m v\u001b[38;5;241m.\u001b[39msizes\u001b[38;5;241m.\u001b[39mitems():\n\u001b[1;32m    127\u001b[0m     \u001b[38;5;28;01mif\u001b[39;00m s \u001b[38;5;241m!=\u001b[39m sizes[d]:\n\u001b[0;32m--> 128\u001b[0m         \u001b[38;5;28;01mraise\u001b[39;00m \u001b[38;5;167;01mValueError\u001b[39;00m(\n\u001b[1;32m    129\u001b[0m             \u001b[38;5;124mf\u001b[39m\u001b[38;5;124m\"\u001b[39m\u001b[38;5;124mconflicting sizes for dimension \u001b[39m\u001b[38;5;132;01m{\u001b[39;00md\u001b[38;5;132;01m!r}\u001b[39;00m\u001b[38;5;124m: \u001b[39m\u001b[38;5;124m\"\u001b[39m\n\u001b[1;32m    130\u001b[0m             \u001b[38;5;124mf\u001b[39m\u001b[38;5;124m\"\u001b[39m\u001b[38;5;124mlength \u001b[39m\u001b[38;5;132;01m{\u001b[39;00msizes[d]\u001b[38;5;132;01m}\u001b[39;00m\u001b[38;5;124m on the data but length \u001b[39m\u001b[38;5;132;01m{\u001b[39;00ms\u001b[38;5;132;01m}\u001b[39;00m\u001b[38;5;124m on \u001b[39m\u001b[38;5;124m\"\u001b[39m\n\u001b[1;32m    131\u001b[0m             \u001b[38;5;124mf\u001b[39m\u001b[38;5;124m\"\u001b[39m\u001b[38;5;124mcoordinate \u001b[39m\u001b[38;5;132;01m{\u001b[39;00mk\u001b[38;5;132;01m!r}\u001b[39;00m\u001b[38;5;124m\"\u001b[39m\n\u001b[1;32m    132\u001b[0m         )\n",
      "\u001b[0;31mValueError\u001b[0m: conflicting sizes for dimension 'baseband_frequency': length 667 on the data but length 1024 on coordinate 'baseband_frequency'"
     ]
    }
   ],
   "source": [
    "# import importlib\n",
    "# from edge_analyzer import channel_waveform\n",
    "# channel_waveform = importlib.reload(channel_waveform)\n",
    "\n",
    "analysis_spec = {\n",
    "    'power_time_series': {'detector_period': 10e-3, 'detectors': ('rms', 'peak')},\n",
    "    'cyclic_channel_power': {\n",
    "        'cyclic_period': 10e-3,\n",
    "        'detector_period': 1e-3 / 15 / 4,\n",
    "        'detectors': ('rms', 'peak'),\n",
    "        'cyclic_statistics': ('min', 'mean', 'max'),\n",
    "    },\n",
    "    'persistence_spectrum': {\n",
    "        'window': 'flattop',\n",
    "        'resolution': 15e3,\n",
    "        'quantiles': [0.1, 0.25, 0.5, 0.75, 0.9, 0.95, 0.99, 0.999, 1],\n",
    "        'truncate': True,\n",
    "    },\n",
    "    'amplitude_probability_distribution': {\n",
    "        'power_low': -40,\n",
    "        'power_high': 15,\n",
    "        'power_count': 221,  # 0.25 dB resolution\n",
    "    },    \n",
    "}\n",
    "\n",
    "filter_params = dict(\n",
    "    passband_ripple_dB=0.1,\n",
    "    stopband_attenuation_dB=90,\n",
    "    transition_bandwidth_Hz=250e3,\n",
    ")\n",
    "\n",
    "channel_waveform.from_spec(\n",
    "    raw_iq,\n",
    "    sample_rate_Hz,\n",
    "    analysis_bandwidth_Hz=analysis_bandwidth_Hz,\n",
    "    filter_spec=filter_params,\n",
    "    analysis_spec=analysis_spec,\n",
    ")"
   ]
  },
  {
   "cell_type": "code",
   "execution_count": null,
   "id": "06e13b5f-141f-4df4-a457-12947faacc68",
   "metadata": {
    "scrolled": true
   },
   "outputs": [],
   "source": [
    "%%timeit -n1 -r1\n",
    "\n",
    "channel_waveform.from_spec(\n",
    "    raw_iq,\n",
    "    sample_rate_Hz,\n",
    "    analysis_bandwidth_Hz=analysis_bandwidth_Hz,\n",
    "    filter_spec=filter_spec,\n",
    "    analysis_spec=analysis_spec,\n",
    ")"
   ]
  }
 ],
 "metadata": {
  "kernelspec": {
   "display_name": "Python 3 (ipykernel)",
   "language": "python",
   "name": "python3"
  },
  "language_info": {
   "codemirror_mode": {
    "name": "ipython",
    "version": 3
   },
   "file_extension": ".py",
   "mimetype": "text/x-python",
   "name": "python",
   "nbconvert_exporter": "python",
   "pygments_lexer": "ipython3",
   "version": "3.9.19"
  }
 },
 "nbformat": 4,
 "nbformat_minor": 5
}
