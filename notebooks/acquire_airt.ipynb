{
 "cells": [
  {
   "cell_type": "code",
   "execution_count": 1,
   "id": "d6d434fc",
   "metadata": {},
   "outputs": [],
   "source": [
    "from edge_sensor.sdr import airt\n",
    "import labbench as lb\n",
    "\n",
    "lb.show_messages('debug')\n",
    "sdr = airt.AirTSource()"
   ]
  },
  {
   "cell_type": "code",
   "execution_count": 2,
   "id": "ddd55b91",
   "metadata": {},
   "outputs": [
    {
     "name": "stderr",
     "output_type": "stream",
     "text": [
      "\u001b[1;30m DEBUG \u001b[0m \u001b[32m2024-07-01 17:04:52,300.300\u001b[0m • \u001b[34mAirTSource():\u001b[0m connecting\n",
      "\u001b[1;30m DEBUG \u001b[0m \u001b[32m2024-07-01 17:04:58,165.165\u001b[0m • \u001b[34mAirTSource():\u001b[0m connected\n",
      "\u001b[1;30m DEBUG \u001b[0m \u001b[32m2024-07-01 17:05:05,600.600\u001b[0m • \u001b[34mAirTSource():\u001b[0m opened\n"
     ]
    }
   ],
   "source": [
    "sdr.open()"
   ]
  },
  {
   "cell_type": "code",
   "execution_count": 3,
   "id": "39361131",
   "metadata": {},
   "outputs": [
    {
     "name": "stderr",
     "output_type": "stream",
     "text": [
      "\u001b[1;30m DEBUG \u001b[0m \u001b[32m2024-07-01 17:05:06,033.034\u001b[0m • \u001b[34mAirTSource():\u001b[0m 20833333.333333332 (Hz) → sample_rate\n",
      "\u001b[1;30m DEBUG \u001b[0m \u001b[32m2024-07-01 17:05:06,039.039\u001b[0m • \u001b[34mAirTSource():\u001b[0m 20833333.333333332 (Hz) → backend_sample_rate\n",
      "\u001b[1;30m DEBUG \u001b[0m \u001b[32m2024-07-01 17:05:06,042.042\u001b[0m • \u001b[34mAirTSource():\u001b[0m 15360000.0 (Hz) → sample_rate\n",
      "\u001b[1;30m DEBUG \u001b[0m \u001b[32m2024-07-01 17:05:06,047.048\u001b[0m • \u001b[34mAirTSource():\u001b[0m 10000000.0 (Hz) → analysis_bandwidth\n"
     ]
    },
    {
     "data": {
      "text/plain": [
       "{'window': 'hamming',\n",
       " 'fft_size': 3125,\n",
       " 'fft_size_out': 2304,\n",
       " 'frequency_shift': 'left',\n",
       " 'passband': (-10473333.333333332, -473333.333333333),\n",
       " 'fs': 20833333.333333332}"
      ]
     },
     "execution_count": 3,
     "metadata": {},
     "output_type": "execute_result"
    }
   ],
   "source": [
    "sdr.autosample(3710e6, 15.36e6, 10e6, shift='left')\n",
    "sdr.analysis_filter"
   ]
  },
  {
   "cell_type": "code",
   "execution_count": 4,
   "id": "482446e5",
   "metadata": {},
   "outputs": [
    {
     "name": "stderr",
     "output_type": "stream",
     "text": [
      "\u001b[1;30m DEBUG \u001b[0m \u001b[32m2024-07-01 17:05:06,882.883\u001b[0m • \u001b[34mAirTSource():\u001b[0m True  → channel_enabled\n",
      "\u001b[1;30m DEBUG \u001b[0m \u001b[32m2024-07-01 17:05:08,763.764\u001b[0m • \u001b[34mAirTSource():\u001b[0m False  → channel_enabled\n"
     ]
    }
   ],
   "source": [
    "from cupyx.profiler import benchmark\n",
    "\n",
    "sdr.channel_enabled(True, channel=0)\n",
    "try:\n",
    "    iq = sdr.acquire(0.1*15.36e6)\n",
    "finally:\n",
    "    sdr.channel_enabled(False, channel=0)"
   ]
  },
  {
   "cell_type": "code",
   "execution_count": 5,
   "id": "0a15d42a-2753-46a4-ac6c-505796b62938",
   "metadata": {
    "scrolled": true
   },
   "outputs": [
    {
     "name": "stdout",
     "output_type": "stream",
     "text": [
      "{'power_time_series': {'detector_period': 0.01, 'detectors': ('rms', 'peak')}, 'cyclic_channel_power': {'cyclic_period': 0.01, 'detector_period': 1.6666666666666667e-05, 'detectors': ('rms', 'peak'), 'cyclic_statistics': ('min', 'mean', 'max')}, 'persistence_spectrum': {'window': 'flattop', 'resolution': 15000.0, 'quantiles': [0.1, 0.25, 0.5, 0.75, 0.9, 0.95, 0.99, 0.999, 1], 'truncate': False}, 'amplitude_probability_distribution': {'power_low': -105, 'power_high': -60, 'power_count': 221}}\n"
     ]
    },
    {
     "ename": "TypeError",
     "evalue": "power_time_series() got an unexpected keyword argument 'power_time_series'",
     "output_type": "error",
     "traceback": [
      "\u001b[0;31m---------------------------------------------------------------------------\u001b[0m",
      "\u001b[0;31mTypeError\u001b[0m                                 Traceback (most recent call last)",
      "Cell \u001b[0;32mIn[5], line 42\u001b[0m\n\u001b[1;32m     12\u001b[0m analysis_spec \u001b[38;5;241m=\u001b[39m {\n\u001b[1;32m     13\u001b[0m     \u001b[38;5;124m'\u001b[39m\u001b[38;5;124mpower_time_series\u001b[39m\u001b[38;5;124m'\u001b[39m: {\n\u001b[1;32m     14\u001b[0m         \u001b[38;5;124m'\u001b[39m\u001b[38;5;124mdetector_period\u001b[39m\u001b[38;5;124m'\u001b[39m: \u001b[38;5;241m10e-3\u001b[39m,\n\u001b[0;32m   (...)\u001b[0m\n\u001b[1;32m     37\u001b[0m     \u001b[38;5;66;03m# }\u001b[39;00m\n\u001b[1;32m     38\u001b[0m }\n\u001b[1;32m     40\u001b[0m filter_spec \u001b[38;5;241m=\u001b[39m {}\n\u001b[0;32m---> 42\u001b[0m dataset \u001b[38;5;241m=\u001b[39m \u001b[43mwaveform\u001b[49m\u001b[38;5;241;43m.\u001b[39;49m\u001b[43mfrom_spec\u001b[49m\u001b[43m(\u001b[49m\n\u001b[1;32m     43\u001b[0m \u001b[43m    \u001b[49m\u001b[43miq\u001b[49m\u001b[43m,\u001b[49m\n\u001b[1;32m     44\u001b[0m \u001b[43m    \u001b[49m\u001b[43msdr\u001b[49m\u001b[43m,\u001b[49m\n\u001b[1;32m     45\u001b[0m \u001b[43m    \u001b[49m\u001b[43manalysis_spec\u001b[49m\u001b[38;5;241;43m=\u001b[39;49m\u001b[43manalysis_spec\u001b[49m\u001b[43m,\u001b[49m\n\u001b[1;32m     46\u001b[0m \u001b[43m)\u001b[49m\n",
      "File \u001b[0;32m~/Documents/spectrum-sensor-edge-analysis/src/channel_analysis/waveform.py:500\u001b[0m, in \u001b[0;36mfrom_spec\u001b[0;34m(iq, source, analysis_spec, cache)\u001b[0m\n\u001b[1;32m    498\u001b[0m     \u001b[38;5;28;01mif\u001b[39;00m func_kws:\n\u001b[1;32m    499\u001b[0m         \u001b[38;5;28mprint\u001b[39m(\u001b[38;5;28mrepr\u001b[39m(func_kws))\n\u001b[0;32m--> 500\u001b[0m         results[func\u001b[38;5;241m.\u001b[39m\u001b[38;5;18m__name__\u001b[39m] \u001b[38;5;241m=\u001b[39m \u001b[43mfunc\u001b[49m\u001b[43m(\u001b[49m\u001b[43miq\u001b[49m\u001b[43m,\u001b[49m\u001b[43m \u001b[49m\u001b[43msource\u001b[49m\u001b[43m,\u001b[49m\u001b[43m \u001b[49m\u001b[38;5;241;43m*\u001b[39;49m\u001b[38;5;241;43m*\u001b[39;49m\u001b[43mfunc_kws\u001b[49m\u001b[43m)\u001b[49m\n\u001b[1;32m    502\u001b[0m \u001b[38;5;28;01mif\u001b[39;00m \u001b[38;5;28mlen\u001b[39m(analysis_spec) \u001b[38;5;241m>\u001b[39m \u001b[38;5;241m0\u001b[39m:\n\u001b[1;32m    503\u001b[0m     \u001b[38;5;66;03m# anything left refers to an invalid function invalid\u001b[39;00m\n\u001b[1;32m    504\u001b[0m     \u001b[38;5;28;01mraise\u001b[39;00m \u001b[38;5;167;01mValueError\u001b[39;00m(\u001b[38;5;124mf\u001b[39m\u001b[38;5;124m'\u001b[39m\u001b[38;5;124minvalid analysis_spec key(s): \u001b[39m\u001b[38;5;132;01m{\u001b[39;00m\u001b[38;5;28mlist\u001b[39m(analysis_spec\u001b[38;5;241m.\u001b[39mkeys())\u001b[38;5;132;01m}\u001b[39;00m\u001b[38;5;124m'\u001b[39m)\n",
      "\u001b[0;31mTypeError\u001b[0m: power_time_series() got an unexpected keyword argument 'power_time_series'"
     ]
    }
   ],
   "source": [
    "# Monday Dan: this fails on rounding problems because it's looking at the actual sample rate, not the request.\n",
    "# Thanks, Friday Dan\n",
    "import importlib\n",
    "\n",
    "from channel_analysis import config\n",
    "config = importlib.reload(config)\n",
    "\n",
    "from channel_analysis import waveform\n",
    "waveform = importlib.reload(waveform)\n",
    "waveform.config = config\n",
    "\n",
    "analysis_spec = {\n",
    "    'power_time_series': {\n",
    "        'detector_period': 10e-3,\n",
    "        'detectors': ('rms', 'peak')\n",
    "    },\n",
    "    'cyclic_channel_power': {\n",
    "        'cyclic_period': 10e-3,\n",
    "        'detector_period': 1e-3 / 15 / 4,\n",
    "        'detectors': ('rms', 'peak'),\n",
    "        'cyclic_statistics': ('min', 'mean', 'max'),\n",
    "    },\n",
    "    'persistence_spectrum': {\n",
    "        'window': 'flattop',\n",
    "        'resolution': 15e3,\n",
    "        'quantiles': [0.1, 0.25, 0.5, 0.75, 0.9, 0.95, 0.99, 0.999, 1],\n",
    "        'truncate': False\n",
    "    },\n",
    "    'amplitude_probability_distribution': {\n",
    "        'power_low': -105,\n",
    "        'power_high': -60,\n",
    "        'power_count': 221,  # 0.25 dB resolution\n",
    "    },\n",
    "    # 'iq_waveform': {\n",
    "    #     'start_time_sec': 0,\n",
    "    #     'stop_time_sec': 100e-3\n",
    "    # }\n",
    "}\n",
    "\n",
    "filter_spec = {}\n",
    "\n",
    "dataset = waveform.from_spec(\n",
    "    iq,\n",
    "    sdr,\n",
    "    analysis_spec=analysis_spec,\n",
    ")"
   ]
  },
  {
   "cell_type": "code",
   "execution_count": 10,
   "id": "ea004ca7",
   "metadata": {},
   "outputs": [
    {
     "data": {
      "text/plain": [
       "{'power_time_series': {'detector_period': 0.01, 'detectors': ('rms', 'peak')},\n",
       " 'cyclic_channel_power': {'cyclic_period': 0.01,\n",
       "  'detector_period': 1.6666666666666667e-05,\n",
       "  'detectors': ('rms', 'peak'),\n",
       "  'cyclic_statistics': ('min', 'mean', 'max')},\n",
       " 'persistence_spectrum': {'window': 'flattop',\n",
       "  'resolution': 15000.0,\n",
       "  'quantiles': [0.1, 0.25, 0.5, 0.75, 0.9, 0.95, 0.99, 0.999, 1],\n",
       "  'truncate': False},\n",
       " 'amplitude_probability_distribution': {'power_low': -105,\n",
       "  'power_high': -60,\n",
       "  'power_count': 221}}"
      ]
     },
     "execution_count": 10,
     "metadata": {},
     "output_type": "execute_result"
    }
   ],
   "source": [
    "import msgspec\n",
    "spec = config.registry.tospec()\n",
    "analy"
   ]
  },
  {
   "cell_type": "code",
   "execution_count": null,
   "id": "983205f0",
   "metadata": {},
   "outputs": [],
   "source": [
    "config.registry.tospec()"
   ]
  },
  {
   "cell_type": "code",
   "execution_count": null,
   "id": "bd94ed40",
   "metadata": {},
   "outputs": [],
   "source": [
    "from channel_analysis import config\n",
    "\n",
    "struct = config.from_any(analysis_spec)\n",
    "msgspec.to_builtins(struct)"
   ]
  },
  {
   "cell_type": "code",
   "execution_count": null,
   "id": "60af217a",
   "metadata": {},
   "outputs": [],
   "source": [
    "import msgspec\n",
    "struct = config.registry.tospec()\n",
    "msgspec.to_builtins(struct())"
   ]
  },
  {
   "cell_type": "code",
   "execution_count": null,
   "id": "cb792e01",
   "metadata": {},
   "outputs": [],
   "source": [
    "raise KeyboardInterrupt"
   ]
  },
  {
   "cell_type": "code",
   "execution_count": null,
   "id": "c91d177f-8ff2-4ba9-a4da-b22885c1d439",
   "metadata": {},
   "outputs": [],
   "source": [
    "# import sklearn.linear_model\n",
    "from edge_sensor.sdr import airt\n",
    "from channel_analysis import waveform\n",
    "from iqwaveform import fourier\n",
    "\n",
    "duration = 0.1\n",
    "center_frequency_Hz = 763e6\n",
    "source.analysis_bandwidth = 10e6\n",
    "source.sample_rate = 15.36e6\n",
    "\n",
    "fs_sdr, lo_offset, resample_kws = fourier.design_cola_frequency_shift(fs_base=125e6, fs_target=source.sample_rate, bw=source.analysis_bandwidth)\n",
    "\n",
    "print('connecting...')\n",
    "capture = airt.AirTCapture(frequency_Hz=center_frequency_Hz+2*lo_offset, source.sample_rate=fs_sdr, gain_dB=0)\n",
    "\n",
    "try:\n",
    "    print('acquiring...')\n",
    "    raw_iq = capture.acquire(int(duration * fs_sdr))\n",
    "    resample_kws['frequency_shift'] = 'right'\n",
    "    iq = fourier.ola_filter(raw_iq, extend=True, **resample_kws)\n",
    "finally:\n",
    "    print('done')\n",
    "    capture.close()\n",
    "\n",
    "# # Option 2: No resample and shift\n",
    "# print('connecting...')\n",
    "# capture = airt.AirTCapture(frequency_Hz=center_frequency_Hz, source.sample_rate=source.sample_rate, gain_dB=0)\n",
    "\n",
    "# try:\n",
    "#     print('acquiring...')\n",
    "#     iq = capture.acquire(int(duration * source.sample_rate))\n",
    "# finally:\n",
    "#     print('done')\n",
    "#     capture.close()"
   ]
  },
  {
   "cell_type": "code",
   "execution_count": null,
   "id": "06e13b5f-141f-4df4-a457-12947faacc68",
   "metadata": {
    "scrolled": true
   },
   "outputs": [],
   "source": [
    "import iqwaveform\n",
    "from channel_analysis import figures\n",
    "import matplotlib.pyplot as plt\n",
    "from iqwaveform import powtodB\n",
    "\n",
    "plt.style.use('iqwaveform.ieee_double_column')\n",
    "\n",
    "# fig, ax = plt.subplots()\n",
    "# pvt = dataset.power_time_series\n",
    "# pvt.plot.line(x='time_elapsed', ax=ax)\n",
    "# figures.label_axis(ax.xaxis, pvt, 'time_elapsed')\n",
    "# figures.label_axis(ax.yaxis, pvt, tick_units=False)\n",
    "# figures.label_legend(ax, pvt, 'power_detector')\n",
    "\n",
    "# fig, ax = plt.subplots()\n",
    "# apd = dataset.amplitude_probability_distribution\n",
    "# apd.plot.line(x='channel_power', ax=ax)\n",
    "# ax.set_yscale('gamma-qq', k=1, db_ordinal=True)\n",
    "# figures.label_axis(ax.xaxis, apd, 'channel_power', tick_units=False)\n",
    "# figures.label_axis(ax.yaxis, apd)\n",
    "\n",
    "# fig, ax = plt.subplots()\n",
    "# cyclic_power = dataset.cyclic_channel_power\n",
    "# time = cyclic_power.cyclic_lag\n",
    "# for i, detector in enumerate(cyclic_power.power_detector.values):\n",
    "#     a = cyclic_power.sel(power_detector=detector)\n",
    "#     ax.plot(time, powtodB(a.sel(cyclic_statistic='mean')), color=f'C{i}')\n",
    "\n",
    "# for i, detector in enumerate(cyclic_power.power_detector.values):\n",
    "#     a = cyclic_power.sel(power_detector=detector)\n",
    "#     ax.fill_between(\n",
    "#         time,\n",
    "#         powtodB(a.sel(cyclic_statistic='min')),\n",
    "#         powtodB(a.sel(cyclic_statistic='max')),\n",
    "#         color=f'C{i}',\n",
    "#         alpha=0.25,\n",
    "#         lw=0,\n",
    "#         rasterized=True,\n",
    "#     )\n",
    "\n",
    "# figures.label_axis(ax.xaxis, cyclic_power, 'cyclic_lag')\n",
    "# figures.label_axis(ax.yaxis, cyclic_power, tick_units=False)\n",
    "# figures.label_legend(ax, cyclic_power, 'power_detector')\n",
    "\n",
    "fig, ax = plt.subplots()\n",
    "spectrum = dataset.persistence_spectrum\n",
    "spectrum.plot.line(x='baseband_frequency', ax=ax)\n",
    "figures.label_axis(ax.xaxis, spectrum, 'baseband_frequency')\n",
    "figures.label_axis(ax.yaxis, spectrum, tick_units=False)\n",
    "figures.label_legend(ax, spectrum, 'persistence_statistic')"
   ]
  },
  {
   "cell_type": "code",
   "execution_count": null,
   "id": "68626eee",
   "metadata": {},
   "outputs": [],
   "source": [
    "spectrum.sel(persistence_statistic='0.5').idxmax()"
   ]
  },
  {
   "cell_type": "code",
   "execution_count": null,
   "id": "43f48f8a",
   "metadata": {},
   "outputs": [],
   "source": [
    "lo_offset*(2304/3125)"
   ]
  }
 ],
 "metadata": {
  "kernelspec": {
   "display_name": "Python 3 (ipykernel)",
   "language": "python",
   "name": "python3"
  },
  "language_info": {
   "codemirror_mode": {
    "name": "ipython",
    "version": 3
   },
   "file_extension": ".py",
   "mimetype": "text/x-python",
   "name": "python",
   "nbconvert_exporter": "python",
   "pygments_lexer": "ipython3",
   "version": "3.9.19"
  }
 },
 "nbformat": 4,
 "nbformat_minor": 5
}
