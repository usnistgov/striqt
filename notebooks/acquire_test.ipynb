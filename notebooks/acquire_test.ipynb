{
 "cells": [
  {
   "cell_type": "code",
   "execution_count": null,
   "id": "d6d434fc",
   "metadata": {},
   "outputs": [],
   "source": [
    "import edge_sensor\n",
    "from edge_sensor.api.radio import SawtoothSource, NoiseSource, SingleToneSource\n",
    "from edge_sensor.api.radio import base\n",
    "from matplotlib import pyplot as plt\n",
    "import labbench as lb\n",
    "from scipy import signal\n",
    "import numpy as np\n",
    "\n",
    "lb.show_messages('info')\n",
    "\n",
    "noise1 = NoiseSource()\n",
    "noise1.open()\n",
    "\n",
    "noise2 = NoiseSource()\n",
    "noise2.open()\n",
    "capture_dir = edge_sensor.RadioCapture(host_resample=False, duration=0.5)\n",
    "capture_resamp = edge_sensor.RadioCapture(host_resample=True, duration=0.5)\n",
    "capture_shift = edge_sensor.RadioCapture(\n",
    "    host_resample=True, lo_shift='left', analysis_bandwidth=10e6, duration=0.5\n",
    ")\n",
    "\n",
    "base.design_capture_filter(noise1.base_clock_rate, capture_resamp)"
   ]
  },
  {
   "cell_type": "code",
   "execution_count": null,
   "id": "4c670d39",
   "metadata": {},
   "outputs": [],
   "source": [
    "iq, _ = noise1.acquire(capture_resamp, correction=True)\n",
    "iq2, _ = noise2.acquire(capture_dir)\n",
    "# sdr.stream.stop()\n",
    "print(iq.shape)\n",
    "# plt.plot(iq.real)\n",
    "# plt.plot(np.roll(iq2.real))"
   ]
  },
  {
   "cell_type": "code",
   "execution_count": null,
   "id": "6def9879",
   "metadata": {},
   "outputs": [],
   "source": [
    "from scipy import signal\n",
    "import iqwaveform\n",
    "\n",
    "for name, x in {'1': iq, '2': iq2}.items():\n",
    "    # R = signal.correlate(iq3, np.roll(iq, 34233))\n",
    "    R = signal.correlate(x, x, mode='same')\n",
    "    offs = np.arange(R.shape[-1]) - R.shape[-1] // 2\n",
    "    R /= R.size\n",
    "    plt.plot(offs, iqwaveform.powtodB(np.abs(R.T)), label=name)\n",
    "    plt.xlim([-10e2, 10e2])\n",
    "\n",
    "    peaks = offs[np.abs(R[0]) > 0.1]\n",
    "    print(peaks)\n",
    "    np.diff(peaks)\n",
    "plt.legend()"
   ]
  },
  {
   "cell_type": "code",
   "execution_count": null,
   "id": "ef172ea8",
   "metadata": {},
   "outputs": [],
   "source": [
    "R = signal.correlate(iq, iq2, mode='same')\n",
    "offs = np.arange(R.size) - R.size // 2\n",
    "R /= R.size\n",
    "plt.plot(offs, iqwaveform.powtodB(np.abs(R.T)))\n",
    "# plt.xlim([-10e2, 10e2])\n",
    "\n",
    "peaks = offs[np.abs(R[0]) > 0.1]\n",
    "print(peaks)\n",
    "np.diff(peaks)"
   ]
  },
  {
   "cell_type": "markdown",
   "id": "7eb89758",
   "metadata": {},
   "source": [
    "### Single-tone source"
   ]
  },
  {
   "cell_type": "code",
   "execution_count": null,
   "id": "b73e1b70",
   "metadata": {},
   "outputs": [],
   "source": [
    "fc = 3e6\n",
    "cw_gen = SingleToneSource(baseband_frequency=fc, snr=30)\n",
    "cw_gen.open()\n",
    "\n",
    "cw_gen.arm(capture_resamp)\n",
    "iq1, _ = cw_gen.acquire(capture_resamp)\n",
    "\n",
    "cw_gen.arm(capture_dir)\n",
    "iq2, _ = cw_gen.acquire(capture_dir)\n",
    "\n",
    "cw_gen.arm(capture_dir)\n",
    "iq3, _ = cw_gen.acquire(capture_shift)\n",
    "\n",
    "# sdr.stream.stop()\n",
    "# plt.plot(iq.real)\n",
    "# plt.plot(np.roll(iq2.real))"
   ]
  },
  {
   "cell_type": "code",
   "execution_count": null,
   "id": "895c87a2",
   "metadata": {},
   "outputs": [],
   "source": [
    "import channel_analysis\n",
    "\n",
    "for name, iq in {'1': iq1, '2': iq2, '3': iq3}.items():\n",
    "    result = channel_analysis.measurements.power_spectral_density(\n",
    "        iq,\n",
    "        capture_dir,\n",
    "        window=('dpss', 3.5),\n",
    "        frequency_resolution=15e3,\n",
    "        frequency_statistic=('mean',),\n",
    "    )\n",
    "    print(result.idxmax('baseband_frequency').values[0]/1e6, 'MHz', result.max().values)\n",
    "\n",
    "    # result = result - result.max()\n",
    "    result.plot(label=name)\n",
    "plt.legend()\n",
    "# plt.ylim([-110,-100])"
   ]
  },
  {
   "cell_type": "code",
   "execution_count": null,
   "id": "d2ec1659",
   "metadata": {},
   "outputs": [],
   "source": [
    "import channel_analysis\n",
    "\n",
    "for name, iq in {'1': iq1, '2': iq2, '3': iq3}.items():\n",
    "    result = channel_analysis.measurements.channel_power_time_series(\n",
    "        iq,\n",
    "        capture_dir,\n",
    "        detector_period=1e-4,\n",
    "        power_detectors=('rms',)\n",
    "    )\n",
    "    print(result.idxmax('time_elapsed').values[0]/1e6, 'MHz', result.max().values)\n",
    "\n",
    "    # result = result - result.max()\n",
    "    result.plot(label=name)\n",
    "\n",
    "plt.legend()\n",
    "# plt.ylim([-110,-100])"
   ]
  },
  {
   "cell_type": "code",
   "execution_count": null,
   "id": "20967577",
   "metadata": {},
   "outputs": [],
   "source": []
  },
  {
   "cell_type": "code",
   "execution_count": null,
   "id": "2a3706ae",
   "metadata": {},
   "outputs": [],
   "source": [
    "for capture in (capture_resamp, capture_dir, capture_shift):\n",
    "    _, _, d = edge_sensor.api.radio.base.design_capture_filter(cw_gen.base_clock_rate, capture)\n",
    "    print(20*np.log10(d['nfft']/d['nfft_out']))"
   ]
  }
 ],
 "metadata": {
  "kernelspec": {
   "display_name": "flex-spectrum-sensor",
   "language": "python",
   "name": "python3"
  },
  "language_info": {
   "codemirror_mode": {
    "name": "ipython",
    "version": 3
   },
   "file_extension": ".py",
   "mimetype": "text/x-python",
   "name": "python",
   "nbconvert_exporter": "python",
   "pygments_lexer": "ipython3",
   "version": "3.12.8"
  }
 },
 "nbformat": 4,
 "nbformat_minor": 5
}
