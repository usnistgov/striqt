{
 "cells": [
  {
   "cell_type": "markdown",
   "metadata": {},
   "source": [
    "# Background tests for data formatting\n",
    "\n",
    "## floating point error\n",
    "Can we use 16-bit floats to represent waveform data with acceptable accuracy?"
   ]
  },
  {
   "cell_type": "code",
   "execution_count": 1,
   "metadata": {},
   "outputs": [
    {
     "ename": "ImportError",
     "evalue": "cannot import name 'waveform' from 'channel_analysis' (/Users/dkuester/Documents/src/flex-spectrum-sensor/src/channel_analysis/__init__.py)",
     "output_type": "error",
     "traceback": [
      "\u001b[0;31m---------------------------------------------------------------------------\u001b[0m",
      "\u001b[0;31mImportError\u001b[0m                               Traceback (most recent call last)",
      "Cell \u001b[0;32mIn[1], line 6\u001b[0m\n\u001b[1;32m      4\u001b[0m \u001b[38;5;28;01mimport\u001b[39;00m \u001b[38;5;21;01mxarray\u001b[39;00m \u001b[38;5;28;01mas\u001b[39;00m \u001b[38;5;21;01mxr\u001b[39;00m\n\u001b[1;32m      5\u001b[0m \u001b[38;5;28;01mimport\u001b[39;00m \u001b[38;5;21;01mnumcodecs\u001b[39;00m\n\u001b[0;32m----> 6\u001b[0m \u001b[38;5;28;01mfrom\u001b[39;00m \u001b[38;5;21;01mchannel_analysis\u001b[39;00m \u001b[38;5;28;01mimport\u001b[39;00m io, source, structs, waveform\n\u001b[1;32m      7\u001b[0m \u001b[38;5;28;01mfrom\u001b[39;00m \u001b[38;5;21;01mpathlib\u001b[39;00m \u001b[38;5;28;01mimport\u001b[39;00m Path\n\u001b[1;32m      8\u001b[0m \u001b[38;5;28;01mimport\u001b[39;00m \u001b[38;5;21;01miqwaveform\u001b[39;00m\n",
      "\u001b[0;31mImportError\u001b[0m: cannot import name 'waveform' from 'channel_analysis' (/Users/dkuester/Documents/src/flex-spectrum-sensor/src/channel_analysis/__init__.py)"
     ]
    }
   ],
   "source": [
    "from __future__ import annotations\n",
    "import numpy as np\n",
    "from matplotlib import pyplot as plt\n",
    "import xarray as xr\n",
    "import numcodecs\n",
    "import channel_\n",
    "from channel_analysis import io, source, structs, waveform\n",
    "from pathlib import Path\n",
    "import iqwaveform\n",
    "import zarr\n",
    "\n",
    "path = 'test'\n",
    "\n",
    "\n",
    "def recursive_size(path):\n",
    "    path = Path(path)\n",
    "    if path.is_file():\n",
    "        return path.stat().st_size\n",
    "\n",
    "    size = 0\n",
    "    for p in Path(path).glob('**/*'):\n",
    "        if p.is_file():\n",
    "            size += p.stat().st_size\n",
    "\n",
    "    return size\n",
    "\n",
    "\n",
    "def dump_size(x, *args, **kwargs):\n",
    "    io.dump('test.zarr.zip', x, mode='w', *args, **kwargs)\n",
    "    return recursive_size('test.zarr.zip')\n",
    "\n",
    "\n",
    "fs = 15.36e6\n",
    "capture = structs.FilteredCapture(duration=0.1, sample_rate=fs, analysis_bandwidth=10e6)\n",
    "iq = channel_analysis.simulated_awgn(capture)\n",
    "\n",
    "x = channel_analysis.persistence_spectrum(\n",
    "    iq,\n",
    "    capture,\n",
    "    window=('dpss', 4),\n",
    "    frequency_resolution=1e3,\n",
    "    persistence_statistics=('mean', 0.5, 0.75, 0.9, 0.99, 'max'),\n",
    "    truncate=False,\n",
    ").to_xarray()\n",
    "x = xr.Dataset({'persistence_spectrum': x})\n",
    "\n",
    "ref_size = dump_size(x, compression=False, filter=False)\n",
    "\n",
    "# buf = x.tobytes()\n",
    "# arr = xr.DataArray(x)\n",
    "# ds = xr.Dataset({'iq_waveform': arr})\n",
    "# mem_size = (np.finfo(x.dtype).bits//8) * x.size\n",
    "\n",
    "quantizer = io.QuantizeTodB(3, 'float32')"
   ]
  },
  {
   "cell_type": "code",
   "execution_count": 2,
   "metadata": {},
   "outputs": [
    {
     "name": "stdout",
     "output_type": "stream",
     "text": [
      "4.33 ms ± 226 µs per loop (mean ± std. dev. of 7 runs, 10 loops each)\n",
      "Blosc(cname='zstd', clevel=1, shuffle=AUTOSHUFFLE, blocksize=0) - disk size: 179.1 kB, mem size: 309.5 kB, CR=0.579\n",
      "6.34 ms ± 160 µs per loop (mean ± std. dev. of 7 runs, 10 loops each)\n",
      "Blosc(cname='zlib', clevel=1, shuffle=AUTOSHUFFLE, blocksize=0) - disk size: 166.5 kB, mem size: 309.5 kB, CR=0.538\n",
      "3.84 ms ± 71.8 µs per loop (mean ± std. dev. of 7 runs, 10 loops each)\n",
      "Blosc(cname='lz4', clevel=1, shuffle=AUTOSHUFFLE, blocksize=0) - disk size: 209.4 kB, mem size: 309.5 kB, CR=0.677\n",
      "5.59 ms ± 295 µs per loop (mean ± std. dev. of 7 runs, 10 loops each)\n",
      "Blosc(cname='lz4hc', clevel=1, shuffle=AUTOSHUFFLE, blocksize=0) - disk size: 188.2 kB, mem size: 309.5 kB, CR=0.608\n",
      "4.17 ms ± 165 µs per loop (mean ± std. dev. of 7 runs, 10 loops each)\n",
      "Blosc(cname='blosclz', clevel=1, shuffle=AUTOSHUFFLE, blocksize=0) - disk size: 261.3 kB, mem size: 309.5 kB, CR=0.844\n",
      "5.45 ms ± 875 µs per loop (mean ± std. dev. of 7 runs, 10 loops each)\n",
      "Blosc(cname='zstd', clevel=3, shuffle=AUTOSHUFFLE, blocksize=0) - disk size: 167.1 kB, mem size: 309.5 kB, CR=0.540\n",
      "8.07 ms ± 137 µs per loop (mean ± std. dev. of 7 runs, 10 loops each)\n",
      "Blosc(cname='zlib', clevel=3, shuffle=AUTOSHUFFLE, blocksize=0) - disk size: 162.1 kB, mem size: 309.5 kB, CR=0.524\n",
      "3.77 ms ± 117 µs per loop (mean ± std. dev. of 7 runs, 10 loops each)\n",
      "Blosc(cname='lz4', clevel=3, shuffle=AUTOSHUFFLE, blocksize=0) - disk size: 205.6 kB, mem size: 309.5 kB, CR=0.664\n",
      "6.51 ms ± 75.8 µs per loop (mean ± std. dev. of 7 runs, 10 loops each)\n",
      "Blosc(cname='lz4hc', clevel=3, shuffle=AUTOSHUFFLE, blocksize=0) - disk size: 184.5 kB, mem size: 309.5 kB, CR=0.596\n",
      "4.37 ms ± 169 µs per loop (mean ± std. dev. of 7 runs, 10 loops each)\n",
      "Blosc(cname='blosclz', clevel=3, shuffle=AUTOSHUFFLE, blocksize=0) - disk size: 242.2 kB, mem size: 309.5 kB, CR=0.783\n",
      "7.92 ms ± 169 µs per loop (mean ± std. dev. of 7 runs, 10 loops each)\n",
      "Blosc(cname='zstd', clevel=5, shuffle=AUTOSHUFFLE, blocksize=0) - disk size: 163.0 kB, mem size: 309.5 kB, CR=0.527\n",
      "10.4 ms ± 88.4 µs per loop (mean ± std. dev. of 7 runs, 10 loops each)\n",
      "Blosc(cname='zlib', clevel=5, shuffle=AUTOSHUFFLE, blocksize=0) - disk size: 158.8 kB, mem size: 309.5 kB, CR=0.513\n",
      "4.13 ms ± 802 µs per loop (mean ± std. dev. of 7 runs, 10 loops each)\n",
      "Blosc(cname='lz4', clevel=5, shuffle=AUTOSHUFFLE, blocksize=0) - disk size: 203.8 kB, mem size: 309.5 kB, CR=0.659\n",
      "7.68 ms ± 94.8 µs per loop (mean ± std. dev. of 7 runs, 10 loops each)\n",
      "Blosc(cname='lz4hc', clevel=5, shuffle=AUTOSHUFFLE, blocksize=0) - disk size: 181.1 kB, mem size: 309.5 kB, CR=0.585\n",
      "4.31 ms ± 166 µs per loop (mean ± std. dev. of 7 runs, 10 loops each)\n",
      "Blosc(cname='blosclz', clevel=5, shuffle=AUTOSHUFFLE, blocksize=0) - disk size: 242.8 kB, mem size: 309.5 kB, CR=0.784\n",
      "9.9 ms ± 301 µs per loop (mean ± std. dev. of 7 runs, 10 loops each)\n",
      "Blosc(cname='zstd', clevel=7, shuffle=AUTOSHUFFLE, blocksize=0) - disk size: 168.0 kB, mem size: 309.5 kB, CR=0.543\n",
      "16.9 ms ± 267 µs per loop (mean ± std. dev. of 7 runs, 10 loops each)\n",
      "Blosc(cname='zlib', clevel=7, shuffle=AUTOSHUFFLE, blocksize=0) - disk size: 158.4 kB, mem size: 309.5 kB, CR=0.512\n",
      "3.83 ms ± 291 µs per loop (mean ± std. dev. of 7 runs, 10 loops each)\n",
      "Blosc(cname='lz4', clevel=7, shuffle=AUTOSHUFFLE, blocksize=0) - disk size: 202.1 kB, mem size: 309.5 kB, CR=0.653\n",
      "9.63 ms ± 67.8 µs per loop (mean ± std. dev. of 7 runs, 10 loops each)\n",
      "Blosc(cname='lz4hc', clevel=7, shuffle=AUTOSHUFFLE, blocksize=0) - disk size: 179.2 kB, mem size: 309.5 kB, CR=0.579\n",
      "4.12 ms ± 66.4 µs per loop (mean ± std. dev. of 7 runs, 10 loops each)\n",
      "Blosc(cname='blosclz', clevel=7, shuffle=AUTOSHUFFLE, blocksize=0) - disk size: 240.7 kB, mem size: 309.5 kB, CR=0.778\n",
      "29 ms ± 193 µs per loop (mean ± std. dev. of 7 runs, 10 loops each)\n",
      "Blosc(cname='zstd', clevel=9, shuffle=AUTOSHUFFLE, blocksize=0) - disk size: 155.5 kB, mem size: 309.5 kB, CR=0.503\n",
      "102 ms ± 950 µs per loop (mean ± std. dev. of 7 runs, 10 loops each)\n",
      "Blosc(cname='zlib', clevel=9, shuffle=AUTOSHUFFLE, blocksize=0) - disk size: 158.4 kB, mem size: 309.5 kB, CR=0.512\n",
      "3.95 ms ± 113 µs per loop (mean ± std. dev. of 7 runs, 10 loops each)\n",
      "Blosc(cname='lz4', clevel=9, shuffle=AUTOSHUFFLE, blocksize=0) - disk size: 198.4 kB, mem size: 309.5 kB, CR=0.641\n",
      "17.7 ms ± 130 µs per loop (mean ± std. dev. of 7 runs, 10 loops each)\n",
      "Blosc(cname='lz4hc', clevel=9, shuffle=AUTOSHUFFLE, blocksize=0) - disk size: 177.7 kB, mem size: 309.5 kB, CR=0.574\n",
      "4.43 ms ± 119 µs per loop (mean ± std. dev. of 7 runs, 10 loops each)\n",
      "Blosc(cname='blosclz', clevel=9, shuffle=AUTOSHUFFLE, blocksize=0) - disk size: 201.6 kB, mem size: 309.5 kB, CR=0.652\n"
     ]
    }
   ],
   "source": [
    "chunk_duration = 1000e-3\n",
    "\n",
    "for clevel in [1, 3, 5, 7, 9]:\n",
    "    compressors = (\n",
    "        numcodecs.Blosc(cname='zstd', clevel=clevel, shuffle=-1),\n",
    "        numcodecs.Blosc(cname='zlib', clevel=clevel, shuffle=-1),\n",
    "        numcodecs.Blosc(cname='lz4', clevel=clevel, shuffle=-1),\n",
    "        numcodecs.Blosc(cname='lz4hc', clevel=clevel, shuffle=-1),\n",
    "        numcodecs.Blosc(cname='blosclz', clevel=clevel, shuffle=-1),\n",
    "    )\n",
    "\n",
    "    for compressor in compressors:\n",
    "        out_size = dump_size(x, compression=compressor, filter=True)\n",
    "        %timeit -n10 dump_size(x, compression=compressor, filter=True)\n",
    "\n",
    "        print(\n",
    "            f'{compressor} - disk size: {out_size/1e3:0.1f} kB, mem size: {ref_size/1e3:0.1f} kB, CR={out_size/ref_size:0.3f}'\n",
    "        )"
   ]
  },
  {
   "cell_type": "code",
   "execution_count": 3,
   "metadata": {},
   "outputs": [
    {
     "name": "stdout",
     "output_type": "stream",
     "text": [
      "6.73 ms ± 857 µs per loop (mean ± std. dev. of 7 runs, 10 loops each)\n",
      "Blosc(cname='zlib', clevel=1, shuffle=AUTOSHUFFLE, blocksize=0) - disk size: 166.5 kB, mem size: 309.5 kB, CR=0.538\n",
      "6.35 ms ± 95.5 µs per loop (mean ± std. dev. of 7 runs, 10 loops each)\n",
      "Blosc(cname='zlib', clevel=1, shuffle=AUTOSHUFFLE, blocksize=0) - disk size: 166.5 kB, mem size: 309.5 kB, CR=0.538\n",
      "6.43 ms ± 191 µs per loop (mean ± std. dev. of 7 runs, 10 loops each)\n",
      "Blosc(cname='zlib', clevel=1, shuffle=AUTOSHUFFLE, blocksize=0) - disk size: 166.5 kB, mem size: 309.5 kB, CR=0.538\n",
      "7.57 ms ± 299 µs per loop (mean ± std. dev. of 7 runs, 10 loops each)\n",
      "Blosc(cname='zlib', clevel=1, shuffle=AUTOSHUFFLE, blocksize=0) - disk size: 297.3 kB, mem size: 309.5 kB, CR=0.961\n"
     ]
    }
   ],
   "source": [
    "for clevel in [1]:\n",
    "    compressor = numcodecs.Blosc(cname='zlib', clevel=clevel, shuffle=-1)\n",
    "    filters = [\n",
    "        io.QuantizeTodB(2, 'float32'),\n",
    "        io.QuantizeTodB(3, 'float32'),\n",
    "        io.QuantizeTodB(4, 'float32'),\n",
    "        False,\n",
    "    ]\n",
    "\n",
    "    for filter in filters:\n",
    "        out_size = dump_size(x, compression=compressor, filter=filter)\n",
    "        %timeit -n10 dump_size(x, compression=compressor, filter=filter)\n",
    "\n",
    "        print(\n",
    "            f'{compressor} - disk size: {out_size/1e3:0.1f} kB, mem size: {ref_size/1e3:0.1f} kB, CR={out_size/ref_size:0.3f}'\n",
    "        )"
   ]
  }
 ],
 "metadata": {
  "kernelspec": {
   "display_name": "spectrum-sensor-edge-analysis",
   "language": "python",
   "name": "python3"
  },
  "language_info": {
   "codemirror_mode": {
    "name": "ipython",
    "version": 3
   },
   "file_extension": ".py",
   "mimetype": "text/x-python",
   "name": "python",
   "nbconvert_exporter": "python",
   "pygments_lexer": "ipython3",
   "version": "3.9.19"
  }
 },
 "nbformat": 4,
 "nbformat_minor": 2
}
