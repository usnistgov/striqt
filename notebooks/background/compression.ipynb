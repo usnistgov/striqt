{
 "cells": [
  {
   "cell_type": "markdown",
   "metadata": {},
   "source": [
    "# Background tests for data formatting\n",
    "\n",
    "## floating point error\n",
    "Can we use 16-bit floats to represent waveform data with acceptable accuracy?"
   ]
  },
  {
   "cell_type": "code",
   "execution_count": 1,
   "metadata": {},
   "outputs": [],
   "source": [
    "from __future__ import annotations\n",
    "import numpy as np\n",
    "from matplotlib import pyplot as plt\n",
    "import xarray as xr\n",
    "import numcodecs\n",
    "from edge_analyzer import io\n",
    "from pathlib import Path\n",
    "\n",
    "path = 'test'\n",
    "\n",
    "def recursive_size(path):\n",
    "    path = Path(path)\n",
    "    if path.is_file():\n",
    "        return path.stat().st_size\n",
    "\n",
    "    size = 0\n",
    "    for p in Path(path).glob('**/*'):\n",
    "        if p.is_file():\n",
    "            size += p.stat().st_size\n",
    "\n",
    "    return size\n",
    "\n",
    "fs=15.36e6\n",
    "x = io.simulated_awgn(duration=0.1, sample_rate=fs)\n",
    "buf = x.tobytes()\n",
    "arr = xr.DataArray(x)\n",
    "ds = xr.Dataset({'iq_waveform': arr})\n",
    "mem_size = (np.finfo(x.dtype).bits//8) * x.size"
   ]
  },
  {
   "cell_type": "code",
   "execution_count": 2,
   "metadata": {},
   "outputs": [
    {
     "data": {
      "text/plain": [
       "Blosc(cname='zfp', clevel=5, shuffle=SHUFFLE, blocksize=0)"
      ]
     },
     "execution_count": 2,
     "metadata": {},
     "output_type": "execute_result"
    }
   ],
   "source": [
    "numcodecs.Blosc(cname='zfp')"
   ]
  },
  {
   "cell_type": "code",
   "execution_count": 3,
   "metadata": {},
   "outputs": [
    {
     "ename": "SyntaxError",
     "evalue": "invalid syntax (3911409300.py, line 1)",
     "output_type": "error",
     "traceback": [
      "\u001b[0;36m  Cell \u001b[0;32mIn[3], line 1\u001b[0;36m\u001b[0m\n\u001b[0;31m    numcodecs.Blosc.\u001b[0m\n\u001b[0m                    ^\u001b[0m\n\u001b[0;31mSyntaxError\u001b[0m\u001b[0;31m:\u001b[0m invalid syntax\n"
     ]
    }
   ],
   "source": [
    "numcodecs.Blosc."
   ]
  },
  {
   "cell_type": "code",
   "execution_count": 4,
   "metadata": {},
   "outputs": [
    {
     "ename": "ModuleNotFoundError",
     "evalue": "No module named 'blosc'",
     "output_type": "error",
     "traceback": [
      "\u001b[0;31m---------------------------------------------------------------------------\u001b[0m",
      "\u001b[0;31mModuleNotFoundError\u001b[0m                       Traceback (most recent call last)",
      "Cell \u001b[0;32mIn[4], line 1\u001b[0m\n\u001b[0;32m----> 1\u001b[0m \u001b[38;5;28;01mimport\u001b[39;00m \u001b[38;5;21;01mblosc\u001b[39;00m\n",
      "\u001b[0;31mModuleNotFoundError\u001b[0m: No module named 'blosc'"
     ]
    }
   ],
   "source": [
    "import blosc"
   ]
  },
  {
   "cell_type": "code",
   "execution_count": 9,
   "metadata": {},
   "outputs": [
    {
     "name": "stdout",
     "output_type": "stream",
     "text": [
      "Blosc(cname='zstd', clevel=9, shuffle=AUTOSHUFFLE, blocksize=0) - disk size: 10.4 MB, mem size: 12.3 MB, CR=1.179\n",
      "Blosc(cname='zlib', clevel=9, shuffle=AUTOSHUFFLE, blocksize=0) - disk size: 10.5 MB, mem size: 12.3 MB, CR=1.168\n",
      "Blosc(cname='lz4', clevel=9, shuffle=AUTOSHUFFLE, blocksize=0) - disk size: 12.3 MB, mem size: 12.3 MB, CR=1.000\n",
      "Blosc(cname='lz4hc', clevel=9, shuffle=AUTOSHUFFLE, blocksize=0) - disk size: 12.3 MB, mem size: 12.3 MB, CR=1.000\n",
      "Blosc(cname='blosclz', clevel=9, shuffle=AUTOSHUFFLE, blocksize=0) - disk size: 12.3 MB, mem size: 12.3 MB, CR=1.000\n"
     ]
    }
   ],
   "source": [
    "chunk_duration=1000e-3\n",
    "compressors = (\n",
    "    numcodecs.Blosc(cname=\"zstd\", clevel=9, shuffle=-1),\n",
    "    numcodecs.Blosc(cname=\"zlib\", clevel=9, shuffle=-1),\n",
    "    numcodecs.Blosc(cname=\"lz4\", clevel=9, shuffle=-1),\n",
    "    numcodecs.Blosc(cname=\"lz4hc\", clevel=9, shuffle=-1),\n",
    "    numcodecs.Blosc(cname=\"blosclz\", clevel=9, shuffle=-1),\n",
    ")\n",
    "\n",
    "test = x.round(5)\n",
    "buf = test.tobytes()\n",
    "for compressor in compressors:\n",
    "    out_size = len(compressor.encode(buf))\n",
    "\n",
    "    print(f'{compressor} - disk size: {out_size/1e6:0.1f} MB, mem size: {len(buf)/1e6:0.1f} MB, CR={len(buf)/out_size:0.3f}')"
   ]
  },
  {
   "cell_type": "code",
   "execution_count": null,
   "metadata": {},
   "outputs": [
    {
     "name": "stdout",
     "output_type": "stream",
     "text": [
      "\n",
      "\n",
      "Real-Imag\n",
      "70 ms ± 0 ns per loop (mean ± std. dev. of 1 run, 1 loop each)\n",
      "117 ms ± 0 ns per loop (mean ± std. dev. of 1 run, 1 loop each)\n",
      "ZFPY(mode=4, tolerance=1e-07, rate=-1, precision=-1) - disk size: 11.3 MB, mem size: 12.3 MB, CR=1.085\n",
      "66.1 ms ± 0 ns per loop (mean ± std. dev. of 1 run, 1 loop each)\n",
      "102 ms ± 0 ns per loop (mean ± std. dev. of 1 run, 1 loop each)\n",
      "ZFPY(mode=4, tolerance=1e-06, rate=-1, precision=-1) - disk size: 9.8 MB, mem size: 12.3 MB, CR=1.255\n",
      "63.4 ms ± 0 ns per loop (mean ± std. dev. of 1 run, 1 loop each)\n",
      "91.5 ms ± 0 ns per loop (mean ± std. dev. of 1 run, 1 loop each)\n",
      "ZFPY(mode=4, tolerance=1e-05, rate=-1, precision=-1) - disk size: 8.6 MB, mem size: 12.3 MB, CR=1.422\n",
      "61 ms ± 0 ns per loop (mean ± std. dev. of 1 run, 1 loop each)\n",
      "80.2 ms ± 0 ns per loop (mean ± std. dev. of 1 run, 1 loop each)\n",
      "ZFPY(mode=4, tolerance=0.0001, rate=-1, precision=-1) - disk size: 7.5 MB, mem size: 12.3 MB, CR=1.641\n",
      "58.2 ms ± 0 ns per loop (mean ± std. dev. of 1 run, 1 loop each)\n",
      "65.9 ms ± 0 ns per loop (mean ± std. dev. of 1 run, 1 loop each)\n",
      "ZFPY(mode=4, tolerance=0.001, rate=-1, precision=-1) - disk size: 6.0 MB, mem size: 12.3 MB, CR=2.065\n",
      "53.6 ms ± 0 ns per loop (mean ± std. dev. of 1 run, 1 loop each)\n",
      "55.3 ms ± 0 ns per loop (mean ± std. dev. of 1 run, 1 loop each)\n",
      "ZFPY(mode=4, tolerance=0.01, rate=-1, precision=-1) - disk size: 4.8 MB, mem size: 12.3 MB, CR=2.561\n",
      "\n",
      "\n",
      "Magnitude-Phase\n",
      "66 ms ± 0 ns per loop (mean ± std. dev. of 1 run, 1 loop each)\n",
      "115 ms ± 0 ns per loop (mean ± std. dev. of 1 run, 1 loop each)\n",
      "ZFPY(mode=4, tolerance=1e-07, rate=-1, precision=-1) - disk size: 11.7 MB, mem size: 12.3 MB, CR=1.048\n",
      "63.1 ms ± 0 ns per loop (mean ± std. dev. of 1 run, 1 loop each)\n",
      "100 ms ± 0 ns per loop (mean ± std. dev. of 1 run, 1 loop each)\n",
      "ZFPY(mode=4, tolerance=1e-06, rate=-1, precision=-1) - disk size: 10.2 MB, mem size: 12.3 MB, CR=1.206\n",
      "60.8 ms ± 0 ns per loop (mean ± std. dev. of 1 run, 1 loop each)\n",
      "91 ms ± 0 ns per loop (mean ± std. dev. of 1 run, 1 loop each)\n",
      "ZFPY(mode=4, tolerance=1e-05, rate=-1, precision=-1) - disk size: 9.0 MB, mem size: 12.3 MB, CR=1.360\n",
      "58.1 ms ± 0 ns per loop (mean ± std. dev. of 1 run, 1 loop each)\n",
      "81.2 ms ± 0 ns per loop (mean ± std. dev. of 1 run, 1 loop each)\n",
      "ZFPY(mode=4, tolerance=0.0001, rate=-1, precision=-1) - disk size: 7.9 MB, mem size: 12.3 MB, CR=1.559\n",
      "54.6 ms ± 0 ns per loop (mean ± std. dev. of 1 run, 1 loop each)\n",
      "67.8 ms ± 0 ns per loop (mean ± std. dev. of 1 run, 1 loop each)\n",
      "ZFPY(mode=4, tolerance=0.001, rate=-1, precision=-1) - disk size: 6.3 MB, mem size: 12.3 MB, CR=1.936\n",
      "51.2 ms ± 0 ns per loop (mean ± std. dev. of 1 run, 1 loop each)\n",
      "57.4 ms ± 0 ns per loop (mean ± std. dev. of 1 run, 1 loop each)\n",
      "ZFPY(mode=4, tolerance=0.01, rate=-1, precision=-1) - disk size: 5.2 MB, mem size: 12.3 MB, CR=2.365\n"
     ]
    }
   ],
   "source": [
    "compressors = [\n",
    "    numcodecs.zfpy.ZFPY(tolerance=tol)\n",
    "    for tol in (1e-7, 1e-6, 1e-5, 1e-4, 1e-3, 1e-2)\n",
    "]\n",
    "\n",
    "xmagphase = x.copy().view('float32')\n",
    "xmagphase[::2] = np.abs(x).round(2)\n",
    "xmagphase[1::2] = np.angle(x).round(2)\n",
    "\n",
    "test = x.view('float32')\n",
    "buf = x.tobytes()\n",
    "\n",
    "print('\\n\\nReal-Imag')\n",
    "for compressor in compressors:\n",
    "    out = compressor.encode(x.view('float32'))\n",
    "\n",
    "    %timeit -n1 -r1 compressor.encode(x.view('float32'))\n",
    "    %timeit -n1 -r1 compressor.decode(out)\n",
    "    out_size = len(out)\n",
    "\n",
    "    print(f'{compressor} - disk size: {out_size/1e6:0.1f} MB, mem size: {len(buf)/1e6:0.1f} MB, CR={len(buf)/out_size:0.3f}')\n",
    "\n",
    "print('\\n\\nMagnitude-Phase')\n",
    "for compressor in compressors:\n",
    "    out = compressor.encode(xmagphase)\n",
    "\n",
    "    %timeit -n1 -r1 compressor.encode(xmagphase)\n",
    "    %timeit -n1 -r1 compressor.decode(out)\n",
    "    out_size = len(out)\n",
    "\n",
    "    print(f'{compressor} - disk size: {out_size/1e6:0.1f} MB, mem size: {len(buf)/1e6:0.1f} MB, CR={len(buf)/out_size:0.3f}')"
   ]
  },
  {
   "cell_type": "code",
   "execution_count": null,
   "metadata": {},
   "outputs": [
    {
     "name": "stdout",
     "output_type": "stream",
     "text": [
      "disk size: 10.4 MB, mem size: 12.3 MB, CR=1.182\n"
     ]
    }
   ],
   "source": [
    "chunk_duration=100e-3\n",
    "compressor = numcodecs.Zstd(level=14)\n",
    "\n",
    "chunks =  {'dim_0': round(fs*chunk_duration)}\n",
    "ds.chunk(chunks).to_zarr(path, encoding={\"iq_waveform\": {\"compressor\": compressor}}, mode='w')\n",
    "\n",
    "disk_size = recursive_size(f'{path}/iq_waveform')\n",
    "print(f'disk size: {disk_size/1e6:0.1f} MB, mem size: {mem_size/1e6:0.1f} MB, CR={mem_size/disk_size:0.3f}')"
   ]
  },
  {
   "cell_type": "code",
   "execution_count": 19,
   "metadata": {},
   "outputs": [
    {
     "name": "stdout",
     "output_type": "stream",
     "text": [
      "1.03 s ± 0 ns per loop (mean ± std. dev. of 1 run, 1 loop each)\n",
      "340 ms ± 0 ns per loop (mean ± std. dev. of 1 run, 1 loop each)\n",
      "LZMA(format=1, check=-1, preset=0, filters=None) - disk size: 9.4 MB, mem size: 12.3 MB, CR=1.314\n"
     ]
    }
   ],
   "source": [
    "chunk_duration=100e-3\n",
    "compressor = numcodecs.LZMA(preset=0)\n",
    "\n",
    "test = x.round(5)\n",
    "buf = test.tobytes()\n",
    "\n",
    "out = compressor.encode(buf)\n",
    "%timeit -n1 -r1 compressor.encode(buf)\n",
    "%timeit -n1 -r1 compressor.decode(out)\n",
    "out_size = len(out)\n",
    "\n",
    "print(f'{compressor} - disk size: {out_size/1e6:0.1f} MB, mem size: {len(buf)/1e6:0.1f} MB, CR={len(buf)/out_size:0.3f}')"
   ]
  },
  {
   "cell_type": "code",
   "execution_count": 20,
   "metadata": {},
   "outputs": [
    {
     "name": "stdout",
     "output_type": "stream",
     "text": [
      "1.47 s ± 0 ns per loop (mean ± std. dev. of 1 run, 1 loop each)\n",
      "25.9 ms ± 0 ns per loop (mean ± std. dev. of 1 run, 1 loop each)\n",
      "Zstd(level=17) - disk size: 8.8 MB, mem size: 12.3 MB, CR=1.402\n"
     ]
    }
   ],
   "source": [
    "chunk_duration=100e-3\n",
    "compressor = numcodecs.Zstd(level=17)\n",
    "\n",
    "test = x.round(5)\n",
    "buf = test.tobytes()\n",
    "\n",
    "out = compressor.encode(buf)\n",
    "%timeit -n1 -r1 compressor.encode(buf)\n",
    "%timeit -n1 -r1 compressor.decode(out)\n",
    "out_size = len(out)\n",
    "\n",
    "print(f'{compressor} - disk size: {out_size/1e6:0.1f} MB, mem size: {len(buf)/1e6:0.1f} MB, CR={len(buf)/out_size:0.3f}')"
   ]
  },
  {
   "cell_type": "code",
   "execution_count": 23,
   "metadata": {},
   "outputs": [
    {
     "name": "stdout",
     "output_type": "stream",
     "text": [
      "724 ms ± 0 ns per loop (mean ± std. dev. of 1 run, 1 loop each)\n",
      "395 ms ± 0 ns per loop (mean ± std. dev. of 1 run, 1 loop each)\n",
      "BZ2(level=4) - disk size: 9.7 MB, mem size: 12.3 MB, CR=1.273\n"
     ]
    }
   ],
   "source": [
    "chunk_duration=100e-3\n",
    "compressor = numcodecs.BZ2(level=4)\n",
    "\n",
    "test = x.round(5)\n",
    "buf = test.tobytes()\n",
    "\n",
    "\n",
    "out = compressor.encode(buf)\n",
    "%timeit -n1 -r1 compressor.encode(buf)\n",
    "%timeit -n1 -r1 compressor.decode(out)\n",
    "out_size = len(out)\n",
    "\n",
    "print(f'{compressor} - disk size: {out_size/1e6:0.1f} MB, mem size: {len(buf)/1e6:0.1f} MB, CR={len(buf)/out_size:0.3f}')"
   ]
  },
  {
   "cell_type": "code",
   "execution_count": 24,
   "metadata": {},
   "outputs": [
    {
     "ename": "ValueError",
     "evalue": "Invalid initialization option",
     "output_type": "error",
     "traceback": [
      "\u001b[0;31m---------------------------------------------------------------------------\u001b[0m",
      "\u001b[0;31mValueError\u001b[0m                                Traceback (most recent call last)",
      "Cell \u001b[0;32mIn[24], line 7\u001b[0m\n\u001b[1;32m      4\u001b[0m test \u001b[38;5;241m=\u001b[39m x\u001b[38;5;241m.\u001b[39mround(\u001b[38;5;241m5\u001b[39m)\n\u001b[1;32m      5\u001b[0m buf \u001b[38;5;241m=\u001b[39m test\u001b[38;5;241m.\u001b[39mtobytes()\n\u001b[0;32m----> 7\u001b[0m out \u001b[38;5;241m=\u001b[39m \u001b[43mcompressor\u001b[49m\u001b[38;5;241;43m.\u001b[39;49m\u001b[43mencode\u001b[49m\u001b[43m(\u001b[49m\u001b[43mbuf\u001b[49m\u001b[43m)\u001b[49m\n\u001b[1;32m      8\u001b[0m get_ipython()\u001b[38;5;241m.\u001b[39mrun_line_magic(\u001b[38;5;124m'\u001b[39m\u001b[38;5;124mtimeit\u001b[39m\u001b[38;5;124m'\u001b[39m, \u001b[38;5;124m'\u001b[39m\u001b[38;5;124m-n1 -r1 compressor.encode(buf)\u001b[39m\u001b[38;5;124m'\u001b[39m)\n\u001b[1;32m      9\u001b[0m get_ipython()\u001b[38;5;241m.\u001b[39mrun_line_magic(\u001b[38;5;124m'\u001b[39m\u001b[38;5;124mtimeit\u001b[39m\u001b[38;5;124m'\u001b[39m, \u001b[38;5;124m'\u001b[39m\u001b[38;5;124m-n1 -r1 compressor.decode(out)\u001b[39m\u001b[38;5;124m'\u001b[39m)\n",
      "File \u001b[0;32m/opt/homebrew/Caskroom/mambaforge/base/envs/spectrum-sensor-edge-analysis/lib/python3.9/site-packages/numcodecs/gzip.py:30\u001b[0m, in \u001b[0;36mGZip.encode\u001b[0;34m(self, buf)\u001b[0m\n\u001b[1;32m     28\u001b[0m \u001b[38;5;66;03m# do compression\u001b[39;00m\n\u001b[1;32m     29\u001b[0m compressed \u001b[38;5;241m=\u001b[39m io\u001b[38;5;241m.\u001b[39mBytesIO()\n\u001b[0;32m---> 30\u001b[0m \u001b[38;5;28;01mwith\u001b[39;00m \u001b[43m_gzip\u001b[49m\u001b[38;5;241;43m.\u001b[39;49m\u001b[43mGzipFile\u001b[49m\u001b[43m(\u001b[49m\u001b[43mfileobj\u001b[49m\u001b[38;5;241;43m=\u001b[39;49m\u001b[43mcompressed\u001b[49m\u001b[43m,\u001b[49m\n\u001b[1;32m     31\u001b[0m \u001b[43m                    \u001b[49m\u001b[43mmode\u001b[49m\u001b[38;5;241;43m=\u001b[39;49m\u001b[38;5;124;43m'\u001b[39;49m\u001b[38;5;124;43mwb\u001b[39;49m\u001b[38;5;124;43m'\u001b[39;49m\u001b[43m,\u001b[49m\n\u001b[1;32m     32\u001b[0m \u001b[43m                    \u001b[49m\u001b[43mcompresslevel\u001b[49m\u001b[38;5;241;43m=\u001b[39;49m\u001b[38;5;28;43mself\u001b[39;49m\u001b[38;5;241;43m.\u001b[39;49m\u001b[43mlevel\u001b[49m\u001b[43m)\u001b[49m \u001b[38;5;28;01mas\u001b[39;00m compressor:\n\u001b[1;32m     33\u001b[0m     compressor\u001b[38;5;241m.\u001b[39mwrite(buf)\n\u001b[1;32m     34\u001b[0m compressed \u001b[38;5;241m=\u001b[39m compressed\u001b[38;5;241m.\u001b[39mgetvalue()\n",
      "File \u001b[0;32m/opt/homebrew/Caskroom/mambaforge/base/envs/spectrum-sensor-edge-analysis/lib/python3.9/gzip.py:200\u001b[0m, in \u001b[0;36mGzipFile.__init__\u001b[0;34m(self, filename, mode, compresslevel, fileobj, mtime)\u001b[0m\n\u001b[1;32m    198\u001b[0m     \u001b[38;5;28mself\u001b[39m\u001b[38;5;241m.\u001b[39mmode \u001b[38;5;241m=\u001b[39m WRITE\n\u001b[1;32m    199\u001b[0m     \u001b[38;5;28mself\u001b[39m\u001b[38;5;241m.\u001b[39m_init_write(filename)\n\u001b[0;32m--> 200\u001b[0m     \u001b[38;5;28mself\u001b[39m\u001b[38;5;241m.\u001b[39mcompress \u001b[38;5;241m=\u001b[39m \u001b[43mzlib\u001b[49m\u001b[38;5;241;43m.\u001b[39;49m\u001b[43mcompressobj\u001b[49m\u001b[43m(\u001b[49m\u001b[43mcompresslevel\u001b[49m\u001b[43m,\u001b[49m\n\u001b[1;32m    201\u001b[0m \u001b[43m                                     \u001b[49m\u001b[43mzlib\u001b[49m\u001b[38;5;241;43m.\u001b[39;49m\u001b[43mDEFLATED\u001b[49m\u001b[43m,\u001b[49m\n\u001b[1;32m    202\u001b[0m \u001b[43m                                     \u001b[49m\u001b[38;5;241;43m-\u001b[39;49m\u001b[43mzlib\u001b[49m\u001b[38;5;241;43m.\u001b[39;49m\u001b[43mMAX_WBITS\u001b[49m\u001b[43m,\u001b[49m\n\u001b[1;32m    203\u001b[0m \u001b[43m                                     \u001b[49m\u001b[43mzlib\u001b[49m\u001b[38;5;241;43m.\u001b[39;49m\u001b[43mDEF_MEM_LEVEL\u001b[49m\u001b[43m,\u001b[49m\n\u001b[1;32m    204\u001b[0m \u001b[43m                                     \u001b[49m\u001b[38;5;241;43m0\u001b[39;49m\u001b[43m)\u001b[49m\n\u001b[1;32m    205\u001b[0m     \u001b[38;5;28mself\u001b[39m\u001b[38;5;241m.\u001b[39m_write_mtime \u001b[38;5;241m=\u001b[39m mtime\n\u001b[1;32m    206\u001b[0m \u001b[38;5;28;01melse\u001b[39;00m:\n",
      "\u001b[0;31mValueError\u001b[0m: Invalid initialization option"
     ]
    }
   ],
   "source": [
    "chunk_duration=100e-3\n",
    "compressor = numcodecs.GZip(level=19)\n",
    "\n",
    "test = x.round(5)\n",
    "buf = test.tobytes()\n",
    "\n",
    "out = compressor.encode(buf)\n",
    "%timeit -n1 -r1 compressor.encode(buf)\n",
    "%timeit -n1 -r1 compressor.decode(out)\n",
    "out_size = len(out)\n",
    "\n",
    "print(f'{compressor} - disk size: {out_size/1e6:0.1f} MB, mem size: {len(buf)/1e6:0.1f} MB, CR={len(buf)/out_size:0.3f}')"
   ]
  }
 ],
 "metadata": {
  "kernelspec": {
   "display_name": "spectrum-sensor-edge-analysis",
   "language": "python",
   "name": "python3"
  },
  "language_info": {
   "codemirror_mode": {
    "name": "ipython",
    "version": 3
   },
   "file_extension": ".py",
   "mimetype": "text/x-python",
   "name": "python",
   "nbconvert_exporter": "python",
   "pygments_lexer": "ipython3",
   "version": "3.9.19"
  }
 },
 "nbformat": 4,
 "nbformat_minor": 2
}
