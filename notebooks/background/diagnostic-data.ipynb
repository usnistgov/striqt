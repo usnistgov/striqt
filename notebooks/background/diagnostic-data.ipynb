{
 "cells": [
  {
   "cell_type": "code",
   "execution_count": 1,
   "metadata": {},
   "outputs": [],
   "source": [
    "import psutil"
   ]
  },
  {
   "cell_type": "code",
   "execution_count": 44,
   "metadata": {},
   "outputs": [
    {
     "data": {
      "text/plain": [
       "['sensors_temperatures', 'sensors_fans', 'boot_time', 'sensors_battery']"
      ]
     },
     "execution_count": 44,
     "metadata": {},
     "output_type": "execute_result"
    }
   ],
   "source": [
    "[\n",
    "    'sensors_temperatures',\n",
    "    'sensors_fans',\n",
    "    'boot_time',\n",
    "    'sensors_battery',\n",
    "]\n",
    "# psutil.sensors_temperatures()\n",
    "# psutil.boot_time()"
   ]
  },
  {
   "cell_type": "code",
   "execution_count": 86,
   "metadata": {},
   "outputs": [
    {
     "data": {
      "text/plain": [
       "{'swap_memory': {'total': 0,\n",
       "  'used': 0,\n",
       "  'free': 0,\n",
       "  'percent': 0.0,\n",
       "  'sin': 293257199616,\n",
       "  'sout': 998703104},\n",
       " 'virtual_memory': {'total': 68719476736,\n",
       "  'available': 32041041920,\n",
       "  'percent': 53.4,\n",
       "  'used': 34897772544,\n",
       "  'free': 313147392,\n",
       "  'active': 31781126144,\n",
       "  'inactive': 30744625152,\n",
       "  'wired': 3116646400},\n",
       " 'disk_usage': {'total': 3996329328640,\n",
       "  'used': 436057632768,\n",
       "  'free': 3560271695872,\n",
       "  'percent': 10.9},\n",
       " 'temperatures': None,\n",
       " 'fans': None,\n",
       " 'battery': {'percent': 100, 'secsleft': None, 'power_plugged': True},\n",
       " 'boot_time': '2024-05-22 16:45:20'}"
      ]
     },
     "execution_count": 86,
     "metadata": {},
     "output_type": "execute_result"
    }
   ],
   "source": [
    "from __future__ import annotations\n",
    "from datetime import datetime\n",
    "from numbers import Number\n",
    "from enum import Enum\n",
    "\n",
    "\n",
    "def validate(obj: dict | list | tuple):\n",
    "    if isinstance(obj, dict):\n",
    "        return {k: validate(v) for k, v in obj.items()}\n",
    "    elif isinstance(obj, (list, tuple)):\n",
    "        return [validate(v) for v in obj]\n",
    "    elif isinstance(obj, Enum):\n",
    "        return None\n",
    "    elif isinstance(obj, (Number, bool, str)):\n",
    "        return obj\n",
    "    else:\n",
    "        raise TypeError(f'object \"{repr(obj)}\" has unsupported type')\n",
    "\n",
    "\n",
    "def asdict(obj):\n",
    "    if hasattr(obj, '_asdict'):\n",
    "        ret = obj._asdict()\n",
    "    elif isinstance(obj, list):\n",
    "        ret = dict(enumerate(obj))\n",
    "    else:\n",
    "        ret = dict(obj)\n",
    "\n",
    "    return validate(ret)\n",
    "\n",
    "\n",
    "def get_psutil(name, *args, **kws):\n",
    "    try:\n",
    "        func = getattr(psutil, name)\n",
    "    except AttributeError:\n",
    "        return None\n",
    "\n",
    "    ret = func(*args, **kws)\n",
    "\n",
    "    try:\n",
    "        return asdict(ret)\n",
    "    except:\n",
    "        print('problem object: ', repr(ret))\n",
    "        raise\n",
    "\n",
    "\n",
    "def get_diagnostics():\n",
    "    return {\n",
    "        # memory\n",
    "        'swap_memory': get_psutil('swap_memory'),\n",
    "        'virtual_memory': get_psutil('virtual_memory'),\n",
    "        # storage\n",
    "        'disk_usage': get_psutil('disk_usage', '.'),\n",
    "        # sensors\n",
    "        'temperatures': get_psutil('sensors_temperatures'),\n",
    "        'fans': get_psutil('sensors_fans'),\n",
    "        'battery': get_psutil('sensors_battery'),\n",
    "        # boot time\n",
    "        'boot_time': datetime.fromtimestamp(psutil.boot_time()).strftime(\n",
    "            '%Y-%m-%d %H:%M:%S'\n",
    "        ),\n",
    "    }\n",
    "\n",
    "\n",
    "get_diagnostics()"
   ]
  },
  {
   "cell_type": "code",
   "execution_count": 84,
   "metadata": {},
   "outputs": [
    {
     "data": {
      "text/plain": [
       "True"
      ]
     },
     "execution_count": 84,
     "metadata": {},
     "output_type": "execute_result"
    }
   ],
   "source": [
    "import enum"
   ]
  },
  {
   "cell_type": "code",
   "execution_count": 57,
   "metadata": {},
   "outputs": [
    {
     "data": {
      "text/plain": [
       "potato(a=4)"
      ]
     },
     "execution_count": 57,
     "metadata": {},
     "output_type": "execute_result"
    }
   ],
   "source": [
    "t = namedtuple('potato', ('a',))\n",
    "t(a=4)"
   ]
  }
 ],
 "metadata": {
  "kernelspec": {
   "display_name": "spectrum-sensor-edge-analysis",
   "language": "python",
   "name": "python3"
  },
  "language_info": {
   "codemirror_mode": {
    "name": "ipython",
    "version": 3
   },
   "file_extension": ".py",
   "mimetype": "text/x-python",
   "name": "python",
   "nbconvert_exporter": "python",
   "pygments_lexer": "ipython3",
   "version": "3.9.19"
  }
 },
 "nbformat": 4,
 "nbformat_minor": 2
}
