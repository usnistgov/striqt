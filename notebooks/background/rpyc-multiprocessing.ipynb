{
 "cells": [
  {
   "cell_type": "code",
   "execution_count": null,
   "metadata": {},
   "outputs": [],
   "source": []
  },
  {
   "cell_type": "code",
   "execution_count": 3,
   "metadata": {},
   "outputs": [
    {
     "name": "stdout",
     "output_type": "stream",
     "text": [
      "open!\n"
     ]
    },
    {
     "name": "stderr",
     "output_type": "stream",
     "text": [
      "\u001b[1;30m INFO  \u001b[0m \u001b[32m2024-07-31 09:38:10,732.732\u001b[0m • \u001b[34mMyDevice():\u001b[0m message!\n",
      "Exception ignored in: <function SharedMemory.__del__ at 0x7f67dacdc0>\n",
      "Traceback (most recent call last):\n",
      "  File \"/home/dkuester/micromamba/envs/flex-spectrum-sensor/lib/python3.9/multiprocessing/shared_memory.py\", line 184, in __del__\n",
      "    self.close()\n",
      "  File \"/home/dkuester/micromamba/envs/flex-spectrum-sensor/lib/python3.9/multiprocessing/shared_memory.py\", line 227, in close\n",
      "    self._mmap.close()\n",
      "BufferError: cannot close exported pointers exist\n"
     ]
    },
    {
     "name": "stdout",
     "output_type": "stream",
     "text": [
      "adapter enter\n"
     ]
    },
    {
     "name": "stderr",
     "output_type": "stream",
     "text": [
      "Exception ignored in: <function SharedMemory.__del__ at 0x7f67dacdc0>\n",
      "Traceback (most recent call last):\n",
      "  File \"/home/dkuester/micromamba/envs/flex-spectrum-sensor/lib/python3.9/multiprocessing/shared_memory.py\", line 184, in __del__\n",
      "    self.close()\n",
      "  File \"/home/dkuester/micromamba/envs/flex-spectrum-sensor/lib/python3.9/multiprocessing/shared_memory.py\", line 227, in close\n",
      "    self._mmap.close()\n",
      "BufferError: cannot close exported pointers exist\n",
      "Exception ignored in: <function SharedMemory.__del__ at 0x7f67dacdc0>\n",
      "Traceback (most recent call last):\n",
      "  File \"/home/dkuester/micromamba/envs/flex-spectrum-sensor/lib/python3.9/multiprocessing/shared_memory.py\", line 184, in __del__\n",
      "    self.close()\n",
      "  File \"/home/dkuester/micromamba/envs/flex-spectrum-sensor/lib/python3.9/multiprocessing/shared_memory.py\", line 227, in close\n",
      "    self._mmap.close()\n",
      "BufferError: cannot close exported pointers exist\n"
     ]
    },
    {
     "name": "stdout",
     "output_type": "stream",
     "text": [
      "close!\n",
      "118 ms ± 0 ns per loop (mean ± std. dev. of 1 run, 1 loop each)\n",
      "47.7 ms ± 0 ns per loop (mean ± std. dev. of 1 run, 1 loop each)\n",
      "adapter exit\n"
     ]
    }
   ],
   "source": [
    "import rpyc\n",
    "import labbench as lb\n",
    "from labbench import paramattr as attr\n",
    "from typing import Type\n",
    "import multiprocessing\n",
    "import numpy as np\n",
    "import ctypes\n",
    "from multiprocessing import RawArray, shared_memory\n",
    "\n",
    "N = int(25e6*0.2)\n",
    "\n",
    "\n",
    "class MyDevice(lb.Device):\n",
    "    size: int = attr.value.int(default=500_000_000, min=1)\n",
    "    backend = None\n",
    "\n",
    "    def open(self):\n",
    "        print('open!')\n",
    "        d_size = np.dtype(np.float32).itemsize * N\n",
    "        name = f'device-{hex(id(self))}'\n",
    "        try:\n",
    "            self._shm = shared_memory.SharedMemory(create=True, size=d_size, name=name)\n",
    "        except FileExistsError:\n",
    "            self._shm = shared_memory.SharedMemory(create=False, size=d_size, name=name)\n",
    "\n",
    "            if self._shm.size < d_size:\n",
    "                self._shm.close()\n",
    "                self._shm = shared_memory.SharedMemory(create=True, size=d_size, name=name)\n",
    "        \n",
    "\n",
    "        # self.shared_array = RawArray(ctypes.c_double, N)\n",
    "        self.x = np.ndarray(N, dtype=np.float32, buffer=self._shm.buf)\n",
    "\n",
    "    def close(self):\n",
    "        print('close!')\n",
    "        try:\n",
    "            self._shm.close()\n",
    "        except BufferError:\n",
    "            pass\n",
    "\n",
    "    def big_output(self):\n",
    "        self.x[:10] = 5\n",
    "        return self.x\n",
    "\n",
    "    def donothing(self):\n",
    "        pass\n",
    "\n",
    "\n",
    "class SubprocessDeviceAdapter:\n",
    "    conn: rpyc.core.protocol.Connection\n",
    "    device: lb.Device\n",
    "\n",
    "    def __init__(self, conn, device):\n",
    "        self.conn = conn\n",
    "        self.device = device\n",
    "\n",
    "    def open(self):\n",
    "        # conn is already open\n",
    "        self.device.open()\n",
    "        return self.device\n",
    "\n",
    "    def close(self):\n",
    "        try:\n",
    "            if self.device is not None:\n",
    "                self.device.close()\n",
    "        finally:\n",
    "            self.conn.close()\n",
    "\n",
    "    def __enter__(self, *args, **kws):\n",
    "        print('adapter enter')\n",
    "        self.open()\n",
    "        return self.device\n",
    "\n",
    "    def __exit__(self, *args, **kws):\n",
    "        print('adapter exit')\n",
    "        self.close()\n",
    "\n",
    "\n",
    "class DeviceService(rpyc.Service):\n",
    "    def __init__(self, radio_type: Type[MyDevice], *args, **kws):\n",
    "        self.device = radio_type(*args, **kws)\n",
    "\n",
    "\n",
    "@lb.retry(ConnectionRefusedError, tries=5)\n",
    "def connect(*args):\n",
    "    return rpyc.connect(*args)\n",
    "\n",
    "\n",
    "def spawn_device(cls: lb.Device, *args, **kws):\n",
    "    \"\"\"return a context manager that opens `cls` instantiated with the given arguments in another process \"\"\"\n",
    "\n",
    "    ctx = multiprocessing.get_context('fork')\n",
    "    service = rpyc.utils.helpers.classpartial(DeviceService, cls, *args, **kws)\n",
    "    conf = {'allow_all_attrs': True, 'logger': lb.logger}\n",
    "    svc = rpyc.OneShotServer(service=service, protocol_config=conf)\n",
    "    ctx.Process(target=svc.start).start()\n",
    "\n",
    "    lb.sleep(0.25)\n",
    "    conn = connect('localhost', svc.port)\n",
    "    return SubprocessDeviceAdapter(conn, conn.root.device)\n",
    "\n",
    "def array_from_server(shm_netref, x: np.ndarray):\n",
    "    shm = shared_memory.SharedMemory(create=False, size=device._shm.size, name=device._shm.name)\n",
    "    return np.frombuffer(shm.buf, dtype=str(x.dtype)).reshape(x.shape)\n",
    "\n",
    "with spawn_device(MyDevice, size=4) as device, lb._host.Host() as host:\n",
    "    import cupy\n",
    "    device._logger.info('message!')\n",
    "    x = device.big_output()\n",
    "    # x = np.ndarray(device.x.shape, dtype=np.float32, buffer=shared)\n",
    "    %timeit -n1 -r1 cupy.array(array_from_server(device._shm, x)).get()\n",
    "    %timeit -n1 -r1 cupy.array(array_from_server(device._shm, x)).get()\n",
    "    y = array_from_server(device._shm, x)\n",
    "    del x,y\n"
   ]
  },
  {
   "cell_type": "code",
   "execution_count": 4,
   "metadata": {},
   "outputs": [
    {
     "data": {
      "text/plain": [
       "0.49"
      ]
     },
     "execution_count": 4,
     "metadata": {},
     "output_type": "execute_result"
    }
   ],
   "source": [
    "0.2+.24+.05"
   ]
  },
  {
   "cell_type": "code",
   "execution_count": 38,
   "metadata": {},
   "outputs": [],
   "source": [
    "d_size = np.dtype(np.float32).itemsize * N\n",
    "_shm = shared_memory.SharedMemory(create=False, size=d_size, name=f'device-')\n",
    "\n",
    "# self.shared_array = RawArray(ctypes.c_double, N)\n",
    "x = np.ndarray(N, dtype=np.float32, buffer=_shm.buf)\n",
    "y = np.ndarray(N, dtype=np.float32, buffer=x.base)"
   ]
  },
  {
   "cell_type": "code",
   "execution_count": 35,
   "metadata": {},
   "outputs": [
    {
     "data": {
      "text/plain": [
       "<mmap.mmap closed=False, access=ACCESS_DEFAULT, length=200000000, pos=0, offset=0>"
      ]
     },
     "execution_count": 35,
     "metadata": {},
     "output_type": "execute_result"
    }
   ],
   "source": [
    "dir(x.base)"
   ]
  },
  {
   "cell_type": "code",
   "execution_count": 33,
   "metadata": {},
   "outputs": [
    {
     "data": {
      "text/plain": [
       "['__class__',\n",
       " '__delattr__',\n",
       " '__delitem__',\n",
       " '__dir__',\n",
       " '__doc__',\n",
       " '__enter__',\n",
       " '__eq__',\n",
       " '__exit__',\n",
       " '__format__',\n",
       " '__ge__',\n",
       " '__getattribute__',\n",
       " '__getitem__',\n",
       " '__gt__',\n",
       " '__hash__',\n",
       " '__init__',\n",
       " '__init_subclass__',\n",
       " '__le__',\n",
       " '__len__',\n",
       " '__lt__',\n",
       " '__ne__',\n",
       " '__new__',\n",
       " '__reduce__',\n",
       " '__reduce_ex__',\n",
       " '__repr__',\n",
       " '__setattr__',\n",
       " '__setitem__',\n",
       " '__sizeof__',\n",
       " '__str__',\n",
       " '__subclasshook__',\n",
       " 'close',\n",
       " 'closed',\n",
       " 'find',\n",
       " 'flush',\n",
       " 'madvise',\n",
       " 'move',\n",
       " 'read',\n",
       " 'read_byte',\n",
       " 'readline',\n",
       " 'resize',\n",
       " 'rfind',\n",
       " 'seek',\n",
       " 'size',\n",
       " 'tell',\n",
       " 'write',\n",
       " 'write_byte']"
      ]
     },
     "execution_count": 33,
     "metadata": {},
     "output_type": "execute_result"
    }
   ],
   "source": [
    "import mmap\n",
    "mmap.mmap(fileno, length, tagname=None, access=ACCESS_DEFAULT[, offset])\n",
    "dir(x.base)"
   ]
  },
  {
   "cell_type": "code",
   "execution_count": 36,
   "metadata": {},
   "outputs": [
    {
     "ename": "AttributeError",
     "evalue": "'mmap.mmap' object has no attribute 'fileno'",
     "output_type": "error",
     "traceback": [
      "\u001b[0;31m---------------------------------------------------------------------------\u001b[0m",
      "\u001b[0;31mAttributeError\u001b[0m                            Traceback (most recent call last)",
      "Cell \u001b[0;32mIn[36], line 1\u001b[0m\n\u001b[0;32m----> 1\u001b[0m \u001b[43mx\u001b[49m\u001b[38;5;241;43m.\u001b[39;49m\u001b[43mbase\u001b[49m\u001b[38;5;241;43m.\u001b[39;49m\u001b[43mfileno\u001b[49m\n",
      "\u001b[0;31mAttributeError\u001b[0m: 'mmap.mmap' object has no attribute 'fileno'"
     ]
    }
   ],
   "source": [
    "x.base.fileno"
   ]
  },
  {
   "cell_type": "code",
   "execution_count": 17,
   "metadata": {},
   "outputs": [
    {
     "data": {
      "text/plain": [
       "['__cuda_memory__']"
      ]
     },
     "execution_count": 17,
     "metadata": {},
     "output_type": "execute_result"
    }
   ],
   "source": [
    "[n for n in dir(y) if 'mem' in n]"
   ]
  },
  {
   "cell_type": "code",
   "execution_count": 20,
   "metadata": {},
   "outputs": [
    {
     "ename": "CudaAPIError",
     "evalue": "[801] Call to cuIpcGetMemHandle results in CUDA_ERROR_NOT_SUPPORTED",
     "output_type": "error",
     "traceback": [
      "\u001b[0;31m---------------------------------------------------------------------------\u001b[0m",
      "\u001b[0;31mCudaAPIError\u001b[0m                              Traceback (most recent call last)",
      "Cell \u001b[0;32mIn[20], line 1\u001b[0m\n\u001b[0;32m----> 1\u001b[0m \u001b[43my\u001b[49m\u001b[38;5;241;43m.\u001b[39;49m\u001b[43mget_ipc_handle\u001b[49m\u001b[43m(\u001b[49m\u001b[43m)\u001b[49m\n",
      "File \u001b[0;32m~/micromamba/envs/flex-spectrum-sensor/lib/python3.9/site-packages/numba/cuda/cudadrv/devicearray.py:324\u001b[0m, in \u001b[0;36mDeviceNDArrayBase.get_ipc_handle\u001b[0;34m(self)\u001b[0m\n\u001b[1;32m    317\u001b[0m \u001b[38;5;28;01mdef\u001b[39;00m \u001b[38;5;21mget_ipc_handle\u001b[39m(\u001b[38;5;28mself\u001b[39m):\n\u001b[1;32m    318\u001b[0m \u001b[38;5;250m    \u001b[39m\u001b[38;5;124;03m\"\"\"\u001b[39;00m\n\u001b[1;32m    319\u001b[0m \u001b[38;5;124;03m    Returns a *IpcArrayHandle* object that is safe to serialize and transfer\u001b[39;00m\n\u001b[1;32m    320\u001b[0m \u001b[38;5;124;03m    to another process to share the local allocation.\u001b[39;00m\n\u001b[1;32m    321\u001b[0m \n\u001b[1;32m    322\u001b[0m \u001b[38;5;124;03m    Note: this feature is only available on Linux.\u001b[39;00m\n\u001b[1;32m    323\u001b[0m \u001b[38;5;124;03m    \"\"\"\u001b[39;00m\n\u001b[0;32m--> 324\u001b[0m     ipch \u001b[38;5;241m=\u001b[39m \u001b[43mdevices\u001b[49m\u001b[38;5;241;43m.\u001b[39;49m\u001b[43mget_context\u001b[49m\u001b[43m(\u001b[49m\u001b[43m)\u001b[49m\u001b[38;5;241;43m.\u001b[39;49m\u001b[43mget_ipc_handle\u001b[49m\u001b[43m(\u001b[49m\u001b[38;5;28;43mself\u001b[39;49m\u001b[38;5;241;43m.\u001b[39;49m\u001b[43mgpu_data\u001b[49m\u001b[43m)\u001b[49m\n\u001b[1;32m    325\u001b[0m     desc \u001b[38;5;241m=\u001b[39m \u001b[38;5;28mdict\u001b[39m(shape\u001b[38;5;241m=\u001b[39m\u001b[38;5;28mself\u001b[39m\u001b[38;5;241m.\u001b[39mshape, strides\u001b[38;5;241m=\u001b[39m\u001b[38;5;28mself\u001b[39m\u001b[38;5;241m.\u001b[39mstrides, dtype\u001b[38;5;241m=\u001b[39m\u001b[38;5;28mself\u001b[39m\u001b[38;5;241m.\u001b[39mdtype)\n\u001b[1;32m    326\u001b[0m     \u001b[38;5;28;01mreturn\u001b[39;00m IpcArrayHandle(ipc_handle\u001b[38;5;241m=\u001b[39mipch, array_desc\u001b[38;5;241m=\u001b[39mdesc)\n",
      "File \u001b[0;32m~/micromamba/envs/flex-spectrum-sensor/lib/python3.9/site-packages/numba/cuda/cudadrv/driver.py:1391\u001b[0m, in \u001b[0;36mContext.get_ipc_handle\u001b[0;34m(self, memory)\u001b[0m\n\u001b[1;32m   1389\u001b[0m \u001b[38;5;28;01mif\u001b[39;00m \u001b[38;5;129;01mnot\u001b[39;00m SUPPORTS_IPC:\n\u001b[1;32m   1390\u001b[0m     \u001b[38;5;28;01mraise\u001b[39;00m \u001b[38;5;167;01mOSError\u001b[39;00m(\u001b[38;5;124m'\u001b[39m\u001b[38;5;124mOS does not support CUDA IPC\u001b[39m\u001b[38;5;124m'\u001b[39m)\n\u001b[0;32m-> 1391\u001b[0m \u001b[38;5;28;01mreturn\u001b[39;00m \u001b[38;5;28;43mself\u001b[39;49m\u001b[38;5;241;43m.\u001b[39;49m\u001b[43mmemory_manager\u001b[49m\u001b[38;5;241;43m.\u001b[39;49m\u001b[43mget_ipc_handle\u001b[49m\u001b[43m(\u001b[49m\u001b[43mmemory\u001b[49m\u001b[43m)\u001b[49m\n",
      "File \u001b[0;32m~/micromamba/envs/flex-spectrum-sensor/lib/python3.9/site-packages/numba/cuda/cudadrv/driver.py:1033\u001b[0m, in \u001b[0;36mGetIpcHandleMixin.get_ipc_handle\u001b[0;34m(self, memory)\u001b[0m\n\u001b[1;32m   1031\u001b[0m \u001b[38;5;28;01melse\u001b[39;00m:\n\u001b[1;32m   1032\u001b[0m     ipchandle \u001b[38;5;241m=\u001b[39m drvapi\u001b[38;5;241m.\u001b[39mcu_ipc_mem_handle()\n\u001b[0;32m-> 1033\u001b[0m     \u001b[43mdriver\u001b[49m\u001b[38;5;241;43m.\u001b[39;49m\u001b[43mcuIpcGetMemHandle\u001b[49m\u001b[43m(\u001b[49m\u001b[43mbyref\u001b[49m\u001b[43m(\u001b[49m\u001b[43mipchandle\u001b[49m\u001b[43m)\u001b[49m\u001b[43m,\u001b[49m\u001b[43m \u001b[49m\u001b[43mbase\u001b[49m\u001b[43m)\u001b[49m\n\u001b[1;32m   1034\u001b[0m     offset \u001b[38;5;241m=\u001b[39m memory\u001b[38;5;241m.\u001b[39mhandle\u001b[38;5;241m.\u001b[39mvalue \u001b[38;5;241m-\u001b[39m base\n\u001b[1;32m   1035\u001b[0m source_info \u001b[38;5;241m=\u001b[39m \u001b[38;5;28mself\u001b[39m\u001b[38;5;241m.\u001b[39mcontext\u001b[38;5;241m.\u001b[39mdevice\u001b[38;5;241m.\u001b[39mget_device_identity()\n",
      "File \u001b[0;32m~/micromamba/envs/flex-spectrum-sensor/lib/python3.9/site-packages/numba/cuda/cudadrv/driver.py:327\u001b[0m, in \u001b[0;36mDriver._ctypes_wrap_fn.<locals>.safe_cuda_api_call\u001b[0;34m(*args)\u001b[0m\n\u001b[1;32m    325\u001b[0m _logger\u001b[38;5;241m.\u001b[39mdebug(\u001b[38;5;124m'\u001b[39m\u001b[38;5;124mcall driver api: \u001b[39m\u001b[38;5;132;01m%s\u001b[39;00m\u001b[38;5;124m'\u001b[39m, libfn\u001b[38;5;241m.\u001b[39m\u001b[38;5;18m__name__\u001b[39m)\n\u001b[1;32m    326\u001b[0m retcode \u001b[38;5;241m=\u001b[39m libfn(\u001b[38;5;241m*\u001b[39margs)\n\u001b[0;32m--> 327\u001b[0m \u001b[38;5;28;43mself\u001b[39;49m\u001b[38;5;241;43m.\u001b[39;49m\u001b[43m_check_ctypes_error\u001b[49m\u001b[43m(\u001b[49m\u001b[43mfname\u001b[49m\u001b[43m,\u001b[49m\u001b[43m \u001b[49m\u001b[43mretcode\u001b[49m\u001b[43m)\u001b[49m\n",
      "File \u001b[0;32m~/micromamba/envs/flex-spectrum-sensor/lib/python3.9/site-packages/numba/cuda/cudadrv/driver.py:395\u001b[0m, in \u001b[0;36mDriver._check_ctypes_error\u001b[0;34m(self, fname, retcode)\u001b[0m\n\u001b[1;32m    393\u001b[0m \u001b[38;5;28;01mif\u001b[39;00m retcode \u001b[38;5;241m==\u001b[39m enums\u001b[38;5;241m.\u001b[39mCUDA_ERROR_NOT_INITIALIZED:\n\u001b[1;32m    394\u001b[0m     \u001b[38;5;28mself\u001b[39m\u001b[38;5;241m.\u001b[39m_detect_fork()\n\u001b[0;32m--> 395\u001b[0m \u001b[38;5;28;01mraise\u001b[39;00m CudaAPIError(retcode, msg)\n",
      "\u001b[0;31mCudaAPIError\u001b[0m: [801] Call to cuIpcGetMemHandle results in CUDA_ERROR_NOT_SUPPORTED"
     ]
    }
   ],
   "source": [
    "y.get_ipc_handle()"
   ]
  },
  {
   "cell_type": "code",
   "execution_count": 11,
   "metadata": {},
   "outputs": [
    {
     "ename": "AttributeError",
     "evalue": "'numpy.ndarray' object has no attribute 'buffer'",
     "output_type": "error",
     "traceback": [
      "\u001b[0;31m---------------------------------------------------------------------------\u001b[0m",
      "\u001b[0;31mAttributeError\u001b[0m                            Traceback (most recent call last)",
      "Cell \u001b[0;32mIn[11], line 2\u001b[0m\n\u001b[1;32m      1\u001b[0m a \u001b[38;5;241m=\u001b[39m np\u001b[38;5;241m.\u001b[39marray(\u001b[38;5;241m10\u001b[39m)\n\u001b[0;32m----> 2\u001b[0m \u001b[43ma\u001b[49m\u001b[38;5;241;43m.\u001b[39;49m\u001b[43mbuffer\u001b[49m\n",
      "\u001b[0;31mAttributeError\u001b[0m: 'numpy.ndarray' object has no attribute 'buffer'"
     ]
    }
   ],
   "source": [
    "a = np.array(10)\n",
    "[n for n in dir(a)]"
   ]
  },
  {
   "cell_type": "code",
   "execution_count": 2,
   "metadata": {},
   "outputs": [
    {
     "name": "stdout",
     "output_type": "stream",
     "text": [
      "\u001b[0;31mSignature:\u001b[0m\n",
      "\u001b[0mlb\u001b[0m\u001b[0;34m.\u001b[0m\u001b[0mretry\u001b[0m\u001b[0;34m(\u001b[0m\u001b[0;34m\u001b[0m\n",
      "\u001b[0;34m\u001b[0m    \u001b[0mexception_or_exceptions\u001b[0m\u001b[0;34m:\u001b[0m \u001b[0;34m'Union[BaseException, typing.Iterable[BaseException]]'\u001b[0m\u001b[0;34m,\u001b[0m\u001b[0;34m\u001b[0m\n",
      "\u001b[0;34m\u001b[0m    \u001b[0mtries\u001b[0m\u001b[0;34m:\u001b[0m \u001b[0;34m'int'\u001b[0m \u001b[0;34m=\u001b[0m \u001b[0;36m4\u001b[0m\u001b[0;34m,\u001b[0m\u001b[0;34m\u001b[0m\n",
      "\u001b[0;34m\u001b[0m    \u001b[0;34m*\u001b[0m\u001b[0;34m,\u001b[0m\u001b[0;34m\u001b[0m\n",
      "\u001b[0;34m\u001b[0m    \u001b[0mdelay\u001b[0m\u001b[0;34m:\u001b[0m \u001b[0;34m'float'\u001b[0m \u001b[0;34m=\u001b[0m \u001b[0;36m0\u001b[0m\u001b[0;34m,\u001b[0m\u001b[0;34m\u001b[0m\n",
      "\u001b[0;34m\u001b[0m    \u001b[0mbackoff\u001b[0m\u001b[0;34m:\u001b[0m \u001b[0;34m'float'\u001b[0m \u001b[0;34m=\u001b[0m \u001b[0;36m0\u001b[0m\u001b[0;34m,\u001b[0m\u001b[0;34m\u001b[0m\n",
      "\u001b[0;34m\u001b[0m    \u001b[0mexception_func\u001b[0m\u001b[0;34m=\u001b[0m\u001b[0;34m<\u001b[0m\u001b[0mfunction\u001b[0m \u001b[0;34m<\u001b[0m\u001b[0;32mlambda\u001b[0m\u001b[0;34m>\u001b[0m \u001b[0mat\u001b[0m \u001b[0;36m0x7f5ce671f0\u001b[0m\u001b[0;34m>\u001b[0m\u001b[0;34m,\u001b[0m\u001b[0;34m\u001b[0m\n",
      "\u001b[0;34m\u001b[0m    \u001b[0mlog\u001b[0m\u001b[0;34m:\u001b[0m \u001b[0;34m'bool'\u001b[0m \u001b[0;34m=\u001b[0m \u001b[0;32mTrue\u001b[0m\u001b[0;34m,\u001b[0m\u001b[0;34m\u001b[0m\n",
      "\u001b[0;34m\u001b[0m\u001b[0;34m)\u001b[0m \u001b[0;34m->\u001b[0m \u001b[0;34m'callable[_Tfunc, _Tfunc]'\u001b[0m\u001b[0;34m\u001b[0m\u001b[0;34m\u001b[0m\u001b[0m\n",
      "\u001b[0;31mDocstring:\u001b[0m\n",
      "calls to the decorated function are repeated, suppressing specified exception(s), until a\n",
      "maximum number of retries has been attempted.\n",
      "\n",
      "If the function raises the exception the specified number of times, the underlying exception is raised.\n",
      "Otherwise, return the result of the function call.\n",
      "\n",
      "Example:\n",
      "\n",
      "    The following retries the telnet connection 5 times on ConnectionRefusedError::\n",
      "\n",
      "        import telnetlib\n",
      "\n",
      "\n",
      "        # Retry a telnet connection 5 times if the telnet library raises ConnectionRefusedError\n",
      "        @retry(ConnectionRefusedError, tries=5)\n",
      "        def open(host, port):\n",
      "            t = telnetlib.Telnet()\n",
      "            t.open(host, port, 5)\n",
      "            return t\n",
      "\n",
      "\n",
      "Inspired by https://github.com/saltycrane/retry-decorator which is released\n",
      "under the BSD license.\n",
      "\n",
      "Arguments:\n",
      "    exception_or_exceptions: Exception (sub)class (or tuple of exception classes) to watch for\n",
      "    tries: number of times to try before giving up\n",
      "    delay: initial delay between retries in seconds\n",
      "    backoff: backoff to multiply to the delay for each retry\n",
      "    exception_func: function to call on exception before the next retry\n",
      "    log: whether to emit a log message on the first retry\n",
      "\u001b[0;31mFile:\u001b[0m      ~/micromamba/envs/flex-spectrum-sensor/lib/python3.9/site-packages/labbench/util.py\n",
      "\u001b[0;31mType:\u001b[0m      function"
     ]
    }
   ],
   "source": []
  },
  {
   "cell_type": "code",
   "execution_count": 14,
   "metadata": {},
   "outputs": [],
   "source": []
  },
  {
   "cell_type": "code",
   "execution_count": 10,
   "metadata": {},
   "outputs": [
    {
     "ename": "EOFError",
     "evalue": "stream has been closed",
     "output_type": "error",
     "traceback": [
      "\u001b[0;31m---------------------------------------------------------------------------\u001b[0m",
      "\u001b[0;31mEOFError\u001b[0m                                  Traceback (most recent call last)",
      "File \u001b[0;32m/opt/homebrew/Caskroom/mambaforge/base/envs/flex-spectrum-sensor/lib/python3.9/site-packages/IPython/core/formatters.py:708\u001b[0m, in \u001b[0;36mPlainTextFormatter.__call__\u001b[0;34m(self, obj)\u001b[0m\n\u001b[1;32m    701\u001b[0m stream \u001b[38;5;241m=\u001b[39m StringIO()\n\u001b[1;32m    702\u001b[0m printer \u001b[38;5;241m=\u001b[39m pretty\u001b[38;5;241m.\u001b[39mRepresentationPrinter(stream, \u001b[38;5;28mself\u001b[39m\u001b[38;5;241m.\u001b[39mverbose,\n\u001b[1;32m    703\u001b[0m     \u001b[38;5;28mself\u001b[39m\u001b[38;5;241m.\u001b[39mmax_width, \u001b[38;5;28mself\u001b[39m\u001b[38;5;241m.\u001b[39mnewline,\n\u001b[1;32m    704\u001b[0m     max_seq_length\u001b[38;5;241m=\u001b[39m\u001b[38;5;28mself\u001b[39m\u001b[38;5;241m.\u001b[39mmax_seq_length,\n\u001b[1;32m    705\u001b[0m     singleton_pprinters\u001b[38;5;241m=\u001b[39m\u001b[38;5;28mself\u001b[39m\u001b[38;5;241m.\u001b[39msingleton_printers,\n\u001b[1;32m    706\u001b[0m     type_pprinters\u001b[38;5;241m=\u001b[39m\u001b[38;5;28mself\u001b[39m\u001b[38;5;241m.\u001b[39mtype_printers,\n\u001b[1;32m    707\u001b[0m     deferred_pprinters\u001b[38;5;241m=\u001b[39m\u001b[38;5;28mself\u001b[39m\u001b[38;5;241m.\u001b[39mdeferred_printers)\n\u001b[0;32m--> 708\u001b[0m \u001b[43mprinter\u001b[49m\u001b[38;5;241;43m.\u001b[39;49m\u001b[43mpretty\u001b[49m\u001b[43m(\u001b[49m\u001b[43mobj\u001b[49m\u001b[43m)\u001b[49m\n\u001b[1;32m    709\u001b[0m printer\u001b[38;5;241m.\u001b[39mflush()\n\u001b[1;32m    710\u001b[0m \u001b[38;5;28;01mreturn\u001b[39;00m stream\u001b[38;5;241m.\u001b[39mgetvalue()\n",
      "File \u001b[0;32m/opt/homebrew/Caskroom/mambaforge/base/envs/flex-spectrum-sensor/lib/python3.9/site-packages/IPython/lib/pretty.py:410\u001b[0m, in \u001b[0;36mRepresentationPrinter.pretty\u001b[0;34m(self, obj)\u001b[0m\n\u001b[1;32m    407\u001b[0m                         \u001b[38;5;28;01mreturn\u001b[39;00m meth(obj, \u001b[38;5;28mself\u001b[39m, cycle)\n\u001b[1;32m    408\u001b[0m                 \u001b[38;5;28;01mif\u001b[39;00m \u001b[38;5;28mcls\u001b[39m \u001b[38;5;129;01mis\u001b[39;00m \u001b[38;5;129;01mnot\u001b[39;00m \u001b[38;5;28mobject\u001b[39m \\\n\u001b[1;32m    409\u001b[0m                         \u001b[38;5;129;01mand\u001b[39;00m \u001b[38;5;28mcallable\u001b[39m(\u001b[38;5;28mcls\u001b[39m\u001b[38;5;241m.\u001b[39m\u001b[38;5;18m__dict__\u001b[39m\u001b[38;5;241m.\u001b[39mget(\u001b[38;5;124m'\u001b[39m\u001b[38;5;124m__repr__\u001b[39m\u001b[38;5;124m'\u001b[39m)):\n\u001b[0;32m--> 410\u001b[0m                     \u001b[38;5;28;01mreturn\u001b[39;00m \u001b[43m_repr_pprint\u001b[49m\u001b[43m(\u001b[49m\u001b[43mobj\u001b[49m\u001b[43m,\u001b[49m\u001b[43m \u001b[49m\u001b[38;5;28;43mself\u001b[39;49m\u001b[43m,\u001b[49m\u001b[43m \u001b[49m\u001b[43mcycle\u001b[49m\u001b[43m)\u001b[49m\n\u001b[1;32m    412\u001b[0m     \u001b[38;5;28;01mreturn\u001b[39;00m _default_pprint(obj, \u001b[38;5;28mself\u001b[39m, cycle)\n\u001b[1;32m    413\u001b[0m \u001b[38;5;28;01mfinally\u001b[39;00m:\n",
      "File \u001b[0;32m/opt/homebrew/Caskroom/mambaforge/base/envs/flex-spectrum-sensor/lib/python3.9/site-packages/IPython/lib/pretty.py:778\u001b[0m, in \u001b[0;36m_repr_pprint\u001b[0;34m(obj, p, cycle)\u001b[0m\n\u001b[1;32m    776\u001b[0m \u001b[38;5;250m\u001b[39m\u001b[38;5;124;03m\"\"\"A pprint that just redirects to the normal repr function.\"\"\"\u001b[39;00m\n\u001b[1;32m    777\u001b[0m \u001b[38;5;66;03m# Find newlines and replace them with p.break_()\u001b[39;00m\n\u001b[0;32m--> 778\u001b[0m output \u001b[38;5;241m=\u001b[39m \u001b[38;5;28;43mrepr\u001b[39;49m\u001b[43m(\u001b[49m\u001b[43mobj\u001b[49m\u001b[43m)\u001b[49m\n\u001b[1;32m    779\u001b[0m lines \u001b[38;5;241m=\u001b[39m output\u001b[38;5;241m.\u001b[39msplitlines()\n\u001b[1;32m    780\u001b[0m \u001b[38;5;28;01mwith\u001b[39;00m p\u001b[38;5;241m.\u001b[39mgroup():\n",
      "File \u001b[0;32m/opt/homebrew/Caskroom/mambaforge/base/envs/flex-spectrum-sensor/lib/python3.9/site-packages/rpyc/core/netref.py:196\u001b[0m, in \u001b[0;36mBaseNetref.__repr__\u001b[0;34m(self)\u001b[0m\n\u001b[1;32m    195\u001b[0m \u001b[38;5;28;01mdef\u001b[39;00m \u001b[38;5;21m__repr__\u001b[39m(\u001b[38;5;28mself\u001b[39m):\n\u001b[0;32m--> 196\u001b[0m     \u001b[38;5;28;01mreturn\u001b[39;00m \u001b[43msyncreq\u001b[49m\u001b[43m(\u001b[49m\u001b[38;5;28;43mself\u001b[39;49m\u001b[43m,\u001b[49m\u001b[43m \u001b[49m\u001b[43mconsts\u001b[49m\u001b[38;5;241;43m.\u001b[39;49m\u001b[43mHANDLE_REPR\u001b[49m\u001b[43m)\u001b[49m\n",
      "File \u001b[0;32m/opt/homebrew/Caskroom/mambaforge/base/envs/flex-spectrum-sensor/lib/python3.9/site-packages/rpyc/core/netref.py:63\u001b[0m, in \u001b[0;36msyncreq\u001b[0;34m(proxy, handler, *args)\u001b[0m\n\u001b[1;32m     51\u001b[0m \u001b[38;5;250m\u001b[39m\u001b[38;5;124;03m\"\"\"Performs a synchronous request on the given proxy object.\u001b[39;00m\n\u001b[1;32m     52\u001b[0m \u001b[38;5;124;03mNot intended to be invoked directly.\u001b[39;00m\n\u001b[1;32m     53\u001b[0m \n\u001b[0;32m   (...)\u001b[0m\n\u001b[1;32m     60\u001b[0m \u001b[38;5;124;03m:returns: the result of the operation\u001b[39;00m\n\u001b[1;32m     61\u001b[0m \u001b[38;5;124;03m\"\"\"\u001b[39;00m\n\u001b[1;32m     62\u001b[0m conn \u001b[38;5;241m=\u001b[39m \u001b[38;5;28mobject\u001b[39m\u001b[38;5;241m.\u001b[39m\u001b[38;5;21m__getattribute__\u001b[39m(proxy, \u001b[38;5;124m\"\u001b[39m\u001b[38;5;124m____conn__\u001b[39m\u001b[38;5;124m\"\u001b[39m)\n\u001b[0;32m---> 63\u001b[0m \u001b[38;5;28;01mreturn\u001b[39;00m \u001b[43mconn\u001b[49m\u001b[38;5;241;43m.\u001b[39;49m\u001b[43msync_request\u001b[49m\u001b[43m(\u001b[49m\u001b[43mhandler\u001b[49m\u001b[43m,\u001b[49m\u001b[43m \u001b[49m\u001b[43mproxy\u001b[49m\u001b[43m,\u001b[49m\u001b[43m \u001b[49m\u001b[38;5;241;43m*\u001b[39;49m\u001b[43margs\u001b[49m\u001b[43m)\u001b[49m\n",
      "File \u001b[0;32m/opt/homebrew/Caskroom/mambaforge/base/envs/flex-spectrum-sensor/lib/python3.9/site-packages/rpyc/core/protocol.py:715\u001b[0m, in \u001b[0;36mConnection.sync_request\u001b[0;34m(self, handler, *args)\u001b[0m\n\u001b[1;32m    709\u001b[0m \u001b[38;5;250m\u001b[39m\u001b[38;5;124;03m\"\"\"requests, sends a synchronous request (waits for the reply to arrive)\u001b[39;00m\n\u001b[1;32m    710\u001b[0m \n\u001b[1;32m    711\u001b[0m \u001b[38;5;124;03m:raises: any exception that the requets may be generated\u001b[39;00m\n\u001b[1;32m    712\u001b[0m \u001b[38;5;124;03m:returns: the result of the request\u001b[39;00m\n\u001b[1;32m    713\u001b[0m \u001b[38;5;124;03m\"\"\"\u001b[39;00m\n\u001b[1;32m    714\u001b[0m timeout \u001b[38;5;241m=\u001b[39m \u001b[38;5;28mself\u001b[39m\u001b[38;5;241m.\u001b[39m_config[\u001b[38;5;124m\"\u001b[39m\u001b[38;5;124msync_request_timeout\u001b[39m\u001b[38;5;124m\"\u001b[39m]\n\u001b[0;32m--> 715\u001b[0m _async_res \u001b[38;5;241m=\u001b[39m \u001b[38;5;28;43mself\u001b[39;49m\u001b[38;5;241;43m.\u001b[39;49m\u001b[43masync_request\u001b[49m\u001b[43m(\u001b[49m\u001b[43mhandler\u001b[49m\u001b[43m,\u001b[49m\u001b[43m \u001b[49m\u001b[38;5;241;43m*\u001b[39;49m\u001b[43margs\u001b[49m\u001b[43m,\u001b[49m\u001b[43m \u001b[49m\u001b[43mtimeout\u001b[49m\u001b[38;5;241;43m=\u001b[39;49m\u001b[43mtimeout\u001b[49m\u001b[43m)\u001b[49m\n\u001b[1;32m    716\u001b[0m \u001b[38;5;66;03m# _async_res is an instance of AsyncResult, the value property invokes Connection.serve via AsyncResult.wait\u001b[39;00m\n\u001b[1;32m    717\u001b[0m \u001b[38;5;66;03m# So, the _recvlock can be acquired multiple times by the owning thread and warrants the use of RLock\u001b[39;00m\n\u001b[1;32m    718\u001b[0m \u001b[38;5;28;01mreturn\u001b[39;00m _async_res\u001b[38;5;241m.\u001b[39mvalue\n",
      "File \u001b[0;32m/opt/homebrew/Caskroom/mambaforge/base/envs/flex-spectrum-sensor/lib/python3.9/site-packages/rpyc/core/protocol.py:742\u001b[0m, in \u001b[0;36mConnection.async_request\u001b[0;34m(self, handler, *args, **kwargs)\u001b[0m\n\u001b[1;32m    740\u001b[0m     \u001b[38;5;28;01mraise\u001b[39;00m \u001b[38;5;167;01mTypeError\u001b[39;00m(\u001b[38;5;124m\"\u001b[39m\u001b[38;5;124mgot unexpected keyword argument(s) \u001b[39m\u001b[38;5;124m{\u001b[39m\u001b[38;5;124mlist(kwargs.keys()}\u001b[39m\u001b[38;5;124m\"\u001b[39m)\n\u001b[1;32m    741\u001b[0m res \u001b[38;5;241m=\u001b[39m AsyncResult(\u001b[38;5;28mself\u001b[39m)\n\u001b[0;32m--> 742\u001b[0m \u001b[38;5;28;43mself\u001b[39;49m\u001b[38;5;241;43m.\u001b[39;49m\u001b[43m_async_request\u001b[49m\u001b[43m(\u001b[49m\u001b[43mhandler\u001b[49m\u001b[43m,\u001b[49m\u001b[43m \u001b[49m\u001b[43margs\u001b[49m\u001b[43m,\u001b[49m\u001b[43m \u001b[49m\u001b[43mres\u001b[49m\u001b[43m)\u001b[49m\n\u001b[1;32m    743\u001b[0m \u001b[38;5;28;01mif\u001b[39;00m timeout \u001b[38;5;129;01mis\u001b[39;00m \u001b[38;5;129;01mnot\u001b[39;00m \u001b[38;5;28;01mNone\u001b[39;00m:\n\u001b[1;32m    744\u001b[0m     res\u001b[38;5;241m.\u001b[39mset_expiry(timeout)\n",
      "File \u001b[0;32m/opt/homebrew/Caskroom/mambaforge/base/envs/flex-spectrum-sensor/lib/python3.9/site-packages/rpyc/core/protocol.py:724\u001b[0m, in \u001b[0;36mConnection._async_request\u001b[0;34m(self, handler, args, callback)\u001b[0m\n\u001b[1;32m    722\u001b[0m \u001b[38;5;28mself\u001b[39m\u001b[38;5;241m.\u001b[39m_request_callbacks[seq] \u001b[38;5;241m=\u001b[39m callback\n\u001b[1;32m    723\u001b[0m \u001b[38;5;28;01mtry\u001b[39;00m:\n\u001b[0;32m--> 724\u001b[0m     \u001b[38;5;28;43mself\u001b[39;49m\u001b[38;5;241;43m.\u001b[39;49m\u001b[43m_send\u001b[49m\u001b[43m(\u001b[49m\u001b[43mconsts\u001b[49m\u001b[38;5;241;43m.\u001b[39;49m\u001b[43mMSG_REQUEST\u001b[49m\u001b[43m,\u001b[49m\u001b[43m \u001b[49m\u001b[43mseq\u001b[49m\u001b[43m,\u001b[49m\u001b[43m \u001b[49m\u001b[43m(\u001b[49m\u001b[43mhandler\u001b[49m\u001b[43m,\u001b[49m\u001b[43m \u001b[49m\u001b[38;5;28;43mself\u001b[39;49m\u001b[38;5;241;43m.\u001b[39;49m\u001b[43m_box\u001b[49m\u001b[43m(\u001b[49m\u001b[43margs\u001b[49m\u001b[43m)\u001b[49m\u001b[43m)\u001b[49m\u001b[43m)\u001b[49m\n\u001b[1;32m    725\u001b[0m \u001b[38;5;28;01mexcept\u001b[39;00m \u001b[38;5;167;01mException\u001b[39;00m:\n\u001b[1;32m    726\u001b[0m     \u001b[38;5;66;03m# TODO: review test_remote_exception, logging exceptions show attempt to write on closed stream\u001b[39;00m\n\u001b[1;32m    727\u001b[0m     \u001b[38;5;66;03m# depending on the case, the MSG_REQUEST may or may not have been sent completely\u001b[39;00m\n\u001b[1;32m    728\u001b[0m     \u001b[38;5;66;03m# so, pop the callback and raise to keep response integrity is consistent\u001b[39;00m\n\u001b[1;32m    729\u001b[0m     \u001b[38;5;28mself\u001b[39m\u001b[38;5;241m.\u001b[39m_request_callbacks\u001b[38;5;241m.\u001b[39mpop(seq, \u001b[38;5;28;01mNone\u001b[39;00m)\n",
      "File \u001b[0;32m/opt/homebrew/Caskroom/mambaforge/base/envs/flex-spectrum-sensor/lib/python3.9/site-packages/rpyc/core/protocol.py:295\u001b[0m, in \u001b[0;36mConnection._send\u001b[0;34m(self, msg, seq, args)\u001b[0m\n\u001b[1;32m    293\u001b[0m         \u001b[38;5;28;01mcontinue\u001b[39;00m\n\u001b[1;32m    294\u001b[0m     data \u001b[38;5;241m=\u001b[39m \u001b[38;5;28mself\u001b[39m\u001b[38;5;241m.\u001b[39m_send_queue\u001b[38;5;241m.\u001b[39mpop(\u001b[38;5;241m0\u001b[39m)\n\u001b[0;32m--> 295\u001b[0m     \u001b[38;5;28;43mself\u001b[39;49m\u001b[38;5;241;43m.\u001b[39;49m\u001b[43m_channel\u001b[49m\u001b[38;5;241;43m.\u001b[39;49m\u001b[43msend\u001b[49m\u001b[43m(\u001b[49m\u001b[43mdata\u001b[49m\u001b[43m)\u001b[49m\n\u001b[1;32m    296\u001b[0m \u001b[38;5;28;01mfinally\u001b[39;00m:\n\u001b[1;32m    297\u001b[0m     \u001b[38;5;28mself\u001b[39m\u001b[38;5;241m.\u001b[39m_sendlock\u001b[38;5;241m.\u001b[39mrelease()\n",
      "File \u001b[0;32m/opt/homebrew/Caskroom/mambaforge/base/envs/flex-spectrum-sensor/lib/python3.9/site-packages/rpyc/core/channel.py:78\u001b[0m, in \u001b[0;36mChannel.send\u001b[0;34m(self, data)\u001b[0m\n\u001b[1;32m     75\u001b[0m flush_size \u001b[38;5;241m=\u001b[39m \u001b[38;5;28mlen\u001b[39m(\u001b[38;5;28mself\u001b[39m\u001b[38;5;241m.\u001b[39mFLUSHER)\n\u001b[1;32m     76\u001b[0m \u001b[38;5;28;01mif\u001b[39;00m \u001b[38;5;28mself\u001b[39m\u001b[38;5;241m.\u001b[39mFRAME_HEADER\u001b[38;5;241m.\u001b[39msize \u001b[38;5;241m+\u001b[39m data_size \u001b[38;5;241m+\u001b[39m flush_size \u001b[38;5;241m<\u001b[39m\u001b[38;5;241m=\u001b[39m \u001b[38;5;28mself\u001b[39m\u001b[38;5;241m.\u001b[39mstream\u001b[38;5;241m.\u001b[39mMAX_IO_CHUNK:\n\u001b[1;32m     77\u001b[0m     \u001b[38;5;66;03m# avoid overhead from socket writes requiring GIL to be held\u001b[39;00m\n\u001b[0;32m---> 78\u001b[0m     \u001b[38;5;28;43mself\u001b[39;49m\u001b[38;5;241;43m.\u001b[39;49m\u001b[43mstream\u001b[49m\u001b[38;5;241;43m.\u001b[39;49m\u001b[43mwrite\u001b[49m\u001b[43m(\u001b[49m\u001b[43mheader\u001b[49m\u001b[43m \u001b[49m\u001b[38;5;241;43m+\u001b[39;49m\u001b[43m \u001b[49m\u001b[43mdata\u001b[49m\u001b[43m \u001b[49m\u001b[38;5;241;43m+\u001b[39;49m\u001b[43m \u001b[49m\u001b[38;5;28;43mself\u001b[39;49m\u001b[38;5;241;43m.\u001b[39;49m\u001b[43mFLUSHER\u001b[49m\u001b[43m)\u001b[49m\n\u001b[1;32m     79\u001b[0m \u001b[38;5;28;01melse\u001b[39;00m:\n\u001b[1;32m     80\u001b[0m     \u001b[38;5;66;03m# Data larger than 64KB, the extra writes are negligible\u001b[39;00m\n\u001b[1;32m     81\u001b[0m     part1 \u001b[38;5;241m=\u001b[39m \u001b[38;5;28mself\u001b[39m\u001b[38;5;241m.\u001b[39mstream\u001b[38;5;241m.\u001b[39mMAX_IO_CHUNK \u001b[38;5;241m-\u001b[39m \u001b[38;5;28mself\u001b[39m\u001b[38;5;241m.\u001b[39mFRAME_HEADER\u001b[38;5;241m.\u001b[39msize\n",
      "File \u001b[0;32m/opt/homebrew/Caskroom/mambaforge/base/envs/flex-spectrum-sensor/lib/python3.9/site-packages/rpyc/core/stream.py:288\u001b[0m, in \u001b[0;36mSocketStream.write\u001b[0;34m(self, data)\u001b[0m\n\u001b[1;32m    286\u001b[0m \u001b[38;5;28;01mtry\u001b[39;00m:\n\u001b[1;32m    287\u001b[0m     \u001b[38;5;28;01mwhile\u001b[39;00m data:\n\u001b[0;32m--> 288\u001b[0m         count \u001b[38;5;241m=\u001b[39m \u001b[38;5;28;43mself\u001b[39;49m\u001b[38;5;241;43m.\u001b[39;49m\u001b[43msock\u001b[49m\u001b[38;5;241;43m.\u001b[39;49m\u001b[43msend\u001b[49m(data[:\u001b[38;5;28mself\u001b[39m\u001b[38;5;241m.\u001b[39mMAX_IO_CHUNK])\n\u001b[1;32m    289\u001b[0m         data \u001b[38;5;241m=\u001b[39m data[count:]\n\u001b[1;32m    290\u001b[0m \u001b[38;5;28;01mexcept\u001b[39;00m socket\u001b[38;5;241m.\u001b[39merror:\n",
      "File \u001b[0;32m/opt/homebrew/Caskroom/mambaforge/base/envs/flex-spectrum-sensor/lib/python3.9/site-packages/rpyc/core/stream.py:96\u001b[0m, in \u001b[0;36mClosedFile.__getattr__\u001b[0;34m(self, name)\u001b[0m\n\u001b[1;32m     94\u001b[0m \u001b[38;5;28;01mif\u001b[39;00m name\u001b[38;5;241m.\u001b[39mstartswith(\u001b[38;5;124m\"\u001b[39m\u001b[38;5;124m__\u001b[39m\u001b[38;5;124m\"\u001b[39m):  \u001b[38;5;66;03m# issue 71\u001b[39;00m\n\u001b[1;32m     95\u001b[0m     \u001b[38;5;28;01mraise\u001b[39;00m \u001b[38;5;167;01mAttributeError\u001b[39;00m(\u001b[38;5;124m\"\u001b[39m\u001b[38;5;124mstream has been closed\u001b[39m\u001b[38;5;124m\"\u001b[39m)\n\u001b[0;32m---> 96\u001b[0m \u001b[38;5;28;01mraise\u001b[39;00m \u001b[38;5;167;01mEOFError\u001b[39;00m(\u001b[38;5;124m\"\u001b[39m\u001b[38;5;124mstream has been closed\u001b[39m\u001b[38;5;124m\"\u001b[39m)\n",
      "\u001b[0;31mEOFError\u001b[0m: stream has been closed"
     ]
    }
   ],
   "source": [
    "x"
   ]
  }
 ],
 "metadata": {
  "kernelspec": {
   "display_name": "flex-spectrum-sensor",
   "language": "python",
   "name": "python3"
  },
  "language_info": {
   "codemirror_mode": {
    "name": "ipython",
    "version": 3
   },
   "file_extension": ".py",
   "mimetype": "text/x-python",
   "name": "python",
   "nbconvert_exporter": "python",
   "pygments_lexer": "ipython3",
   "version": "3.9.19"
  }
 },
 "nbformat": 4,
 "nbformat_minor": 2
}
