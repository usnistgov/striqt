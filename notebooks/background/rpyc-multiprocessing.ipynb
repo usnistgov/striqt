{
 "cells": [
  {
   "cell_type": "markdown",
   "metadata": {},
   "source": [
    "### 1. rpyc for MPC"
   ]
  },
  {
   "cell_type": "code",
   "execution_count": 3,
   "metadata": {},
   "outputs": [
    {
     "name": "stdout",
     "output_type": "stream",
     "text": [
      "open!\n"
     ]
    },
    {
     "name": "stderr",
     "output_type": "stream",
     "text": [
      "\u001b[1;30m INFO  \u001b[0m \u001b[32m2024-07-31 09:38:10,732.732\u001b[0m • \u001b[34mMyDevice():\u001b[0m message!\n",
      "Exception ignored in: <function SharedMemory.__del__ at 0x7f67dacdc0>\n",
      "Traceback (most recent call last):\n",
      "  File \"/home/dkuester/micromamba/envs/flex-spectrum-sensor/lib/python3.9/multiprocessing/shared_memory.py\", line 184, in __del__\n",
      "    self.close()\n",
      "  File \"/home/dkuester/micromamba/envs/flex-spectrum-sensor/lib/python3.9/multiprocessing/shared_memory.py\", line 227, in close\n",
      "    self._mmap.close()\n",
      "BufferError: cannot close exported pointers exist\n"
     ]
    },
    {
     "name": "stdout",
     "output_type": "stream",
     "text": [
      "adapter enter\n"
     ]
    },
    {
     "name": "stderr",
     "output_type": "stream",
     "text": [
      "Exception ignored in: <function SharedMemory.__del__ at 0x7f67dacdc0>\n",
      "Traceback (most recent call last):\n",
      "  File \"/home/dkuester/micromamba/envs/flex-spectrum-sensor/lib/python3.9/multiprocessing/shared_memory.py\", line 184, in __del__\n",
      "    self.close()\n",
      "  File \"/home/dkuester/micromamba/envs/flex-spectrum-sensor/lib/python3.9/multiprocessing/shared_memory.py\", line 227, in close\n",
      "    self._mmap.close()\n",
      "BufferError: cannot close exported pointers exist\n",
      "Exception ignored in: <function SharedMemory.__del__ at 0x7f67dacdc0>\n",
      "Traceback (most recent call last):\n",
      "  File \"/home/dkuester/micromamba/envs/flex-spectrum-sensor/lib/python3.9/multiprocessing/shared_memory.py\", line 184, in __del__\n",
      "    self.close()\n",
      "  File \"/home/dkuester/micromamba/envs/flex-spectrum-sensor/lib/python3.9/multiprocessing/shared_memory.py\", line 227, in close\n",
      "    self._mmap.close()\n",
      "BufferError: cannot close exported pointers exist\n"
     ]
    },
    {
     "name": "stdout",
     "output_type": "stream",
     "text": [
      "close!\n",
      "118 ms ± 0 ns per loop (mean ± std. dev. of 1 run, 1 loop each)\n",
      "47.7 ms ± 0 ns per loop (mean ± std. dev. of 1 run, 1 loop each)\n",
      "adapter exit\n"
     ]
    }
   ],
   "source": [
    "import rpyc\n",
    "import labbench as lb\n",
    "from labbench import paramattr as attr\n",
    "from typing import Type\n",
    "import multiprocessing\n",
    "import numpy as np\n",
    "import ctypes\n",
    "from multiprocessing import RawArray, shared_memory\n",
    "\n",
    "N = int(25e6*0.2)\n",
    "\n",
    "\n",
    "class MyDevice(lb.Device):\n",
    "    size: int = attr.value.int(default=500_000_000, min=1)\n",
    "    backend = None\n",
    "\n",
    "    def open(self):\n",
    "        print('open!')\n",
    "        d_size = np.dtype(np.float32).itemsize * N\n",
    "        name = f'device-{hex(id(self))}'\n",
    "        try:\n",
    "            self._shm = shared_memory.SharedMemory(create=True, size=d_size, name=name)\n",
    "        except FileExistsError:\n",
    "            self._shm = shared_memory.SharedMemory(create=False, size=d_size, name=name)\n",
    "\n",
    "            if self._shm.size < d_size:\n",
    "                self._shm.close()\n",
    "                self._shm = shared_memory.SharedMemory(create=True, size=d_size, name=name)\n",
    "        \n",
    "\n",
    "        # self.shared_array = RawArray(ctypes.c_double, N)\n",
    "        self.x = np.ndarray(N, dtype=np.float32, buffer=self._shm.buf)\n",
    "\n",
    "    def close(self):\n",
    "        print('close!')\n",
    "        try:\n",
    "            self._shm.close()\n",
    "        except BufferError:\n",
    "            pass\n",
    "\n",
    "    def big_output(self):\n",
    "        self.x[:10] = 5\n",
    "        return self.x\n",
    "\n",
    "    def donothing(self):\n",
    "        pass\n",
    "\n",
    "\n",
    "class SubprocessDeviceAdapter:\n",
    "    conn: rpyc.core.protocol.Connection\n",
    "    device: lb.Device\n",
    "\n",
    "    def __init__(self, conn, device):\n",
    "        self.conn = conn\n",
    "        self.device = device\n",
    "\n",
    "    def open(self):\n",
    "        # conn is already open\n",
    "        self.device.open()\n",
    "        return self.device\n",
    "\n",
    "    def close(self):\n",
    "        try:\n",
    "            if self.device is not None:\n",
    "                self.device.close()\n",
    "        finally:\n",
    "            self.conn.close()\n",
    "\n",
    "    def __enter__(self, *args, **kws):\n",
    "        print('adapter enter')\n",
    "        self.open()\n",
    "        return self.device\n",
    "\n",
    "    def __exit__(self, *args, **kws):\n",
    "        print('adapter exit')\n",
    "        self.close()\n",
    "\n",
    "\n",
    "class DeviceService(rpyc.Service):\n",
    "    def __init__(self, radio_type: Type[MyDevice], *args, **kws):\n",
    "        self.device = radio_type(*args, **kws)\n",
    "\n",
    "\n",
    "@lb.retry(ConnectionRefusedError, tries=5)\n",
    "def connect(*args):\n",
    "    return rpyc.connect(*args)\n",
    "\n",
    "\n",
    "def spawn_device(cls: lb.Device, *args, **kws):\n",
    "    \"\"\"return a context manager that opens `cls` instantiated with the given arguments in another process \"\"\"\n",
    "\n",
    "    ctx = multiprocessing.get_context('fork')\n",
    "    service = rpyc.utils.helpers.classpartial(DeviceService, cls, *args, **kws)\n",
    "    conf = {'allow_all_attrs': True, 'logger': lb.logger}\n",
    "    svc = rpyc.OneShotServer(service=service, protocol_config=conf)\n",
    "    ctx.Process(target=svc.start).start()\n",
    "\n",
    "    lb.sleep(0.25)\n",
    "    conn = connect('localhost', svc.port)\n",
    "    return SubprocessDeviceAdapter(conn, conn.root.device)\n",
    "\n",
    "def array_from_server(shm_netref, x: np.ndarray):\n",
    "    shm = shared_memory.SharedMemory(create=False, size=device._shm.size, name=device._shm.name)\n",
    "    return np.frombuffer(shm.buf, dtype=str(x.dtype)).reshape(x.shape)\n",
    "\n",
    "with spawn_device(MyDevice, size=4) as device, lb._host.Host() as host:\n",
    "    import cupy\n",
    "    device._logger.info('message!')\n",
    "    x = device.big_output()\n",
    "    # x = np.ndarray(device.x.shape, dtype=np.float32, buffer=shared)\n",
    "    %timeit -n1 -r1 cupy.array(array_from_server(device._shm, x)).get()\n",
    "    %timeit -n1 -r1 cupy.array(array_from_server(device._shm, x)).get()\n",
    "    y = array_from_server(device._shm, x)\n",
    "    del x,y\n"
   ]
  },
  {
   "cell_type": "code",
   "execution_count": 4,
   "metadata": {},
   "outputs": [
    {
     "data": {
      "text/plain": [
       "0.49"
      ]
     },
     "execution_count": 4,
     "metadata": {},
     "output_type": "execute_result"
    }
   ],
   "source": [
    "0.2+.24+.05"
   ]
  },
  {
   "cell_type": "code",
   "execution_count": 38,
   "metadata": {},
   "outputs": [],
   "source": [
    "d_size = np.dtype(np.float32).itemsize * N\n",
    "_shm = shared_memory.SharedMemory(create=False, size=d_size, name=f'device-')\n",
    "\n",
    "# self.shared_array = RawArray(ctypes.c_double, N)\n",
    "x = np.ndarray(N, dtype=np.float32, buffer=_shm.buf)\n",
    "y = np.ndarray(N, dtype=np.float32, buffer=x.base)"
   ]
  },
  {
   "cell_type": "code",
   "execution_count": 35,
   "metadata": {},
   "outputs": [
    {
     "data": {
      "text/plain": [
       "<mmap.mmap closed=False, access=ACCESS_DEFAULT, length=200000000, pos=0, offset=0>"
      ]
     },
     "execution_count": 35,
     "metadata": {},
     "output_type": "execute_result"
    }
   ],
   "source": [
    "dir(x.base)"
   ]
  },
  {
   "cell_type": "code",
   "execution_count": 33,
   "metadata": {},
   "outputs": [
    {
     "data": {
      "text/plain": [
       "['__class__',\n",
       " '__delattr__',\n",
       " '__delitem__',\n",
       " '__dir__',\n",
       " '__doc__',\n",
       " '__enter__',\n",
       " '__eq__',\n",
       " '__exit__',\n",
       " '__format__',\n",
       " '__ge__',\n",
       " '__getattribute__',\n",
       " '__getitem__',\n",
       " '__gt__',\n",
       " '__hash__',\n",
       " '__init__',\n",
       " '__init_subclass__',\n",
       " '__le__',\n",
       " '__len__',\n",
       " '__lt__',\n",
       " '__ne__',\n",
       " '__new__',\n",
       " '__reduce__',\n",
       " '__reduce_ex__',\n",
       " '__repr__',\n",
       " '__setattr__',\n",
       " '__setitem__',\n",
       " '__sizeof__',\n",
       " '__str__',\n",
       " '__subclasshook__',\n",
       " 'close',\n",
       " 'closed',\n",
       " 'find',\n",
       " 'flush',\n",
       " 'madvise',\n",
       " 'move',\n",
       " 'read',\n",
       " 'read_byte',\n",
       " 'readline',\n",
       " 'resize',\n",
       " 'rfind',\n",
       " 'seek',\n",
       " 'size',\n",
       " 'tell',\n",
       " 'write',\n",
       " 'write_byte']"
      ]
     },
     "execution_count": 33,
     "metadata": {},
     "output_type": "execute_result"
    }
   ],
   "source": [
    "import mmap\n",
    "mmap.mmap(fileno, length, tagname=None, access=ACCESS_DEFAULT[, offset])\n",
    "dir(x.base)"
   ]
  },
  {
   "cell_type": "code",
   "execution_count": 36,
   "metadata": {},
   "outputs": [
    {
     "ename": "AttributeError",
     "evalue": "'mmap.mmap' object has no attribute 'fileno'",
     "output_type": "error",
     "traceback": [
      "\u001b[0;31m---------------------------------------------------------------------------\u001b[0m",
      "\u001b[0;31mAttributeError\u001b[0m                            Traceback (most recent call last)",
      "Cell \u001b[0;32mIn[36], line 1\u001b[0m\n\u001b[0;32m----> 1\u001b[0m \u001b[43mx\u001b[49m\u001b[38;5;241;43m.\u001b[39;49m\u001b[43mbase\u001b[49m\u001b[38;5;241;43m.\u001b[39;49m\u001b[43mfileno\u001b[49m\n",
      "\u001b[0;31mAttributeError\u001b[0m: 'mmap.mmap' object has no attribute 'fileno'"
     ]
    }
   ],
   "source": [
    "x.base.fileno"
   ]
  },
  {
   "cell_type": "code",
   "execution_count": 17,
   "metadata": {},
   "outputs": [
    {
     "data": {
      "text/plain": [
       "['__cuda_memory__']"
      ]
     },
     "execution_count": 17,
     "metadata": {},
     "output_type": "execute_result"
    }
   ],
   "source": [
    "[n for n in dir(y) if 'mem' in n]"
   ]
  },
  {
   "cell_type": "code",
   "execution_count": 20,
   "metadata": {},
   "outputs": [
    {
     "ename": "CudaAPIError",
     "evalue": "[801] Call to cuIpcGetMemHandle results in CUDA_ERROR_NOT_SUPPORTED",
     "output_type": "error",
     "traceback": [
      "\u001b[0;31m---------------------------------------------------------------------------\u001b[0m",
      "\u001b[0;31mCudaAPIError\u001b[0m                              Traceback (most recent call last)",
      "Cell \u001b[0;32mIn[20], line 1\u001b[0m\n\u001b[0;32m----> 1\u001b[0m \u001b[43my\u001b[49m\u001b[38;5;241;43m.\u001b[39;49m\u001b[43mget_ipc_handle\u001b[49m\u001b[43m(\u001b[49m\u001b[43m)\u001b[49m\n",
      "File \u001b[0;32m~/micromamba/envs/flex-spectrum-sensor/lib/python3.9/site-packages/numba/cuda/cudadrv/devicearray.py:324\u001b[0m, in \u001b[0;36mDeviceNDArrayBase.get_ipc_handle\u001b[0;34m(self)\u001b[0m\n\u001b[1;32m    317\u001b[0m \u001b[38;5;28;01mdef\u001b[39;00m \u001b[38;5;21mget_ipc_handle\u001b[39m(\u001b[38;5;28mself\u001b[39m):\n\u001b[1;32m    318\u001b[0m \u001b[38;5;250m    \u001b[39m\u001b[38;5;124;03m\"\"\"\u001b[39;00m\n\u001b[1;32m    319\u001b[0m \u001b[38;5;124;03m    Returns a *IpcArrayHandle* object that is safe to serialize and transfer\u001b[39;00m\n\u001b[1;32m    320\u001b[0m \u001b[38;5;124;03m    to another process to share the local allocation.\u001b[39;00m\n\u001b[1;32m    321\u001b[0m \n\u001b[1;32m    322\u001b[0m \u001b[38;5;124;03m    Note: this feature is only available on Linux.\u001b[39;00m\n\u001b[1;32m    323\u001b[0m \u001b[38;5;124;03m    \"\"\"\u001b[39;00m\n\u001b[0;32m--> 324\u001b[0m     ipch \u001b[38;5;241m=\u001b[39m \u001b[43mdevices\u001b[49m\u001b[38;5;241;43m.\u001b[39;49m\u001b[43mget_context\u001b[49m\u001b[43m(\u001b[49m\u001b[43m)\u001b[49m\u001b[38;5;241;43m.\u001b[39;49m\u001b[43mget_ipc_handle\u001b[49m\u001b[43m(\u001b[49m\u001b[38;5;28;43mself\u001b[39;49m\u001b[38;5;241;43m.\u001b[39;49m\u001b[43mgpu_data\u001b[49m\u001b[43m)\u001b[49m\n\u001b[1;32m    325\u001b[0m     desc \u001b[38;5;241m=\u001b[39m \u001b[38;5;28mdict\u001b[39m(shape\u001b[38;5;241m=\u001b[39m\u001b[38;5;28mself\u001b[39m\u001b[38;5;241m.\u001b[39mshape, strides\u001b[38;5;241m=\u001b[39m\u001b[38;5;28mself\u001b[39m\u001b[38;5;241m.\u001b[39mstrides, dtype\u001b[38;5;241m=\u001b[39m\u001b[38;5;28mself\u001b[39m\u001b[38;5;241m.\u001b[39mdtype)\n\u001b[1;32m    326\u001b[0m     \u001b[38;5;28;01mreturn\u001b[39;00m IpcArrayHandle(ipc_handle\u001b[38;5;241m=\u001b[39mipch, array_desc\u001b[38;5;241m=\u001b[39mdesc)\n",
      "File \u001b[0;32m~/micromamba/envs/flex-spectrum-sensor/lib/python3.9/site-packages/numba/cuda/cudadrv/driver.py:1391\u001b[0m, in \u001b[0;36mContext.get_ipc_handle\u001b[0;34m(self, memory)\u001b[0m\n\u001b[1;32m   1389\u001b[0m \u001b[38;5;28;01mif\u001b[39;00m \u001b[38;5;129;01mnot\u001b[39;00m SUPPORTS_IPC:\n\u001b[1;32m   1390\u001b[0m     \u001b[38;5;28;01mraise\u001b[39;00m \u001b[38;5;167;01mOSError\u001b[39;00m(\u001b[38;5;124m'\u001b[39m\u001b[38;5;124mOS does not support CUDA IPC\u001b[39m\u001b[38;5;124m'\u001b[39m)\n\u001b[0;32m-> 1391\u001b[0m \u001b[38;5;28;01mreturn\u001b[39;00m \u001b[38;5;28;43mself\u001b[39;49m\u001b[38;5;241;43m.\u001b[39;49m\u001b[43mmemory_manager\u001b[49m\u001b[38;5;241;43m.\u001b[39;49m\u001b[43mget_ipc_handle\u001b[49m\u001b[43m(\u001b[49m\u001b[43mmemory\u001b[49m\u001b[43m)\u001b[49m\n",
      "File \u001b[0;32m~/micromamba/envs/flex-spectrum-sensor/lib/python3.9/site-packages/numba/cuda/cudadrv/driver.py:1033\u001b[0m, in \u001b[0;36mGetIpcHandleMixin.get_ipc_handle\u001b[0;34m(self, memory)\u001b[0m\n\u001b[1;32m   1031\u001b[0m \u001b[38;5;28;01melse\u001b[39;00m:\n\u001b[1;32m   1032\u001b[0m     ipchandle \u001b[38;5;241m=\u001b[39m drvapi\u001b[38;5;241m.\u001b[39mcu_ipc_mem_handle()\n\u001b[0;32m-> 1033\u001b[0m     \u001b[43mdriver\u001b[49m\u001b[38;5;241;43m.\u001b[39;49m\u001b[43mcuIpcGetMemHandle\u001b[49m\u001b[43m(\u001b[49m\u001b[43mbyref\u001b[49m\u001b[43m(\u001b[49m\u001b[43mipchandle\u001b[49m\u001b[43m)\u001b[49m\u001b[43m,\u001b[49m\u001b[43m \u001b[49m\u001b[43mbase\u001b[49m\u001b[43m)\u001b[49m\n\u001b[1;32m   1034\u001b[0m     offset \u001b[38;5;241m=\u001b[39m memory\u001b[38;5;241m.\u001b[39mhandle\u001b[38;5;241m.\u001b[39mvalue \u001b[38;5;241m-\u001b[39m base\n\u001b[1;32m   1035\u001b[0m source_info \u001b[38;5;241m=\u001b[39m \u001b[38;5;28mself\u001b[39m\u001b[38;5;241m.\u001b[39mcontext\u001b[38;5;241m.\u001b[39mdevice\u001b[38;5;241m.\u001b[39mget_device_identity()\n",
      "File \u001b[0;32m~/micromamba/envs/flex-spectrum-sensor/lib/python3.9/site-packages/numba/cuda/cudadrv/driver.py:327\u001b[0m, in \u001b[0;36mDriver._ctypes_wrap_fn.<locals>.safe_cuda_api_call\u001b[0;34m(*args)\u001b[0m\n\u001b[1;32m    325\u001b[0m _logger\u001b[38;5;241m.\u001b[39mdebug(\u001b[38;5;124m'\u001b[39m\u001b[38;5;124mcall driver api: \u001b[39m\u001b[38;5;132;01m%s\u001b[39;00m\u001b[38;5;124m'\u001b[39m, libfn\u001b[38;5;241m.\u001b[39m\u001b[38;5;18m__name__\u001b[39m)\n\u001b[1;32m    326\u001b[0m retcode \u001b[38;5;241m=\u001b[39m libfn(\u001b[38;5;241m*\u001b[39margs)\n\u001b[0;32m--> 327\u001b[0m \u001b[38;5;28;43mself\u001b[39;49m\u001b[38;5;241;43m.\u001b[39;49m\u001b[43m_check_ctypes_error\u001b[49m\u001b[43m(\u001b[49m\u001b[43mfname\u001b[49m\u001b[43m,\u001b[49m\u001b[43m \u001b[49m\u001b[43mretcode\u001b[49m\u001b[43m)\u001b[49m\n",
      "File \u001b[0;32m~/micromamba/envs/flex-spectrum-sensor/lib/python3.9/site-packages/numba/cuda/cudadrv/driver.py:395\u001b[0m, in \u001b[0;36mDriver._check_ctypes_error\u001b[0;34m(self, fname, retcode)\u001b[0m\n\u001b[1;32m    393\u001b[0m \u001b[38;5;28;01mif\u001b[39;00m retcode \u001b[38;5;241m==\u001b[39m enums\u001b[38;5;241m.\u001b[39mCUDA_ERROR_NOT_INITIALIZED:\n\u001b[1;32m    394\u001b[0m     \u001b[38;5;28mself\u001b[39m\u001b[38;5;241m.\u001b[39m_detect_fork()\n\u001b[0;32m--> 395\u001b[0m \u001b[38;5;28;01mraise\u001b[39;00m CudaAPIError(retcode, msg)\n",
      "\u001b[0;31mCudaAPIError\u001b[0m: [801] Call to cuIpcGetMemHandle results in CUDA_ERROR_NOT_SUPPORTED"
     ]
    }
   ],
   "source": [
    "y.get_ipc_handle()"
   ]
  },
  {
   "cell_type": "markdown",
   "metadata": {},
   "source": [
    "### 2. RPYC for remote control"
   ]
  },
  {
   "cell_type": "code",
   "execution_count": null,
   "metadata": {},
   "outputs": [],
   "source": [
    "from rpyc.utils.zerodeploy import DeployedServer\n",
    "from plumbum import SshMachine\n",
    "\n",
    "# create the deployment\n",
    "mach = SshMachine(\"somehost\", user=\"someuser\", keyfile=\"/path/to/keyfile\")\n",
    "server = DeployedServer(mach)\n",
    "\n",
    "# and now you can connect to it the usual way\n",
    "conn1 = server.classic_connect()\n",
    "print(conn1.modules.sys.platform)\n",
    "\n",
    "# you're not limited to a single connection, of course\n",
    "conn2 = server.classic_connect()\n",
    "print(conn2.modules.os.getpid())\n",
    "\n",
    "# when you're done - close the server and everything will disappear\n",
    "server.close()\n"
   ]
  }
 ],
 "metadata": {
  "kernelspec": {
   "display_name": "flex-spectrum-sensor",
   "language": "python",
   "name": "python3"
  },
  "language_info": {
   "codemirror_mode": {
    "name": "ipython",
    "version": 3
   },
   "file_extension": ".py",
   "mimetype": "text/x-python",
   "name": "python",
   "nbconvert_exporter": "python",
   "pygments_lexer": "ipython3",
   "version": "3.9.19"
  }
 },
 "nbformat": 4,
 "nbformat_minor": 2
}
