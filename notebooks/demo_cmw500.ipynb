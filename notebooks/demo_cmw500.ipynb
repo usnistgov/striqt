{
 "cells": [
  {
   "attachments": {},
   "cell_type": "markdown",
   "id": "5d2d4a6e",
   "metadata": {
    "tags": []
   },
   "source": [
    "# Demo real-time signal analysis\n",
    "This demonstrates the use of low-level routines to perform signal analysis.\n",
    "\n",
    "Each analysis product is returned as a `xarray.DataArray`. At the end, they are merged into a single `xarray.Dataset` containing all all the different data results along with their labels, coordinates, and metadata.\n",
    "\n",
    "The input data used here is a cellular LTE capture from a benchtop base station emulator, which is available publicly from [High-SNR I/Q Recordings of FDD LTE User Equipment Emissions](https://data.nist.gov/pdr/lps/ark:/88434/mds2-3177) by Forsyth _et al_."
   ]
  },
  {
   "cell_type": "code",
   "execution_count": null,
   "id": "df170dc8",
   "metadata": {},
   "outputs": [],
   "source": [
    "from matplotlib import pyplot as plt\n",
    "import iqwaveform.figures\n",
    "import numpy as np\n",
    "import channel_analysis\n",
    "from iqwaveform import powtodB\n",
    "from channel_analysis import figures\n",
    "from scipy import signal\n",
    "\n",
    "plt.style.use('iqwaveform.ieee_double_column')\n",
    "\n",
    "fs_in = 15.36e6\n",
    "fs = 13.44e6\n",
    "duration = 0.5\n",
    "start = 0.1\n",
    "\n",
    "iq = np.load('cmw500-fdd-15.36MSps.npy')[np.newaxis,:]\n",
    "if fs != fs_in:\n",
    "    iq = signal.resample(iq, round(iq.shape[1] * fs/fs_in), axis=1)\n",
    "iq = iq[:, round(start * fs) : round((start + duration) * fs)]\n",
    "capture = channel_analysis.FilteredCapture(\n",
    "    sample_rate=fs, analysis_bandwidth=10e6, duration=duration\n",
    ")"
   ]
  },
  {
   "cell_type": "markdown",
   "id": "6d81bac0",
   "metadata": {},
   "source": [
    "### Channel power time-series"
   ]
  },
  {
   "cell_type": "code",
   "execution_count": null,
   "id": "20da10a1",
   "metadata": {},
   "outputs": [],
   "source": [
    "pvt = channel_analysis.channel_power_time_series(\n",
    "    iq,\n",
    "    capture,\n",
    "    detector_period=10e-3,\n",
    "    power_detectors=('rms', 'peak'),\n",
    ")"
   ]
  },
  {
   "cell_type": "code",
   "execution_count": null,
   "id": "02035a7a",
   "metadata": {},
   "outputs": [],
   "source": [
    "from iqwaveform import powtodB\n",
    "from matplotlib import pyplot as plt\n",
    "from channel_analysis import figures\n",
    "\n",
    "plt.style.use('iqwaveform.ieee_double_column')\n",
    "\n",
    "fig, ax = plt.subplots()\n",
    "\n",
    "pvt.plot.line(x='time_elapsed', ax=ax)\n",
    "\n",
    "figures.label_axis('x', pvt.time_elapsed)\n",
    "figures.label_axis('y', pvt, tick_units=False)\n",
    "figures.label_legend(pvt.power_detector)"
   ]
  },
  {
   "cell_type": "markdown",
   "id": "e6f25871",
   "metadata": {},
   "source": [
    "### Cyclic channel power"
   ]
  },
  {
   "cell_type": "code",
   "execution_count": null,
   "id": "13a24d83",
   "metadata": {},
   "outputs": [],
   "source": [
    "cyclic_power = channel_analysis.cyclic_channel_power(\n",
    "    iq,\n",
    "    capture,\n",
    "    cyclic_period=10e-3,\n",
    "    detector_period=1e-3 / 15 / 4,\n",
    "    power_detectors=('rms', 'peak'),\n",
    "    cyclic_statistics=('min', 'mean', 'max'),\n",
    ")"
   ]
  },
  {
   "cell_type": "code",
   "execution_count": null,
   "id": "7b70efb8",
   "metadata": {},
   "outputs": [],
   "source": [
    "fig, ax = plt.subplots()\n",
    "\n",
    "time = cyclic_power.cyclic_lag\n",
    "\n",
    "for i, detector in enumerate(cyclic_power.power_detector.values):\n",
    "    a = cyclic_power.sel(power_detector=detector)\n",
    "\n",
    "    ax.plot(time, (a.sel(cyclic_statistic='mean')), color=f'C{i}')\n",
    "\n",
    "for i, detector in enumerate(cyclic_power.power_detector.values):\n",
    "    a = cyclic_power.sel(power_detector=detector)\n",
    "\n",
    "    ax.fill_between(\n",
    "        time,\n",
    "        (a.sel(cyclic_statistic='min')),\n",
    "        (a.sel(cyclic_statistic='max')),\n",
    "        color=f'C{i}',\n",
    "        alpha=0.25,\n",
    "        lw=0,\n",
    "        rasterized=True,\n",
    "    )\n",
    "\n",
    "figures.label_axis('x', cyclic_power.cyclic_lag)\n",
    "figures.label_axis('y', cyclic_power, tick_units=False)\n",
    "figures.label_legend(cyclic_power.power_detector)"
   ]
  },
  {
   "cell_type": "markdown",
   "id": "9e65ea61",
   "metadata": {},
   "source": [
    "### Cellular cyclic autocorrelation"
   ]
  },
  {
   "cell_type": "code",
   "execution_count": null,
   "id": "712a1aee",
   "metadata": {},
   "outputs": [],
   "source": [
    "cyclic_autocorrelation = channel_analysis.cellular_cyclic_autocorrelation(\n",
    "    iq,\n",
    "    capture,\n",
    "    subcarrier_spacings=(15e3, 30e3, 60e3),\n",
    ")"
   ]
  },
  {
   "cell_type": "code",
   "execution_count": null,
   "id": "79c98c79",
   "metadata": {},
   "outputs": [],
   "source": [
    "fig, ax = plt.subplots()\n",
    "\n",
    "cyclic_autocorrelation.sel(link_direction='downlink').plot.line(x='cyclic_sample_lag', ax=ax)\n",
    "figures.label_axis('x', cyclic_autocorrelation.cyclic_sample_lag)\n",
    "figures.label_legend(cyclic_autocorrelation.subcarrier_spacing)"
   ]
  },
  {
   "cell_type": "markdown",
   "id": "8a85f938",
   "metadata": {},
   "source": [
    "### Persistence Spectrum"
   ]
  },
  {
   "cell_type": "code",
   "execution_count": null,
   "id": "ed6387ec",
   "metadata": {},
   "outputs": [],
   "source": [
    "frequency_resolution = 30e3\n",
    "frequency_stats = [0.5, 0.75, 0.95, 0.99, 'max']\n",
    "\n",
    "spectrum = channel_analysis.power_spectral_density(\n",
    "    iq,\n",
    "    capture,\n",
    "    window=('dpss', 3.87638403),\n",
    "    frequency_resolution=frequency_resolution,\n",
    "    frequency_statistic=frequency_stats,\n",
    ")"
   ]
  },
  {
   "cell_type": "code",
   "execution_count": null,
   "id": "796d4a20",
   "metadata": {},
   "outputs": [],
   "source": [
    "fig, ax = plt.subplots()\n",
    "\n",
    "spectrum.plot.line(x='baseband_frequency', ax=ax)\n",
    "figures.label_axis('x', spectrum.baseband_frequency)\n",
    "figures.label_axis('y', spectrum, tick_units=False)\n",
    "# figures.label_legend(ax, spectrum, 'persistence_statistic')"
   ]
  },
  {
   "cell_type": "markdown",
   "id": "3f0369cc",
   "metadata": {},
   "source": [
    "### Spectrogram"
   ]
  },
  {
   "cell_type": "code",
   "execution_count": null,
   "id": "42c44e6c",
   "metadata": {},
   "outputs": [],
   "source": [
    "spectrogram = channel_analysis.spectrogram(\n",
    "    iq,\n",
    "    capture,\n",
    "    window=('dpss', 3.87638403),\n",
    "    # window='blackmanharris',\n",
    "    frequency_resolution=15e3,\n",
    "    fractional_overlap=0.0,\n",
    "    frequency_bin_averaging=12,\n",
    "    time_bin_averaging=None,\n",
    ")"
   ]
  },
  {
   "cell_type": "code",
   "execution_count": null,
   "id": "fb55f0ea",
   "metadata": {},
   "outputs": [],
   "source": [
    "spectrogram.sel(spectrogram_time=slice(0,40e-3)).T.plot()\n",
    "figures.label_axis('y', spectrogram.spectrogram_baseband_frequency, tick_units=False)\n",
    "figures.label_axis('x', spectrogram.spectrogram_time)\n",
    "figures.label_axis('colorbar', spectrogram, tick_units=False)\n",
    "fig = plt.gcf()"
   ]
  },
  {
   "cell_type": "code",
   "execution_count": null,
   "id": "e166cfd6",
   "metadata": {},
   "outputs": [],
   "source": [
    "spectrogram[[0,9]].plot.line(x='spectrogram_baseband_frequency', add_legend=False);"
   ]
  },
  {
   "cell_type": "markdown",
   "id": "c5654dbe",
   "metadata": {},
   "source": [
    "### Spectrogram Power Histogram"
   ]
  },
  {
   "cell_type": "code",
   "execution_count": null,
   "id": "be16d81d",
   "metadata": {},
   "outputs": [],
   "source": [
    "resource_power_histogram = channel_analysis.spectrogram_histogram(\n",
    "    iq,\n",
    "    capture,\n",
    "    window=('dpss', 3.87638403),\n",
    "    power_low=-170,\n",
    "    power_high=0,\n",
    "    power_resolution=0.25,\n",
    "    frequency_resolution=15e3,\n",
    "    fractional_overlap=0.0,\n",
    "    frequency_bin_averaging=12,\n",
    "    time_bin_averaging=15\n",
    ")"
   ]
  },
  {
   "cell_type": "code",
   "execution_count": null,
   "id": "58930685",
   "metadata": {},
   "outputs": [],
   "source": [
    "fig, ax = plt.subplots()\n",
    "\n",
    "resource_power_histogram.sel(spectrogram_power_bin=slice(-135,-75)).plot(x='spectrogram_power_bin', ax=ax)\n",
    "figures.label_axis('x', resource_power_histogram.spectrogram_power_bin, tick_units=False)"
   ]
  },
  {
   "cell_type": "markdown",
   "id": "25f75e8b",
   "metadata": {},
   "source": [
    "### Putting it all together"
   ]
  },
  {
   "cell_type": "code",
   "execution_count": null,
   "id": "876f9331",
   "metadata": {},
   "outputs": [],
   "source": [
    "# %%timeit -n1 -r1\n",
    "\n",
    "# del iq\n",
    "\n",
    "# iq = channel_analysis.simulated_awgn(capture, xp=np)\n",
    "# iq = channel_analysis.filter_iq_capture(iq, capture)\n",
    "\n",
    "analysis_spec = {\n",
    "    'cyclic_channel_power': {\n",
    "        'cyclic_period': 10e-3,\n",
    "        'detector_period': 1e-3 / 15 / 4,\n",
    "        'power_detectors': ('rms', 'peak'),\n",
    "        'cyclic_statistics': ('min', 'mean', 'max'),\n",
    "    },\n",
    "    'power_spectral_density': {\n",
    "        # 'window': 'flattop',\n",
    "        'window': 'hamming',  # 'hamming', 'blackman', or 'blackmanharris'\n",
    "        'frequency_resolution': 1e3,\n",
    "        'frequency_statistic': [0.5, 0.75, 0.95, 0.99, 1],\n",
    "        'trim_stopband': False,\n",
    "    },\n",
    "    'spectrogram': {\n",
    "        'window': ('dpss', 3.87638403),\n",
    "        'frequency_resolution': 15e3,\n",
    "        'fractional_overlap': 0.0,\n",
    "        'frequency_bin_averaging': 12,\n",
    "        'time_bin_averaging': None,\n",
    "    },\n",
    "    'cellular_cyclic_autocorrelation': {'subcarrier_spacings': [15e3, 30e3, 60e3]},\n",
    "}\n",
    "\n",
    "filter_spec = {\n",
    "    'nfft': 1024,\n",
    "    'window': 'hamming',  # 'hamming', 'blackman', or 'blackmanharris'\n",
    "}\n",
    "\n",
    "result = channel_analysis.analyze_by_spec(iq, capture, spec=analysis_spec)\n",
    "result"
   ]
  },
  {
   "cell_type": "code",
   "execution_count": null,
   "id": "64731518",
   "metadata": {},
   "outputs": [],
   "source": [
    "%%timeit -n1 -r1\n",
    "\n",
    "channel_analysis.analyze_by_spec(\n",
    "    iq,\n",
    "    capture,\n",
    "    spec=analysis_spec,\n",
    ")"
   ]
  },
  {
   "cell_type": "code",
   "execution_count": null,
   "id": "1e3a5549",
   "metadata": {},
   "outputs": [],
   "source": [
    "# %timeit -n1 -r1 channel_analysis.dump('test.zarr.zip', result, mode='w')"
   ]
  }
 ],
 "metadata": {
  "kernelspec": {
   "display_name": "flex-spectrum-sensor",
   "language": "python",
   "name": "python3"
  },
  "language_info": {
   "codemirror_mode": {
    "name": "ipython",
    "version": 3
   },
   "file_extension": ".py",
   "mimetype": "text/x-python",
   "name": "python",
   "nbconvert_exporter": "python",
   "pygments_lexer": "ipython3",
   "version": "3.10.16"
  }
 },
 "nbformat": 4,
 "nbformat_minor": 5
}
