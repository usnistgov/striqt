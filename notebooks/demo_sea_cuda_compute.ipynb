{
 "cells": [
  {
   "attachments": {},
   "cell_type": "markdown",
   "id": "5d2d4a6e",
   "metadata": {
    "tags": []
   },
   "source": [
    "# Demo GPU computation with CUDA\n",
    "* `iqwaveform` and `edge_analyzer` have been developed to accept `numpy` (CPU) or `cupy` (CUDA GPU) arrays interchangeably\n",
    "* This shows the evaluation on a Jetson TX2\n",
    "* Beginning from the `Channel power time-series` section, the code cells are identical to the CPU (numpy) compute notebook"
   ]
  },
  {
   "cell_type": "markdown",
   "id": "f5f5cb89",
   "metadata": {},
   "source": [
    "### Generate fake data"
   ]
  },
  {
   "cell_type": "code",
   "execution_count": null,
   "id": "8dae80b8",
   "metadata": {},
   "outputs": [],
   "source": [
    "from channel_analysis.io import simulated_awgn\n",
    "import cupy as cp\n",
    "import iqwaveform.cuda\n",
    "\n",
    "# this takes a while the first time, so get it out of the way now\n",
    "iqwaveform.cuda.build()"
   ]
  },
  {
   "cell_type": "markdown",
   "id": "4fc7b49c",
   "metadata": {},
   "source": [
    "### Analysis bandpass filter"
   ]
  },
  {
   "cell_type": "code",
   "execution_count": null,
   "id": "53b54e9b",
   "metadata": {},
   "outputs": [],
   "source": [
    "from channel_analysis import waveform\n",
    "from iqwaveform import fourier\n",
    "from cupyx.profiler import benchmark\n",
    "from channel_analysis.io import simulated_awgn\n",
    "import cupy as cp\n",
    "\n",
    "import importlib\n",
    "fourier = importlib.reload(fourier)\n",
    "\n",
    "duration = 1\n",
    "sample_rate_Hz = 15.36e6  # 11.52e6\n",
    "analysis_bandwidth_Hz = 10e6\n",
    "\n",
    "iq = simulated_awgn(\n",
    "    duration, sample_rate_Hz, power=sample_rate_Hz / analysis_bandwidth_Hz, xp=cp, pinned_cuda=True\n",
    ")\n",
    "iq = fourier.ola_filter(\n",
    "    iq,\n",
    "    fs=sample_rate_Hz,\n",
    "    fft_size=1024,\n",
    "    window='hamming',\n",
    "    passband=(-analysis_bandwidth_Hz / 2, analysis_bandwidth_Hz / 2),\n",
    "    out='shared'\n",
    ")\n",
    "\n",
    "cp.cuda.runtime.deviceSynchronize()"
   ]
  },
  {
   "cell_type": "code",
   "execution_count": null,
   "id": "18c447e8",
   "metadata": {},
   "outputs": [],
   "source": [
    "# def profile():\n",
    "#     ret = fourier.ola_filter(iq, fs=sample_rate_Hz, fft_size=1024, window='hamming', passband=(-analysis_bandwidth_Hz/2, analysis_bandwidth_Hz/2)).get()\n",
    "\n",
    "# benchmark(profile, n_repeat=10)"
   ]
  },
  {
   "cell_type": "markdown",
   "id": "ef032318",
   "metadata": {},
   "source": [
    "### Channel power time-series"
   ]
  },
  {
   "cell_type": "code",
   "execution_count": null,
   "id": "f9a9c375",
   "metadata": {
    "scrolled": true
   },
   "outputs": [],
   "source": [
    "pvt = waveform.power_time_series(\n",
    "    iq,\n",
    "    sample_rate_Hz=sample_rate_Hz,\n",
    "    analysis_bandwidth_Hz=analysis_bandwidth_Hz,\n",
    "    detector_period=10e-3,\n",
    "    detectors=('rms', 'peak'),\n",
    ").to_xarray()"
   ]
  },
  {
   "cell_type": "code",
   "execution_count": null,
   "id": "e0954f4b",
   "metadata": {},
   "outputs": [],
   "source": [
    "def profile():\n",
    "    return waveform.power_time_series(\n",
    "        iq,\n",
    "        sample_rate_Hz=sample_rate_Hz,\n",
    "        analysis_bandwidth_Hz=analysis_bandwidth_Hz,\n",
    "        detector_period=10e-3,\n",
    "        detectors=('rms', 'peak'),\n",
    "    )\n",
    "\n",
    "# benchmark(profile, n_repeat=10)\n",
    "benchmark(lambda: profile().to_xarray(), n_repeat=10)"
   ]
  },
  {
   "cell_type": "code",
   "execution_count": null,
   "id": "f78557a2",
   "metadata": {},
   "outputs": [],
   "source": [
    "from iqwaveform import powtodB\n",
    "from matplotlib import pyplot as plt\n",
    "from channel_analysis import figures\n",
    "\n",
    "plt.style.use('iqwaveform.ieee_double_column')\n",
    "\n",
    "fig, ax = plt.subplots()\n",
    "\n",
    "pvt.plot.line(x='time_elapsed', ax=ax)\n",
    "\n",
    "figures.label_axis(ax.xaxis, pvt, 'time_elapsed')\n",
    "figures.label_axis(ax.yaxis, pvt, tick_units=False)\n",
    "figures.label_legend(ax, pvt, 'power_detector')"
   ]
  },
  {
   "cell_type": "markdown",
   "id": "6a6820f9",
   "metadata": {},
   "source": [
    "### Cyclic channel power"
   ]
  },
  {
   "cell_type": "code",
   "execution_count": null,
   "id": "1be32458",
   "metadata": {},
   "outputs": [],
   "source": [
    "cyclic_power = waveform.cyclic_channel_power(\n",
    "    iq,\n",
    "    sample_rate_Hz,\n",
    "    analysis_bandwidth_Hz=analysis_bandwidth_Hz,\n",
    "    cyclic_period=10e-3,\n",
    "    detector_period=1e-3 / 15 / 4,\n",
    "    detectors=('rms', 'peak'),\n",
    "    cyclic_statistics=('min', 'mean', 'max'),\n",
    ").to_xarray()"
   ]
  },
  {
   "cell_type": "code",
   "execution_count": null,
   "id": "54dc25f3",
   "metadata": {},
   "outputs": [],
   "source": [
    "def profile():\n",
    "    return waveform.cyclic_channel_power(\n",
    "        iq,\n",
    "        sample_rate_Hz,\n",
    "        analysis_bandwidth_Hz=analysis_bandwidth_Hz,\n",
    "        cyclic_period=10e-3,\n",
    "        detector_period=1e-3 / 15 / 4,\n",
    "        detectors=pvt.power_detector.values,\n",
    "        cyclic_statistics=('min', 'mean', 'max'),\n",
    "    )\n",
    "\n",
    "# benchmark(profile, n_repeat=10)\n",
    "benchmark(lambda: profile().to_xarray(), n_repeat=10)"
   ]
  },
  {
   "cell_type": "code",
   "execution_count": null,
   "id": "a9f29a82",
   "metadata": {
    "scrolled": true
   },
   "outputs": [],
   "source": [
    "fig, ax = plt.subplots()\n",
    "\n",
    "time = cyclic_power.cyclic_lag\n",
    "\n",
    "for i, detector in enumerate(cyclic_power.power_detector.values):\n",
    "    a = cyclic_power.sel(power_detector=detector)\n",
    "\n",
    "    ax.plot(time, powtodB(a.sel(cyclic_statistic='mean')), color=f'C{i}')\n",
    "\n",
    "for i, detector in enumerate(cyclic_power.power_detector.values):\n",
    "    a = cyclic_power.sel(power_detector=detector)\n",
    "\n",
    "    ax.fill_between(\n",
    "        time,\n",
    "        powtodB(a.sel(cyclic_statistic='min')),\n",
    "        powtodB(a.sel(cyclic_statistic='max')),\n",
    "        color=f'C{i}',\n",
    "        alpha=0.25,\n",
    "        lw=0,\n",
    "        rasterized=True,\n",
    "    )\n",
    "\n",
    "figures.label_axis(ax.xaxis, cyclic_power, 'cyclic_lag')\n",
    "figures.label_axis(ax.yaxis, cyclic_power, tick_units=False)\n",
    "figures.label_legend(ax, cyclic_power, 'power_detector')"
   ]
  },
  {
   "cell_type": "markdown",
   "id": "0795ef29",
   "metadata": {},
   "source": [
    "### Persistence Spectrum"
   ]
  },
  {
   "cell_type": "code",
   "execution_count": null,
   "id": "885160e3",
   "metadata": {},
   "outputs": [],
   "source": [
    "from importlib import reload\n",
    "\n",
    "waveform = reload(waveform)\n",
    "waveform.fourier = reload(waveform.fourier)\n",
    "\n",
    "frequency_resolution = 15e3\n",
    "spectrum_quantiles = [0.5, 0.75, 0.95, 0.99, 1]\n",
    "\n",
    "spectrum = waveform.persistence_spectrum(\n",
    "    iq,\n",
    "    sample_rate_Hz=sample_rate_Hz,\n",
    "    analysis_bandwidth_Hz=analysis_bandwidth_Hz,\n",
    "    window=('dpss', 5),\n",
    "    resolution=frequency_resolution,\n",
    "    quantiles=spectrum_quantiles,\n",
    "    fractional_overlap=0.0,\n",
    "    truncate=True,\n",
    "    dB=True,\n",
    ").to_xarray()"
   ]
  },
  {
   "cell_type": "code",
   "execution_count": null,
   "id": "dd866714",
   "metadata": {
    "scrolled": true
   },
   "outputs": [],
   "source": [
    "fig, ax = plt.subplots()\n",
    "\n",
    "spectrum.plot.line(x='baseband_frequency', ax=ax)\n",
    "figures.label_axis(ax.xaxis, spectrum, 'baseband_frequency')\n",
    "figures.label_axis(ax.yaxis, spectrum, tick_units=False)\n",
    "figures.label_legend(ax, spectrum, 'persistence_statistic')"
   ]
  },
  {
   "cell_type": "code",
   "execution_count": null,
   "id": "dfc8eff1-a292-4a86-8d53-7ceb0951aece",
   "metadata": {},
   "outputs": [],
   "source": [
    "def profile():\n",
    "    return waveform.persistence_spectrum(\n",
    "        iq,\n",
    "        sample_rate_Hz=sample_rate_Hz,\n",
    "        analysis_bandwidth_Hz=analysis_bandwidth_Hz,\n",
    "        window=('dpss', 3),\n",
    "        resolution=frequency_resolution,\n",
    "        quantiles=spectrum_quantiles,\n",
    "        fractional_overlap=0.0,\n",
    "        truncate=True,\n",
    "        dB=True,\n",
    "    )\n",
    "\n",
    "benchmark(profile, n_repeat=1)\n",
    "# benchmark(lambda: profile().to_xarray(), n_repeat=10)\n",
    "\n",
    "# %%timeit -n1 -r1"
   ]
  },
  {
   "cell_type": "markdown",
   "id": "41586521",
   "metadata": {},
   "source": [
    "### Amplitude Probability Distribution"
   ]
  },
  {
   "cell_type": "code",
   "execution_count": null,
   "id": "2f748bc7",
   "metadata": {},
   "outputs": [],
   "source": [
    "apd_bins = dict(power_low=-60.0, power_high=15.0, power_count=55 * 4 + 1)\n",
    "\n",
    "apd = waveform.amplitude_probability_distribution(\n",
    "    iq, analysis_bandwidth_Hz=analysis_bandwidth_Hz, **apd_bins\n",
    ").to_xarray()"
   ]
  },
  {
   "cell_type": "code",
   "execution_count": null,
   "id": "e822388c",
   "metadata": {},
   "outputs": [],
   "source": [
    "%%timeit -n1 -r1\n",
    "\n",
    "waveform.amplitude_probability_distribution(\n",
    "    iq, analysis_bandwidth_Hz=analysis_bandwidth_Hz, **apd_bins\n",
    ").to_xarray()"
   ]
  },
  {
   "cell_type": "code",
   "execution_count": null,
   "id": "6e43f9c0",
   "metadata": {},
   "outputs": [],
   "source": [
    "fig, ax = plt.subplots()\n",
    "apd.plot(ax=ax)\n",
    "\n",
    "ax.set_yscale('gamma-qq', k=1, db_ordinal=True)\n",
    "figures.label_axis(ax.xaxis, apd, 'channel_power', tick_units=False)\n",
    "figures.label_axis(ax.yaxis, apd)"
   ]
  },
  {
   "cell_type": "markdown",
   "id": "a3fa304f-6d6d-4109-ae73-d4705b33df7e",
   "metadata": {},
   "source": [
    "### Putting it all together"
   ]
  },
  {
   "cell_type": "code",
   "execution_count": null,
   "id": "e3873308-5af7-404e-a693-c10156706559",
   "metadata": {
    "scrolled": true
   },
   "outputs": [],
   "source": [
    "# %%timeit -n1 -r1\n",
    "\n",
    "from edge_sensor import dataset\n",
    "\n",
    "del iq\n",
    "\n",
    "iq = simulated_awgn(\n",
    "    duration, sample_rate_Hz, power=sample_rate_Hz / analysis_bandwidth_Hz, xp=cp, pinned_cuda=True\n",
    ")\n",
    "\n",
    "analysis_spec = {\n",
    "    'power_time_series': {'detector_period': 10e-3, 'detectors': ('rms', 'peak')},\n",
    "    'cyclic_channel_power': {\n",
    "        'cyclic_period': 10e-3,\n",
    "        'detector_period': 1e-3 / 15 / 4,\n",
    "        'detectors': ('rms', 'peak'),\n",
    "        'cyclic_statistics': ('min', 'mean', 'max'),\n",
    "    },\n",
    "    'persistence_spectrum': {\n",
    "        # 'window': 'flattop',\n",
    "        'window': 'hamming',  # 'hamming', 'blackman', or 'blackmanharris'\n",
    "        'resolution': 15e3,\n",
    "        'quantiles': [0.5, 0.75, 0.95, 0.99, 1],\n",
    "        'truncate': True\n",
    "    },\n",
    "    'amplitude_probability_distribution': {\n",
    "        'power_low': -40,\n",
    "        'power_high': 15,\n",
    "        'power_count': 221,  # 0.25 dB resolution\n",
    "    },\n",
    "}\n",
    "\n",
    "filter_spec = {\n",
    "    'fft_size': 1024,\n",
    "    'window': 'hamming',  # 'hamming', 'blackman', or 'blackmanharris'\n",
    "}\n",
    "\n",
    "dataset.from_spec(\n",
    "    iq,\n",
    "    sample_rate_Hz,\n",
    "    analysis_bandwidth_Hz=analysis_bandwidth_Hz,\n",
    "    filter_spec=filter_spec,\n",
    "    analysis_spec=analysis_spec,\n",
    ")"
   ]
  },
  {
   "cell_type": "code",
   "execution_count": null,
   "id": "890eed30",
   "metadata": {},
   "outputs": [],
   "source": [
    "def profile():\n",
    "    return waveform.from_spec(\n",
    "        iq,\n",
    "        sample_rate_Hz,\n",
    "        analysis_bandwidth_Hz=analysis_bandwidth_Hz,\n",
    "        filter_spec=filter_spec,\n",
    "        analysis_spec=analysis_spec,\n",
    "    )\n",
    "\n",
    "benchmark(profile, n_repeat=2)"
   ]
  }
 ],
 "metadata": {
  "interpreter": {
   "hash": "099c9b2a95086a9e3ab983f9725869d218d0874f1df98a2400fcb2093f9d33e8"
  },
  "kernelspec": {
   "display_name": "Python 3 (ipykernel)",
   "language": "python",
   "name": "python3"
  },
  "language_info": {
   "codemirror_mode": {
    "name": "ipython",
    "version": 3
   },
   "file_extension": ".py",
   "mimetype": "text/x-python",
   "name": "python",
   "nbconvert_exporter": "python",
   "pygments_lexer": "ipython3",
   "version": "3.9.19"
  }
 },
 "nbformat": 4,
 "nbformat_minor": 5
}
