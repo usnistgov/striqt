{
 "cells": [
  {
   "cell_type": "markdown",
   "id": "376d0202-c735-4e63-a442-167af818a8fa",
   "metadata": {},
   "source": [
    "### Fast conversion from interleaved (int16,int16) to complex64"
   ]
  },
  {
   "cell_type": "code",
   "execution_count": 1,
   "id": "b95b05e0-b959-4735-aad1-451ede732998",
   "metadata": {},
   "outputs": [],
   "source": [
    "import cupy as cp\n",
    "import numpy as np\n",
    "from cupyx.profiler import benchmark\n",
    "import numba.cuda\n",
    "\n",
    "N = int(15.36e6 * 0.1)\n",
    "\n",
    "#  to hold larger casted float32 dtypes, create an array with double size for each i and q sample\n",
    "rx_buff = numba.cuda.mapped_array(\n",
    "    (4 * N,),\n",
    "    dtype='int16',\n",
    "    strides=None,\n",
    "    order='C',\n",
    "    stream=0,\n",
    "    portable=False,\n",
    "    wc=False,\n",
    ")\n",
    "\n",
    "rx_buff[::2] = np.random.randint(0, 1000, size=2 * N)\n",
    "\n",
    "\n",
    "def test0():\n",
    "    # the most obvious (?) way to do it\n",
    "    a = cp.array(rx_buff[::2]).astype('float32')\n",
    "    return a[::2] + np.complex64(1j) * a[1::2]\n",
    "\n",
    "\n",
    "def test1():\n",
    "    # use .view to avoid copying and summing. this _may_ have less memory overhead\n",
    "    return cp.array(rx_buff[::2], copy=False).astype('float32').view('complex64')\n",
    "\n",
    "\n",
    "def test2():\n",
    "    # store the cast array in the extra samples of rx_buff\n",
    "    rx_complex_buff = cp.array(rx_buff, copy=False).view('float32')\n",
    "    cp.copyto(rx_complex_buff, cp.array(rx_buff)[::2], casting='unsafe')\n",
    "    return rx_complex_buff.view('complex64')"
   ]
  },
  {
   "cell_type": "code",
   "execution_count": 2,
   "id": "19df0adf-8598-4de2-8899-dbd179928059",
   "metadata": {},
   "outputs": [
    {
     "data": {
      "text/plain": [
       "test0               :    CPU: 34650.170 us   +/- 86.054 (min: 34512.350 / max: 34983.198) us     GPU-0: 36306.107 us   +/- 77.978 (min: 36180.672 / max: 36633.984) us"
      ]
     },
     "execution_count": 2,
     "metadata": {},
     "output_type": "execute_result"
    }
   ],
   "source": [
    "benchmark(test0, n_repeat=100, n_warmup=100)"
   ]
  },
  {
   "cell_type": "code",
   "execution_count": 3,
   "id": "bd9ef2b4-6352-4bb3-ae30-851e88ce0437",
   "metadata": {},
   "outputs": [
    {
     "data": {
      "text/plain": [
       "test1               :    CPU: 34352.541 us   +/- 498.704 (min: 34059.390 / max: 37864.254) us     GPU-0: 35069.014 us   +/- 495.717 (min: 34768.448 / max: 38565.567) us"
      ]
     },
     "execution_count": 3,
     "metadata": {},
     "output_type": "execute_result"
    }
   ],
   "source": [
    "benchmark(test1, n_repeat=100, n_warmup=100)"
   ]
  },
  {
   "cell_type": "code",
   "execution_count": 4,
   "id": "1713f7db-103d-4363-896b-7d5eb7e31ce8",
   "metadata": {},
   "outputs": [
    {
     "data": {
      "text/plain": [
       "test2               :    CPU:   455.759 us   +/- 82.699 (min:   397.440 / max:   905.824) us     GPU-0:  2497.480 us   +/- 123.409 (min:  2148.800 / max:  2823.840) us"
      ]
     },
     "execution_count": 4,
     "metadata": {},
     "output_type": "execute_result"
    }
   ],
   "source": [
    "benchmark(test2, n_repeat=100, n_warmup=100)"
   ]
  },
  {
   "cell_type": "code",
   "execution_count": 5,
   "id": "75c73b36-9689-4015-8f19-e92fb3111a31",
   "metadata": {},
   "outputs": [
    {
     "name": "stdout",
     "output_type": "stream",
     "text": [
      "max error:  0.0 0.0\n"
     ]
    }
   ],
   "source": [
    "a0 = test0()\n",
    "a1 = test1()\n",
    "a2 = test2()\n",
    "print('max error: ', cp.abs(a0 - a1).max(), cp.abs(a0 - a2).max())"
   ]
  },
  {
   "cell_type": "code",
   "execution_count": 6,
   "id": "fab5debd-bcc6-42ef-b85d-2cc24893c182",
   "metadata": {},
   "outputs": [],
   "source": [
    "del rx_buff, a0, a1, a2"
   ]
  },
  {
   "cell_type": "markdown",
   "id": "5bdee493-9547-4530-8f65-4339acfc581e",
   "metadata": {},
   "source": [
    "### Filters: IIR vs overlap-and-add"
   ]
  },
  {
   "cell_type": "code",
   "execution_count": 1,
   "id": "112220b6-30e7-4a12-ba5b-2b958342c4ff",
   "metadata": {},
   "outputs": [],
   "source": [
    "from channel_analysis import waveform\n",
    "from scipy import signal\n",
    "from channel_analysis import cuda_filter\n",
    "from channel_analysis.io import simulated_awgn\n",
    "import cupy as cp\n",
    "from cupyx.profiler import benchmark\n",
    "\n",
    "duration = 0.1\n",
    "source.sample_rate = 11.52e6  # 15.36e6\n",
    "source.analysis_bandwidth = 10e6\n",
    "\n",
    "iq = simulated_awgn(\n",
    "    duration, source.sample_rate, power=source.sample_rate / source.analysis_bandwidth, xp=cp\n",
    ")\n",
    "cp.cuda.runtime.deviceSynchronize()"
   ]
  },
  {
   "cell_type": "code",
   "execution_count": 12,
   "id": "11c9eef7-8f75-4805-814b-31a39424bc39",
   "metadata": {
    "jupyter": {
     "source_hidden": true
    }
   },
   "outputs": [
    {
     "data": {
      "text/plain": [
       "test_iir            :    CPU:  3820.010 us   +/- 460.071 (min:  3400.992 / max:  5118.560) us     GPU-0: 40151.655 us   +/- 874.123 (min: 39627.201 / max: 42739.040) us"
      ]
     },
     "execution_count": 12,
     "metadata": {},
     "output_type": "execute_result"
    }
   ],
   "source": [
    "# filter_params = dict(\n",
    "#     passband_ripple_dB=0.1,\n",
    "#     stopband_attenuation_dB=90,\n",
    "#     transition_bandwidth_Hz=250e3,\n",
    "# )\n",
    "\n",
    "# sos = waveform.generate_iir_lpf(\n",
    "#     cutoff_Hz=source.analysis_bandwidth / 2, source.sample_rate=source.sample_rate, **filter_params\n",
    "# ).astype('float32')\n",
    "\n",
    "# out = iq.copy()\n",
    "\n",
    "# def test_iir():\n",
    "#     cuda_filter.sosfilt(sos, iq, out=out)\n",
    "\n",
    "# sos = cp.asarray(sos)\n",
    "# benchmark(test_iir, n_repeat=10, n_warmup=10)"
   ]
  },
  {
   "cell_type": "code",
   "execution_count": 2,
   "id": "c464a170-d257-4bec-8daa-ce79f434a4e2",
   "metadata": {
    "scrolled": true
   },
   "outputs": [
    {
     "name": "stdout",
     "output_type": "stream",
     "text": [
      "transform shape:  (4502, 768)\n",
      "transform shape:  (4502, 768)\n",
      "transform shape:  (4502, 768)\n",
      "transform shape:  (4502, 768)\n",
      "transform shape:  (4502, 768)\n",
      "transform shape:  (4502, 768)\n",
      "transform shape:  (4502, 768)\n",
      "transform shape:  (4502, 768)\n",
      "transform shape:  (4502, 768)\n",
      "transform shape:  (4502, 768)\n",
      "transform shape:  (4502, 768)\n",
      "transform shape:  (4502, 768)\n",
      "transform shape:  (4502, 768)\n",
      "transform shape:  (4502, 768)\n",
      "transform shape:  (4502, 768)\n",
      "transform shape:  (4502, 768)\n",
      "transform shape:  (4502, 768)\n",
      "transform shape:  (4502, 768)\n",
      "transform shape:  (4502, 768)\n",
      "transform shape:  (4502, 768)\n"
     ]
    },
    {
     "data": {
      "text/plain": [
       "test_ola            :    CPU: 20137.015 us   +/- 1444.155 (min: 17088.435 / max: 22335.162) us     GPU-0: 30764.128 us   +/- 2199.959 (min: 26018.400 / max: 33690.975) us"
      ]
     },
     "execution_count": 2,
     "metadata": {},
     "output_type": "execute_result"
    }
   ],
   "source": [
    "from iqwaveform import fourier\n",
    "from cupyx import scipy\n",
    "\n",
    "\n",
    "def test_stft(iq, Nfft=768, overlap_factor=2):\n",
    "    noverlap = Nfft // overlap_factor\n",
    "    freqs, times, X = fourier.spectrogram(\n",
    "        iq, fs=source.sample_rate, window='hamming', nperseg=Nfft, noverlap=noverlap\n",
    "    )\n",
    "    q = cp.array([0.1, 0.5, 0.9, 0.99, 0.999])\n",
    "    print(X.shape)\n",
    "\n",
    "    return cp.quantile(X[:, ::2], q, axis=1)\n",
    "\n",
    "\n",
    "def test_ola(iq):\n",
    "    fourier.ola_filter(\n",
    "        iq,\n",
    "        fs=source.sample_rate,\n",
    "        nperseg=768*2,\n",
    "        fft_size=1024,\n",
    "        window='blackman',\n",
    "        passband=(-source.analysis_bandwidth / 2, source.analysis_bandwidth / 2),\n",
    "    )\n",
    "\n",
    "\n",
    "# ola_filter(iq)\n",
    "benchmark(test_ola, (iq,), n_repeat=10, n_warmup=10)\n",
    "# benchmark(test_stft, (iq,), n_repeat=10, n_warmup=10)"
   ]
  },
  {
   "cell_type": "code",
   "execution_count": null,
   "id": "e4e7ec84-3484-4e41-9e70-da51d1201f77",
   "metadata": {},
   "outputs": [],
   "source": [
    "# X = test_stft(iq)\n",
    "\n",
    "# def test_contig():\n",
    "#     return X.view('float32')[::2]\n",
    "#     return cp.ascontiguousarray(X.T).view('float32')[:,::2].T\n",
    "\n",
    "# benchmark(test_contig, n_repeat=10, n_warmup=10)"
   ]
  },
  {
   "cell_type": "code",
   "execution_count": null,
   "id": "6b316e0a-cb8d-455c-99f4-2fad8a3be694",
   "metadata": {},
   "outputs": [],
   "source": [
    "import cupy as cp\n",
    "\n",
    "x = cp.array([1, 2, 3], dtype='complex64')\n",
    "x = cp.abs(x, out=x.view('float32')[::2])"
   ]
  }
 ],
 "metadata": {
  "kernelspec": {
   "display_name": "Python 3 (ipykernel)",
   "language": "python",
   "name": "python3"
  },
  "language_info": {
   "codemirror_mode": {
    "name": "ipython",
    "version": 3
   },
   "file_extension": ".py",
   "mimetype": "text/x-python",
   "name": "python",
   "nbconvert_exporter": "python",
   "pygments_lexer": "ipython3",
   "version": "3.9.19"
  }
 },
 "nbformat": 4,
 "nbformat_minor": 5
}
