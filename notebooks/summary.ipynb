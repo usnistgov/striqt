{
 "cells": [
  {
   "attachments": {},
   "cell_type": "markdown",
   "id": "5d2d4a6e",
   "metadata": {
    "tags": []
   },
   "source": [
    "# Demo SEA data calculations\n",
    "This demonstrates the use of low-level routines to replicate signal analysis performed by SEA.\n",
    "\n",
    "Each analysis product is returned as a `xarray.DataArray`. At the end, they are merged into a single `xarray.Dataset` containing all all the different data results along with their labels, coordinates, and metadata."
   ]
  },
  {
   "cell_type": "code",
   "execution_count": null,
   "id": "df170dc8",
   "metadata": {},
   "outputs": [],
   "source": [
    "from matplotlib import pyplot as plt\n",
    "import channel_analysis\n",
    "from channel_analysis import figures\n",
    "import iqwaveform\n",
    "\n",
    "plt.style.use('iqwaveform.ieee_double_column')\n",
    "\n",
    "dataset = channel_analysis.load('20241122-11h25m59.zarr.zip').set_xindex(\n",
    "    ['antenna_name', 'center_frequency']\n",
    ")\n",
    "dataset"
   ]
  },
  {
   "cell_type": "code",
   "execution_count": null,
   "id": "7b70efb8",
   "metadata": {},
   "outputs": [],
   "source": [
    "fc = 3750e6\n",
    "antenna_name = 'Reference'\n",
    "\n",
    "cyclic_power = dataset.cyclic_channel_power.sel(\n",
    "    antenna_name=antenna_name, center_frequency=fc\n",
    ")\n",
    "figures.plot_cyclic_channel_power(cyclic_power)\n",
    "\n",
    "plt.subplots()\n",
    "(\n",
    "    dataset.cellular_cyclic_autocorrelation.sel(\n",
    "        link_direction='downlink', subcarrier_spacing=30e3, drop=True\n",
    "    )\n",
    "    .sel(center_frequency=fc)\n",
    "    .plot.line(x='cyclic_sample_lag')\n",
    ")\n",
    "plt.subplots()\n",
    "(\n",
    "    dataset.persistence_spectrum.sel(\n",
    "        center_frequency=fc,\n",
    "        persistence_statistic=['mean', 'max'],\n",
    "        antenna_name=antenna_name,\n",
    "    )\n",
    "    .squeeze(drop=True)\n",
    "    .plot.line(x='baseband_frequency')\n",
    ")\n",
    "plt.subplots()\n",
    "dataset.spectrogram_histogram.sel(\n",
    "    spectrogram_power_bin=slice(-120, -60), center_frequency=fc\n",
    ").plot.line(x='spectrogram_power_bin')\n",
    "plt.subplots()\n",
    "dataset.spectrogram.sel(center_frequency=fc, antenna_name=antenna_name).plot();"
   ]
  }
 ],
 "metadata": {
  "kernelspec": {
   "display_name": "flex-spectrum-sensor",
   "language": "python",
   "name": "python3"
  },
  "language_info": {
   "codemirror_mode": {
    "name": "ipython",
    "version": 3
   },
   "file_extension": ".py",
   "mimetype": "text/x-python",
   "name": "python",
   "nbconvert_exporter": "python",
   "pygments_lexer": "ipython3",
   "version": "3.9.20"
  }
 },
 "nbformat": 4,
 "nbformat_minor": 5
}
